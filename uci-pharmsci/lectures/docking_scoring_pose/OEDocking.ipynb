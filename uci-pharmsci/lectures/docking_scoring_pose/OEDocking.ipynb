{
 "cells": [
  {
   "cell_type": "markdown",
   "metadata": {},
   "source": [
    "# Docking molecules into a pre-defined binding site\n",
    "\n",
    "In previous tutorials, you should have learned how to generate the full 3D structures starting from a given SMILES string. Now, we will take those 3D molecules and dock them into a pre-prepared receptor file that has the protein binding site already defined. To prepare a receptor file for docking, see the [MAKE_RECEPTOR](https://docs.eyesopen.com/applications/oedocking/make_receptor/make_receptor_gui_layout.html) docs for the OpenEye Toolkits, or you can also do this via the command line. This particular example uses a prepared receptor of soluble epoxide hydrolase that we have been working on for research purposes.\n",
    "\n",
    "In this tutorial we will be using the docking method [FRED](https://docs.eyesopen.com/applications/oedocking/fred/fred.html) which is used in cases where the protein does not have a bound ligand, but we define a region or box to dock our molecules to."
   ]
  },
  {
   "cell_type": "code",
   "execution_count": 1,
   "metadata": {},
   "outputs": [],
   "source": [
    "#Import our required openeye modules\n",
    "from openeye import oechem, oedocking"
   ]
  },
  {
   "cell_type": "code",
   "execution_count": 2,
   "metadata": {},
   "outputs": [],
   "source": [
    "#Define file path and initialize receptor variable\n",
    "receptor_file = 'sEH-receptor.oeb'\n",
    "receptor = oechem.OEGraphMol()\n",
    "\n",
    "#Read in our receptor from disc\n",
    "if not oedocking.OEReadReceptorFile( receptor, str( receptor_file ) ):\n",
    "    # raise an exception if the receptor file cannot be read\n",
    "    raise Exception(\"Unable to read receptor from {0}\".format( receptor_file ))"
   ]
  },
  {
   "cell_type": "code",
   "execution_count": 3,
   "metadata": {},
   "outputs": [],
   "source": [
    "#Set the docking method and other paramters\n",
    "# Note: Chemgauss4 is the scoring function for FRED\n",
    "dock_method = oedocking.OEDockMethod_Chemgauss4\n",
    "dock_resolution = oedocking.OESearchResolution_Default\n",
    "sdtag = oedocking.OEDockMethodGetName( dock_method )\n",
    "\n",
    "#Generate our OEDocking object\n",
    "dock = oedocking.OEDock( dock_method, dock_resolution)\n",
    "\n",
    "#Initialize the OEDocking by providing it the receptor\n",
    "if not dock.Initialize(receptor):\n",
    "    # raise an exception if the receptor cannot be initialized\n",
    "    raise Exception(\"Unable to initialize Docking with {0}\".format(self.args.receptor))"
   ]
  },
  {
   "cell_type": "markdown",
   "metadata": {},
   "source": [
    "Now that we have initialized our OEDocking object with our receptor, let's write a function that will take in the following input parameters:\n",
    "    - dock: OEDock object\n",
    "    - sdtag: string representing the name of the docking method\n",
    "    - numpose: int with the number of poses to generate for each ligand\n",
    "    - mcmol: multicomformer molecule"
   ]
  },
  {
   "cell_type": "code",
   "execution_count": 4,
   "metadata": {},
   "outputs": [],
   "source": [
    "def dock_molecule( dock: \"OEDock\", sdtag: str, num_poses: int, mcmol ) -> tuple:\n",
    "    ''' Docks the multiconfomer molecule, with the given number of poses\n",
    "        Returns a tuple of the docked molecule (dockedMol) and its score\n",
    "        i.e. ( dockedMol, score )\n",
    "    '''\n",
    "    dockedMol = oechem.OEMol()\n",
    "\n",
    "    #Dock the molecule into a given number of poses\n",
    "    res = dock.DockMultiConformerMolecule(dockedMol, mcmol, num_poses)\n",
    "    \n",
    "    if res == oedocking.OEDockingReturnCode_Success:\n",
    "        \n",
    "        #Annotate the molecule with the score and SDTag that contains the docking method\n",
    "        oedocking.OESetSDScore(dockedMol, dock, sdtag)\n",
    "        dock.AnnotatePose(dockedMol)\n",
    "        score = dock.ScoreLigand(dockedMol)\n",
    "        oechem.OESetSDData(dockedMol, sdtag, \"{}\".format(score))\n",
    "        return dockedMol, score\n",
    "    \n",
    "    else:\n",
    "        # raise an exception if the docking is not successful\n",
    "        raise Exception(\"Unable to dock ligand {0} to receptor\".format( dockedMol ))"
   ]
  },
  {
   "cell_type": "markdown",
   "metadata": {},
   "source": [
    "With the docking function written, we can then loop over our 3D molecules and dock them to the given receptor"
   ]
  },
  {
   "cell_type": "code",
   "execution_count": 5,
   "metadata": {},
   "outputs": [
    {
     "name": "stdout",
     "output_type": "stream",
     "text": [
      "Chemgauss4 V2Z_1 score = -10.9727\n",
      "Chemgauss4 6NM_2 score = -13.2475\n",
      "Chemgauss4 6NM_1 score = -13.2475\n",
      "Chemgauss4 KWB_1 score = -10.9835\n",
      "Chemgauss4 6NJ_1 score = -11.8036\n",
      "Chemgauss4 6NJ_2 score = -12.4998\n",
      "Chemgauss4 FCW_1 score = -11.4156\n",
      "Chemgauss4 BSU_1 score = -11.1120\n",
      "Chemgauss4 WMR_1 score = -10.1665\n",
      "Chemgauss4 5ZM_1 score = -11.8019\n",
      "Chemgauss4 6NF_1 score = -10.8490\n",
      "Chemgauss4 WMR_2 score = -11.9051\n",
      "Chemgauss4 GZP_1 score = -12.5916\n",
      "Chemgauss4 6NF_2 score = -10.8490\n",
      "Chemgauss4 9XZ_1 score = -11.3263\n",
      "Chemgauss4 T5J_1 score = -12.8236\n",
      "Chemgauss4 LWS_1 score = -10.4013\n",
      "Chemgauss4 B7H_1 score = -11.0292\n",
      "Chemgauss4 6NZ_1 score = -11.2793\n",
      "Chemgauss4 8TM_1 score = -12.7867\n",
      "Chemgauss4 DUL_1 score = -12.0421\n",
      "Chemgauss4 7GM_1 score = -10.6482\n",
      "Chemgauss4 JQN_1 score = -11.9056\n"
     ]
    }
   ],
   "source": [
    "#Define how many docked poses to generate per molecule\n",
    "num_poses = 2\n",
    "\n",
    "#Read in our 3D molecules \n",
    "with oechem.oemolistream('c0-chgd.oeb.gz') as ifs:\n",
    "    \n",
    "    #Open a filestream for writing the docked molecules\n",
    "    with oechem.oemolostream( 'c0-dockd.oeb.gz') as ofs:\n",
    "        \n",
    "        #Loop over 3D molecules from the input filestream\n",
    "        for mcmol in ifs.GetOEMols():\n",
    "            \n",
    "            #Call our written docking function\n",
    "            dockedMol, score = dock_molecule( dock, sdtag, num_poses, mcmol )\n",
    "            print(\"{} {} score = {:.4f}\".format(sdtag, dockedMol.GetTitle(), score))\n",
    "            \n",
    "            #Write docked molecules to output filestream\n",
    "            oechem.OEWriteMolecule(ofs, dockedMol)"
   ]
  },
  {
   "cell_type": "markdown",
   "metadata": {},
   "source": [
    "# Visualizing the ligands\n",
    "\n",
    "To visualize the ligands in their docked poses, you can use OpenEye's visualization application called [VIDA](https://www.eyesopen.com/vida) if you download and install it; alternatively you can write out your receptor to a PDB file and your ligands to files (such as mol2 files) and visualize with another viewer such as PyMol or Chimera. If you wish to use Vida, click \"support -> downloads\" at the top, fill in your information, and click \"downloads\"; find the appropriate version of Vida and install it. Using it will require your OpenEye license to be installed.\n",
    "\n",
    "Assuming you are using Vida, if you want to view ligands within the binding site you will need to load both the docked molecules file and the receptor file.\n",
    "> vida c0-dockd.oeb.gz  sEH-receptor.oeb\n",
    "\n",
    "\n",
    "## Changing the view settings\n",
    "If the protein is not being displayed at first, simply toggle the green button from the list view menu (shown below):\n",
    "![Toggle](imgs/listview.png)\n",
    "\n",
    "\n",
    "I like to turn on the ribbon representation for the protein (shown below):\n",
    "![Ribbons](imgs/ribbons.png)\n",
    "\n",
    "\n",
    "Now, if you toggle the green button from the list view for the ligands, you will see the 2 docked poses generated for the selected ligand. You can also hit `Center` to move the ligand into the center view.\n",
    "![Ligands](imgs/listligand.png)\n",
    "![6NJ_1-poses](imgs/6NJ_1-poses.png)\n"
   ]
  },
  {
   "cell_type": "markdown",
   "metadata": {},
   "source": [
    "# Acknowledgements\n",
    "\n",
    "- Authors: Meghan Osato, Nathan M. Lim\n",
    "- Edited by D. Mobley"
   ]
  }
 ],
 "metadata": {
  "kernelspec": {
   "display_name": "Python [conda env:drugcomp]",
   "language": "python",
   "name": "conda-env-drugcomp-py"
  },
  "language_info": {
   "codemirror_mode": {
    "name": "ipython",
    "version": 3
   },
   "file_extension": ".py",
   "mimetype": "text/x-python",
   "name": "python",
   "nbconvert_exporter": "python",
   "pygments_lexer": "ipython3",
   "version": "3.7.6"
  },
  "toc": {
   "nav_menu": {},
   "number_sections": true,
   "sideBar": true,
   "skip_h1_title": false,
   "toc_cell": false,
   "toc_position": {},
   "toc_section_display": "block",
   "toc_window_display": false
  }
 },
 "nbformat": 4,
 "nbformat_minor": 2
}
