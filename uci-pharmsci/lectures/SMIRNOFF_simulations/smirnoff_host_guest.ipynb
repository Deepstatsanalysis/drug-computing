{
 "cells": [
  {
   "cell_type": "markdown",
   "metadata": {},
   "source": [
    "# Host-guest complex setup and simulation using SMIRNOFF\n",
    "\n",
    "This notebook takes a SMILES string for a guest and a 3D structure for a host, and generates an initial structure of the complex using docking. It then proceeds to solvate, parameterize the system, and then minimize and do a short simulation with OpenMM.\n",
    "\n",
    "Please note this is intended for educational purposes and comprises a worked example, not a polished tool. The usual disclaimers apply -- don't take anything here as advice on how you should set up these types of systems; this is just an example of setting up a nontrivial system with SMIRNOFF.\n",
    "\n",
    "*Author - David Mobley (UC Irvine)*\n",
    "\n",
    "## Prerequisites\n",
    "\n",
    "We'll assume you have installed the course prerequisites as detailed in the [getting started instructions](https://github.com/MobleyLab/drug-computing/blob/master/uci-pharmsci/getting-started.md) for this course.\n",
    "\n",
    "## Import some tools we need initially\n",
    "(Let's do this early so you can fail quickly if you don't have the tools you need)"
   ]
  },
  {
   "cell_type": "code",
   "execution_count": 1,
   "metadata": {},
   "outputs": [
    {
     "name": "stdout",
     "output_type": "stream",
     "text": [
      "Is your OEChem licensed?  True\n"
     ]
    },
    {
     "name": "stderr",
     "output_type": "stream",
     "text": [
      "RDKit WARNING: [11:34:48] Enabling RDKit 2019.09.3 jupyter extensions\n"
     ]
    }
   ],
   "source": [
    "from openeye import oechem # OpenEye Python toolkits\n",
    "import oenotebook as oenb\n",
    "# Check license\n",
    "print(\"Is your OEChem licensed? \", oechem.OEChemIsLicensed())\n",
    "from openeye import oeomega # Omega toolkit\n",
    "from openeye import oequacpac #Charge toolkit\n",
    "from openeye import oedocking # Docking toolkit\n",
    "from oeommtools import utils as oeommutils # Tools for OE/OpenMM\n",
    "from simtk import unit #Unit handling for OpenMM\n",
    "from simtk.openmm import app\n",
    "from simtk.openmm.app import PDBFile\n",
    "\n",
    "from openforcefield.typing.engines.smirnoff import *\n",
    "\n",
    "import os\n",
    "\n",
    "from pdbfixer import PDBFixer # for solvating"
   ]
  },
  {
   "cell_type": "markdown",
   "metadata": {},
   "source": [
    "## Configuration for your run\n",
    "\n",
    "We'll use this to configure where to get input files, where to write output files, etc. We draw on the SAMPL7 blind challenge for host-guest binding."
   ]
  },
  {
   "cell_type": "code",
   "execution_count": 2,
   "metadata": {},
   "outputs": [],
   "source": [
    "# Where will we write outputs? Directory will be created if it does not exist\n",
    "datadir = 'datafiles'\n",
    "\n",
    "# Where will we download the host file from? The below is an uncharged host\n",
    "host_source = 'https://raw.githubusercontent.com/samplchallenges/SAMPL7/master/host_guest/GDCC_and_guests/host_files/exoOA.mol2' #Exo octa acid\n",
    "#host_source = 'exoOA.mol2'\n",
    "\n",
    "# What SMILES string for the guest? Should be isomeric SMILES\n",
    "# See https://github.com/samplchallenges/SAMPL7/blob/master/host_guest/GDCC_and_guests/guest_files/GDCC_guest_smiles.txt \n",
    "# for more SAMPL7 \n",
    "guest_smiles = 'CCCCCC([O-])=O' # SAMPL7 guest 1\n",
    "\n",
    "# Another useful source of host-guest files is the benchmarksets repo, e.g. github.com/mobleylab/benchmarksets\n",
    "# This notebook has also been tested on CB7 Set 1 host-cb7.mol2 with SMILES CC12CC3CC(C1)(CC(C3)(C2)[NH3+])C."
   ]
  },
  {
   "cell_type": "markdown",
   "metadata": {},
   "source": [
    "## Quickly draw your guest and make sure it's what you intended\n",
    "\n",
    "OENotebook is super useful and powerful; see https://www.eyesopen.com/notebooks-directory. Here we only use a very small amount of what's available, drawing on http://notebooks.eyesopen.com/introduction-to-oenb.html"
   ]
  },
  {
   "cell_type": "code",
   "execution_count": 3,
   "metadata": {},
   "outputs": [
    {
     "data": {
      "image/png": "[encoded data removed]",
      "text/plain": [
       "<IPython.core.display.Image object>"
      ]
     },
     "execution_count": 3,
     "metadata": {},
     "output_type": "execute_result"
    }
   ],
   "source": [
    "# Create empty OEMol\n",
    "mol = oechem.OEMol()\n",
    "# Convert SMILES\n",
    "oechem.OESmilesToMol(mol, guest_smiles)\n",
    "# Draw\n",
    "oenb.draw_mol(mol)"
   ]
  },
  {
   "cell_type": "markdown",
   "metadata": {},
   "source": [
    "# Get host file and prep it for docking\n",
    "(Note that we are going to skip charge assignment for the purposes of this example, because it's slow. So you want to use an input file which has provided charges, OR add charge assignment.)\n",
    "\n",
    "## Retrieve host file, do file bookkeeping"
   ]
  },
  {
   "cell_type": "code",
   "execution_count": 4,
   "metadata": {},
   "outputs": [],
   "source": [
    "# Output host and guest files\n",
    "if not 'http' in host_source:\n",
    "    hostfile = os.path.join(datadir, host_source)\n",
    "else: \n",
    "    hostfile = os.path.join(datadir, os.path.basename(host_source))\n",
    "guestfile = os.path.join(datadir, 'guest.mol2')\n",
    "\n",
    "# Create data dir if not present\n",
    "if not os.path.isdir(datadir):\n",
    "    os.mkdir(datadir)\n",
    "\n",
    "# Set host file name and retrieve file\n",
    "if 'http' in host_source:\n",
    "    import urllib\n",
    "    urllib.request.urlretrieve(host_source, hostfile)\n",
    "else:\n",
    "    import shutil\n",
    "    shutil.copy(host_source, hostfile)"
   ]
  },
  {
   "cell_type": "markdown",
   "metadata": {},
   "source": [
    "## Assign partial charges to host\n",
    "\n",
    "**(Skip this step -- which is slow -- if you are using the exoOA example provided, as it'll save you a good deal of time).**\n",
    "\n",
    "We do this here because otherwise, OpenFF will attempt to assign charges to the host, but this will cause problems for technical reasons relating to conformer generation for macrocyclic systems (which these hosts are)."
   ]
  },
  {
   "cell_type": "code",
   "execution_count": null,
   "metadata": {},
   "outputs": [],
   "source": [
    "# Make file name for charged host\n",
    "hostfile_charged = hostfile.replace('.mol2', '_charged.mol2')\n",
    "\n",
    "import openeye.oechem as oechem\n",
    "import openeye.oequacpac as quacpacpac\n",
    "\n",
    "# Read molecule\n",
    "host_mol = oechem.OEMol()\n",
    "ifile = oechem.oemolistream(hostfile)\n",
    "oechem.OEReadMolecule(ifile, host_mol)\n",
    "ifile.close()\n",
    "\n",
    "#Assign charges\n",
    "oequacpac.OEAssignCharges(host_mol, oequacpac.OEAM1BCCCharges())\n",
    "\n",
    "# Write out molecule\n",
    "ofile= oechem.oemolostream(hostfile_charged)\n",
    "oechem.OEWriteMolecule(ofile, host_mol)\n",
    "ofile.close()"
   ]
  },
  {
   "cell_type": "markdown",
   "metadata": {},
   "source": [
    "## Prep host file for docking\n",
    "\n",
    "Here we'll load the host and prepare for docking, which takes a bit of time as it has to get prepared as a \"receptor\" for docking into"
   ]
  },
  {
   "cell_type": "code",
   "execution_count": 14,
   "metadata": {},
   "outputs": [
    {
     "data": {
      "text/plain": [
       "True"
      ]
     },
     "execution_count": 14,
     "metadata": {},
     "output_type": "execute_result"
    }
   ],
   "source": [
    "# Read in host file\n",
    "hostfile_charged = hostfile.replace('.mol2', '_charged.mol2')\n",
    "ifile = oechem.oemolistream(hostfile_charged)\n",
    "host = oechem.OEMol()\n",
    "oechem.OEReadMolecule( ifile, host)\n",
    "ifile.close()\n",
    "\n",
    "# Prepare a receptor - Start by getting center of mass to use as a hint for where to dock\n",
    "com = oechem.OEFloatArray(3)\n",
    "oechem.OEGetCenterOfMass(host, com) \n",
    "\n",
    "# Create receptor, as per https://docs.eyesopen.com/toolkits/python/dockingtk/receptor.html#creating-a-receptor\n",
    "receptor = oechem.OEGraphMol()\n",
    "oedocking.OEMakeReceptor(receptor, host, com[0], com[1], com[2])"
   ]
  },
  {
   "cell_type": "markdown",
   "metadata": {},
   "source": [
    "## Generate 3D structure of our guest and dock it"
   ]
  },
  {
   "cell_type": "code",
   "execution_count": 15,
   "metadata": {},
   "outputs": [],
   "source": [
    "#initialize omega for conformer generation\n",
    "omega = oeomega.OEOmega()\n",
    "omega.SetMaxConfs(100) #Generate up to 100 conformers since we'll use for docking\n",
    "omega.SetIncludeInput(False)\n",
    "omega.SetStrictStereo(True) #Refuse to generate conformers if stereochemistry not provided\n",
    "\n",
    "#Initialize charge generation\n",
    "chargeEngine = oequacpac.OEAM1BCCCharges()\n",
    "\n",
    "# Initialize docking\n",
    "dock = oedocking.OEDock()\n",
    "dock.Initialize(receptor)\n",
    "\n",
    "# Build OEMol from SMILES\n",
    "# Generate new OEMol and parse SMILES\n",
    "mol = oechem.OEMol()\n",
    "oechem.OEParseSmiles( mol, guest_smiles)\n",
    "# Set to use a simple neutral pH model \n",
    "oequacpac.OESetNeutralpHModel(mol)\n",
    "\n",
    "# Generate conformers with Omega; keep only best conformer\n",
    "status = omega(mol)\n",
    "if not status:\n",
    "    print(\"Error generating conformers for %s.\" % (guest_smiles))\n",
    "    #print(smi, name, mol.NumAtoms()) #Print debug info -- make sure we're getting protons added as we should\n",
    "\n",
    "# Assign AM1-BCC charges\n",
    "oequacpac.OEAssignCharges(mol, chargeEngine)\n",
    "\n",
    "# Dock to host\n",
    "dockedMol = oechem.OEGraphMol()\n",
    "status = dock.DockMultiConformerMolecule(dockedMol, mol) #By default returns only top scoring pose\n",
    "sdtag = oedocking.OEDockMethodGetName(oedocking.OEDockMethod_Chemgauss4)\n",
    "oedocking.OESetSDScore(dockedMol, dock, sdtag)\n",
    "dock.AnnotatePose(dockedMol)\n",
    "\n",
    "# Write out docked pose if docking successful\n",
    "if status == oedocking.OEDockingReturnCode_Success:\n",
    "    outmol = dockedMol\n",
    "\n",
    "    # Write out\n",
    "    tripos_mol2_filename = os.path.join(os.path.join(datadir, 'docked_guest.mol2'))\n",
    "    ofile = oechem.oemolostream( tripos_mol2_filename )\n",
    "    oechem.OEWriteMolecule( ofile, outmol)\n",
    "    ofile.close()\n",
    "\n",
    "    # Clean up residue names in mol2 files that are tleap-incompatible: replace substructure names with valid text.\n",
    "    infile = open( tripos_mol2_filename, 'r')\n",
    "    lines = infile.readlines()\n",
    "    infile.close()\n",
    "    newlines = [line.replace('<0>', 'GUEST') for line in lines]\n",
    "    outfile = open(tripos_mol2_filename, 'w')\n",
    "    outfile.writelines(newlines)\n",
    "    outfile.close()\n",
    "else:\n",
    "    raise Exception(\"Error: Docking failed.\")"
   ]
  },
  {
   "cell_type": "markdown",
   "metadata": {},
   "source": [
    "## Visualize in 3D to make sure we placed the guest into the binding site\n",
    "This is optional, but very helpful to make sure you're starting off with your guest in the binding site. To execute this you'll need `nglview` for visualization and `mdtraj` for working with trajectory files"
   ]
  },
  {
   "cell_type": "code",
   "execution_count": 19,
   "metadata": {},
   "outputs": [
    {
     "data": {
      "application/vnd.jupyter.widget-view+json": {
       "model_id": "df40fea2cf9844c1842097b46fe4acf0",
       "version_major": 2,
       "version_minor": 0
      },
      "text/plain": [
       "NGLWidget()"
      ]
     },
     "metadata": {},
     "output_type": "display_data"
    }
   ],
   "source": [
    "# Import modules\n",
    "import nglview\n",
    "import mdtraj\n",
    "\n",
    "# Load host structure (\"trajectory\")\n",
    "traj = mdtraj.load(os.path.join(datadir, 'host.mol2'))\n",
    "# Load guest structure\n",
    "lig = mdtraj.load(os.path.join(tripos_mol2_filename))\n",
    "                  \n",
    "# Figure out which atom indices correspond to the guest, for use in visualization\n",
    "atoms_guest = [ traj.n_atoms+i for i in range(lig.n_atoms)]\n",
    "\n",
    "# \"Stack\" host and guest Trajectory objects into a single object\n",
    "complex = traj.stack(lig)\n",
    "\n",
    "# Visualize\n",
    "view = nglview.show_mdtraj(complex)\n",
    "view.add_representation('spacefill', selection=\"all\")\n",
    "view.add_representation('spacefill', selection=atoms_guest, color='blue')  #Adjust guest to show as blue for contrast\n",
    "# The view command needs to be the last command issued to nglview\n",
    "view"
   ]
  },
  {
   "cell_type": "markdown",
   "metadata": {},
   "source": [
    "# Solvate complex\n",
    "\n",
    "Now we generate a single PDB file of our complex (host+guest) and solvate it using PDBFixer, writing the output to a PDB file in case we'd like to visualize this. We also include conterions (sodium and chloride) at a specified concentration; here that works out to be about one ion of each."
   ]
  },
  {
   "cell_type": "code",
   "execution_count": 20,
   "metadata": {},
   "outputs": [
    {
     "name": "stdout",
     "output_type": "stream",
     "text": [
      "Host+guest number of atoms 211\n",
      "Number of atoms after applying PDBFixer: 4554\n"
     ]
    }
   ],
   "source": [
    "# Join OEMols into complex\n",
    "complex = host.CreateCopy()\n",
    "oechem.OEAddMols( complex, outmol)\n",
    "print(\"Host+guest number of atoms %s\" % complex.NumAtoms())\n",
    "\n",
    "# Write out complex PDB file \n",
    "ostream = oechem.oemolostream( os.path.join(datadir, 'complex.pdb'))\n",
    "oechem.OEWriteMolecule( ostream, complex)\n",
    "ostream.close()\n",
    "\n",
    "# Solvate the system using PDBFixer\n",
    "fixer = PDBFixer( os.path.join(datadir, 'complex.pdb'))\n",
    "\n",
    "# Solvate in 20 mM NaCl and water\n",
    "fixer.addSolvent(padding=unit.Quantity( 1.0, unit.nanometers), ionicStrength=unit.Quantity( 20, unit.millimolar))\n",
    "print(\"Number of atoms after applying PDBFixer: %s\" % fixer.topology.getNumAtoms())\n",
    "\n",
    "\n",
    "# Write file of solvated system for visualization purposes \n",
    "PDBFile.writeFile(fixer.topology, fixer.positions, open(os.path.join(datadir, 'complex_solvated.pdb'), 'w'))"
   ]
  },
  {
   "cell_type": "markdown",
   "metadata": {},
   "source": [
    "# Apply SMIRNOFF to set up the system for simulation with OpenMM\n",
    "\n",
    "Next, we apply a SMIRNOFF force field (OpenFF 1.0, \"Parsley\") to the system to set it up for simulation with OpenMM (or writing out, via ParmEd, to formats for use in a variety of other simulation packages).\n",
    "\n",
    "Prepping a system with SMIRNOFF takes basically three components:\n",
    "- The structure of the system (here, the PDB file of the solvated complex coming out of PDBFixer, above)\n",
    "- OEMol objects for the components of the system (here host, guest, water and ions)\n",
    "- The force field XML files\n",
    "\n",
    "Here, we do not yet have OEMol objects for the ions so our first step is to generate those, and combine it with the host and guest OEMols\n",
    "\n",
    "## Build a list of OEMols of all our components"
   ]
  },
  {
   "cell_type": "code",
   "execution_count": 21,
   "metadata": {},
   "outputs": [],
   "source": [
    "# Keep a list of OEMols of our components\n",
    "oemols = [] \n",
    "\n",
    "# Build ions from SMILES strings\n",
    "smiles = ['[Na+]', '[Cl-]']\n",
    "for smi in smiles:\n",
    "    mol = oechem.OEMol()\n",
    "    oechem.OESmilesToMol(mol, smi)\n",
    "    # Make sure we have partial charges assigned for these (monatomic, so equal to formal charge)\n",
    "    for atom in mol.GetAtoms():\n",
    "        atom.SetPartialCharge(atom.GetFormalCharge())\n",
    "\n",
    "    oemols.append(mol)\n",
    "\n",
    "# Build water reference molecule\n",
    "mol = oechem.OEMol()\n",
    "oechem.OESmilesToMol(mol, 'O')\n",
    "oechem.OEAddExplicitHydrogens(mol)\n",
    "oechem.OETriposAtomNames(mol)\n",
    "oemols.append(mol)\n",
    "    \n",
    "# Add oemols of host and guest\n",
    "oemols.append(host)\n",
    "oemols.append(outmol)\n",
    "\n",
    "# Make a separate list of the molecules we have which already have assigned partial charges, to feed in as pre-charged\n",
    "charged_oemols = [ oemols[0], oemols[1], host]"
   ]
  },
  {
   "cell_type": "markdown",
   "metadata": {},
   "source": [
    "## Load our force field and parameterize the system\n",
    "\n",
    "This uses the SMIRNOFF ForceField class and SMIRNOFF XML files to parameterize the system."
   ]
  },
  {
   "cell_type": "code",
   "execution_count": 24,
   "metadata": {},
   "outputs": [],
   "source": [
    "# Load force fields for small molecules (plus default ions), water\n",
    "\n",
    "from openforcefield.topology import Molecule, Topology\n",
    "from openforcefield.typing.engines.smirnoff import ForceField\n",
    "ff = ForceField('openff-1.0.0.offxml', 'test_forcefields/tip3p.offxml') \n",
    "\n",
    "\n",
    "# Build list of OpenFF Molecules for passing into topology creation\n",
    "mols = []\n",
    "charged_mols= []\n",
    "for mol in oemols:\n",
    "    mols.append(Molecule.from_openeye(mol))\n",
    "for mol in charged_oemols:\n",
    "    charged_mols.append(Molecule.from_openeye(mol))\n",
    "    \n",
    "# Create OpenFF Topology\n",
    "off_topology = Topology.from_openmm(openmm_topology=fixer.topology,\n",
    "                                    unique_molecules=mols)\n",
    "\n",
    "# Parametrize the system. \n",
    "# Here our host molecule has pre-assigned partial charges to (a) accelerate the calculation, and\n",
    "# (b) avoid potential problems OpenEye sometimes has with generating conformers for host molecules\n",
    "# (under the hood, OpenFF generates conformers for molecules before charging them)\n",
    "# This is also true for ions\n",
    "system = ff.create_openmm_system(off_topology, charge_from_molecules = charged_mols)\n"
   ]
  },
  {
   "cell_type": "markdown",
   "metadata": {},
   "source": [
    "# Minimize and (very briefly) simulate our system\n",
    "\n",
    "Here we will do an energy minimization, followed by a very very brief simulation. These are done in separate cells since OpenMM is quite slow on CPUs so you may not want to run the simulation on your computer if you are using a CPU.\n",
    "\n",
    "## Finalize prep and energy minimize\n"
   ]
  },
  {
   "cell_type": "code",
   "execution_count": 25,
   "metadata": {},
   "outputs": [
    {
     "name": "stdout",
     "output_type": "stream",
     "text": [
      "Energy before minimization (kcal/mol): -7e+02\n",
      "Energy after minimization (kcal/mol): -1.7e+04\n"
     ]
    }
   ],
   "source": [
    "import simtk.openmm as openmm\n",
    "\n",
    "# Even though we're just going to minimize, we still have to set up an integrator, since a Simulation needs one\n",
    "integrator = openmm.VerletIntegrator(2.0*unit.femtoseconds)\n",
    "# Prep the Simulation using the parameterized system, the integrator, and the topology\n",
    "simulation = app.Simulation(fixer.topology, system, integrator)\n",
    "# Copy in the positions\n",
    "simulation.context.setPositions( fixer.positions) \n",
    "\n",
    "# Get initial state and energy; print\n",
    "state = simulation.context.getState(getEnergy = True)\n",
    "energy = state.getPotentialEnergy() / unit.kilocalories_per_mole\n",
    "print(\"Energy before minimization (kcal/mol): %.2g\" % energy)\n",
    "\n",
    "# Minimize, get final state and energy and print\n",
    "simulation.minimizeEnergy()\n",
    "state = simulation.context.getState(getEnergy=True, getPositions=True)\n",
    "energy = state.getPotentialEnergy() / unit.kilocalories_per_mole\n",
    "print(\"Energy after minimization (kcal/mol): %.2g\" % energy)\n",
    "newpositions = state.getPositions()"
   ]
  },
  {
   "cell_type": "markdown",
   "metadata": {},
   "source": [
    "## Run an MD simulation of a few steps, storing a trajectory for visualization"
   ]
  },
  {
   "cell_type": "code",
   "execution_count": 26,
   "metadata": {},
   "outputs": [
    {
     "name": "stdout",
     "output_type": "stream",
     "text": [
      "Starting simulation\n"
     ]
    },
    {
     "name": "stderr",
     "output_type": "stream",
     "text": [
      "/Users/dmobley/anaconda3/envs/drugcomp/lib/python3.7/site-packages/ipykernel_launcher.py:21: DeprecationWarning: time.clock has been deprecated in Python 3.3 and will be removed from Python 3.8: use time.perf_counter or time.process_time instead\n"
     ]
    },
    {
     "name": "stdout",
     "output_type": "stream",
     "text": [
      "Elapsed time 1.28 seconds\n",
      "Done!\n"
     ]
    },
    {
     "name": "stderr",
     "output_type": "stream",
     "text": [
      "/Users/dmobley/anaconda3/envs/drugcomp/lib/python3.7/site-packages/ipykernel_launcher.py:23: DeprecationWarning: time.clock has been deprecated in Python 3.3 and will be removed from Python 3.8: use time.perf_counter or time.process_time instead\n"
     ]
    }
   ],
   "source": [
    "# Set up NetCDF reporter for storing trajectory; prep for Langevin dynamics\n",
    "import time\n",
    "from mdtraj.reporters import NetCDFReporter\n",
    "integrator = openmm.LangevinIntegrator(300*unit.kelvin, 1./unit.picosecond, 2.*unit.femtoseconds)\n",
    "\n",
    "# Prep Simulation\n",
    "simulation = app.Simulation(fixer.topology, system, integrator)\n",
    "# Copy in minimized positions\n",
    "simulation.context.setPositions(newpositions)\n",
    "\n",
    "# Initialize velocities to correct temperature\n",
    "simulation.context.setVelocitiesToTemperature(300*unit.kelvin)\n",
    "# Set up to write trajectory file to NetCDF file in data directory every 100 frames\n",
    "netcdf_reporter = NetCDFReporter(os.path.join(datadir, 'trajectory.nc'), 100) #Store every 100 frames\n",
    "# Initialize reporters, including a CSV file to store certain stats every 100 frames\n",
    "simulation.reporters.append(netcdf_reporter)\n",
    "simulation.reporters.append(app.StateDataReporter(os.path.join(datadir, 'data.csv'), 100, step=True, potentialEnergy=True, temperature=True, density=True))\n",
    "\n",
    "# Run the simulation and print start info; store timing\n",
    "print(\"Starting simulation\")\n",
    "start = time.clock()\n",
    "simulation.step(1000) #1000 steps of dynamics\n",
    "end = time.clock()\n",
    "\n",
    "# Print elapsed time info, finalize trajectory file\n",
    "print(\"Elapsed time %.2f seconds\" % (end-start))\n",
    "netcdf_reporter.close()\n",
    "print(\"Done!\")"
   ]
  },
  {
   "cell_type": "code",
   "execution_count": 27,
   "metadata": {},
   "outputs": [
    {
     "ename": "ValueError",
     "evalue": "Buffer dtype mismatch, expected 'int32_t' but got 'long'",
     "output_type": "error",
     "traceback": [
      "\u001b[0;31m-------------------------------------------------\u001b[0m",
      "\u001b[0;31mValueError\u001b[0m      Traceback (most recent call last)",
      "\u001b[0;31mValueError\u001b[0m: Buffer dtype mismatch, expected 'int32_t' but got 'long'"
     ]
    },
    {
     "name": "stderr",
     "output_type": "stream",
     "text": [
      "Exception ignored in: 'mdtraj.geometry._geometry.image_frame'\n",
      "ValueError: Buffer dtype mismatch, expected 'int32_t' but got 'long'\n"
     ]
    },
    {
     "ename": "ValueError",
     "evalue": "Buffer dtype mismatch, expected 'int32_t' but got 'long'",
     "output_type": "error",
     "traceback": [
      "\u001b[0;31m-------------------------------------------------\u001b[0m",
      "\u001b[0;31mValueError\u001b[0m      Traceback (most recent call last)",
      "\u001b[0;31mValueError\u001b[0m: Buffer dtype mismatch, expected 'int32_t' but got 'long'"
     ]
    },
    {
     "name": "stderr",
     "output_type": "stream",
     "text": [
      "Exception ignored in: 'mdtraj.geometry._geometry.image_frame'\n",
      "ValueError: Buffer dtype mismatch, expected 'int32_t' but got 'long'\n"
     ]
    },
    {
     "ename": "ValueError",
     "evalue": "Buffer dtype mismatch, expected 'int32_t' but got 'long'",
     "output_type": "error",
     "traceback": [
      "\u001b[0;31m-------------------------------------------------\u001b[0m",
      "\u001b[0;31mValueError\u001b[0m      Traceback (most recent call last)",
      "\u001b[0;31mValueError\u001b[0m: Buffer dtype mismatch, expected 'int32_t' but got 'long'"
     ]
    },
    {
     "name": "stderr",
     "output_type": "stream",
     "text": [
      "Exception ignored in: 'mdtraj.geometry._geometry.image_frame'\n",
      "ValueError: Buffer dtype mismatch, expected 'int32_t' but got 'long'\n"
     ]
    },
    {
     "ename": "ValueError",
     "evalue": "Buffer dtype mismatch, expected 'int32_t' but got 'long'",
     "output_type": "error",
     "traceback": [
      "\u001b[0;31m-------------------------------------------------\u001b[0m",
      "\u001b[0;31mValueError\u001b[0m      Traceback (most recent call last)",
      "\u001b[0;31mValueError\u001b[0m: Buffer dtype mismatch, expected 'int32_t' but got 'long'"
     ]
    },
    {
     "name": "stderr",
     "output_type": "stream",
     "text": [
      "Exception ignored in: 'mdtraj.geometry._geometry.image_frame'\n",
      "ValueError: Buffer dtype mismatch, expected 'int32_t' but got 'long'\n"
     ]
    },
    {
     "ename": "ValueError",
     "evalue": "Buffer dtype mismatch, expected 'int32_t' but got 'long'",
     "output_type": "error",
     "traceback": [
      "\u001b[0;31m-------------------------------------------------\u001b[0m",
      "\u001b[0;31mValueError\u001b[0m      Traceback (most recent call last)",
      "\u001b[0;31mValueError\u001b[0m: Buffer dtype mismatch, expected 'int32_t' but got 'long'"
     ]
    },
    {
     "name": "stderr",
     "output_type": "stream",
     "text": [
      "Exception ignored in: 'mdtraj.geometry._geometry.image_frame'\n",
      "ValueError: Buffer dtype mismatch, expected 'int32_t' but got 'long'\n"
     ]
    },
    {
     "ename": "ValueError",
     "evalue": "Buffer dtype mismatch, expected 'int32_t' but got 'long'",
     "output_type": "error",
     "traceback": [
      "\u001b[0;31m-------------------------------------------------\u001b[0m",
      "\u001b[0;31mValueError\u001b[0m      Traceback (most recent call last)",
      "\u001b[0;31mValueError\u001b[0m: Buffer dtype mismatch, expected 'int32_t' but got 'long'"
     ]
    },
    {
     "name": "stderr",
     "output_type": "stream",
     "text": [
      "Exception ignored in: 'mdtraj.geometry._geometry.image_frame'\n",
      "ValueError: Buffer dtype mismatch, expected 'int32_t' but got 'long'\n"
     ]
    },
    {
     "ename": "ValueError",
     "evalue": "Buffer dtype mismatch, expected 'int32_t' but got 'long'",
     "output_type": "error",
     "traceback": [
      "\u001b[0;31m-------------------------------------------------\u001b[0m",
      "\u001b[0;31mValueError\u001b[0m      Traceback (most recent call last)",
      "\u001b[0;31mValueError\u001b[0m: Buffer dtype mismatch, expected 'int32_t' but got 'long'"
     ]
    },
    {
     "name": "stderr",
     "output_type": "stream",
     "text": [
      "Exception ignored in: 'mdtraj.geometry._geometry.image_frame'\n",
      "ValueError: Buffer dtype mismatch, expected 'int32_t' but got 'long'\n"
     ]
    },
    {
     "ename": "ValueError",
     "evalue": "Buffer dtype mismatch, expected 'int32_t' but got 'long'",
     "output_type": "error",
     "traceback": [
      "\u001b[0;31m-------------------------------------------------\u001b[0m",
      "\u001b[0;31mValueError\u001b[0m      Traceback (most recent call last)",
      "\u001b[0;31mValueError\u001b[0m: Buffer dtype mismatch, expected 'int32_t' but got 'long'"
     ]
    },
    {
     "name": "stderr",
     "output_type": "stream",
     "text": [
      "Exception ignored in: 'mdtraj.geometry._geometry.image_frame'\n",
      "ValueError: Buffer dtype mismatch, expected 'int32_t' but got 'long'\n"
     ]
    },
    {
     "ename": "ValueError",
     "evalue": "Buffer dtype mismatch, expected 'int32_t' but got 'long'",
     "output_type": "error",
     "traceback": [
      "\u001b[0;31m-------------------------------------------------\u001b[0m",
      "\u001b[0;31mValueError\u001b[0m      Traceback (most recent call last)",
      "\u001b[0;31mValueError\u001b[0m: Buffer dtype mismatch, expected 'int32_t' but got 'long'"
     ]
    },
    {
     "name": "stderr",
     "output_type": "stream",
     "text": [
      "Exception ignored in: 'mdtraj.geometry._geometry.image_frame'\n",
      "ValueError: Buffer dtype mismatch, expected 'int32_t' but got 'long'\n"
     ]
    },
    {
     "ename": "ValueError",
     "evalue": "Buffer dtype mismatch, expected 'int32_t' but got 'long'",
     "output_type": "error",
     "traceback": [
      "\u001b[0;31m-------------------------------------------------\u001b[0m",
      "\u001b[0;31mValueError\u001b[0m      Traceback (most recent call last)",
      "\u001b[0;31mValueError\u001b[0m: Buffer dtype mismatch, expected 'int32_t' but got 'long'"
     ]
    },
    {
     "name": "stderr",
     "output_type": "stream",
     "text": [
      "Exception ignored in: 'mdtraj.geometry._geometry.image_frame'\n",
      "ValueError: Buffer dtype mismatch, expected 'int32_t' but got 'long'\n"
     ]
    },
    {
     "data": {
      "application/vnd.jupyter.widget-view+json": {
       "model_id": "c40cf25b455542099297ab66e2977ee2",
       "version_major": 2,
       "version_minor": 0
      },
      "text/plain": [
       "NGLWidget(count=10)"
      ]
     },
     "metadata": {},
     "output_type": "display_data"
    }
   ],
   "source": [
    "# Load stored trajectory using MDTraj; the trajectory doesn't contain chemistry info so we also load a PDB\n",
    "traj= mdtraj.load(os.path.join(datadir, 'trajectory.nc'), top=os.path.join(datadir, 'complex_solvated.pdb'))\n",
    "\n",
    "#Recenter/impose periodicity to the system\n",
    "anchor = traj.top.guess_anchor_molecules()[0]\n",
    "imgd = traj.image_molecules(anchor_molecules=[anchor])\n",
    "traj.center_coordinates()\n",
    "\n",
    "# View the trajectory\n",
    "view = nglview.show_mdtraj(traj)\n",
    "# I haven't totally figured out nglview's selection language for our purposes here, so I'm just showing two residues\n",
    "# which seems (in this case) to include the host and guest plus an ion (?). \n",
    "view.add_licorice('1-2')\n",
    "view"
   ]
  },
  {
   "cell_type": "code",
   "execution_count": 51,
   "metadata": {},
   "outputs": [],
   "source": [
    "# Save centered trajectory for viewing elsewhere\n",
    "traj.save_netcdf(os.path.join(datadir, 'trajectory_centered.nc'))"
   ]
  },
  {
   "cell_type": "markdown",
   "metadata": {},
   "source": [
    "## Other things to try\n",
    "\n",
    "The full SAMPL7 challenge inputs are available online on GitHub for the octa acid and exoOA systems, as well as the results from other participants. Some simple things you could do as a spinoff from this notebook would be:\n",
    "- Dock all of the SAMPL7 guests to this host and compare their scores. How do these agree with the experimental results for binding affinities?\n",
    "- Dock all of the SAMPL7 guests to this host and then energy minimize. How do the resulting scores agree with experimental results for binding affinities?\n",
    "- Do a short simulation for each guest and THEN energy minimize; compare with scores before simulating.\n",
    "\n",
    "Possibly, none of these will work that well for ranking, but it would be interesting to see how they compare with the SAMPL7 results. See https://github.com/samplchallenges/SAMPL7/blob/master/host_guest/Analysis/ExperimentalMeasurements/experimental_measurements.csv for experimental values, and see also elsewhere in the Analysis directory for the other results of participants."
   ]
  },
  {
   "cell_type": "code",
   "execution_count": null,
   "metadata": {},
   "outputs": [],
   "source": [
    "#Insert code to try those here, if desired."
   ]
  }
 ],
 "metadata": {
  "anaconda-cloud": {},
  "kernelspec": {
   "display_name": "Python (drugcomp)",
   "language": "python",
   "name": "drugcomp"
  },
  "language_info": {
   "codemirror_mode": {
    "name": "ipython",
    "version": 3
   },
   "file_extension": ".py",
   "mimetype": "text/x-python",
   "name": "python",
   "nbconvert_exporter": "python",
   "pygments_lexer": "ipython3",
   "version": "3.7.6"
  },
  "toc": {
   "nav_menu": {},
   "number_sections": true,
   "sideBar": true,
   "skip_h1_title": false,
   "toc_cell": false,
   "toc_position": {},
   "toc_section_display": "block",
   "toc_window_display": false
  }
 },
 "nbformat": 4,
 "nbformat_minor": 1
}
