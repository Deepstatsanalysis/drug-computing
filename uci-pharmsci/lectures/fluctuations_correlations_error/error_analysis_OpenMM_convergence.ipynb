{
 "cells": [
  {
   "cell_type": "markdown",
   "metadata": {
    "slideshow": {
     "slide_type": "skip"
    }
   },
   "source": [
    "# PharmSci 175/275 (UCI)\n",
    "## What is this?? \n",
    "The material below is a Jupyter notebook including some lecture content to supplement class material on fluctuations, correlations, and error analysis from Drug Discovery Computing Techniques, PharmSci 175/275 at UC Irvine. \n",
    "Extensive materials for this course, as well as extensive background and related materials, are available on the course GitHub repository: [github.com/mobleylab/drug-computing](https://github.com/mobleylab/drug-computing)\n",
    "\n",
    "This material is a set of slides intended for presentation with RISE as detailed [in the course materials on GitHub](https://github.com/MobleyLab/drug-computing/tree/master/uci-pharmsci/lectures/energy_minimization). While it may be useful without RISE, it will also likely appear somewhat less verbose than it would if it were intended for use in written form."
   ]
  },
  {
   "cell_type": "markdown",
   "metadata": {
    "slideshow": {
     "slide_type": "slide"
    }
   },
   "source": [
    "# Fluctuations, correlations, and error analysis\n",
    "\n",
    "Today: Chemistry tools in Python; working with molecules; generating 3D conformers; shape search methods\n",
    "\n",
    "### Instructor: David L. Mobley\n",
    "\n",
    "### Contributors to today's materials:\n",
    "- David L. Mobley\n",
    "- I also appreciate John Chodera and Nathan Lim for help with OpenMM\n",
    "- Some content also draws on John Chodera's work on [automated equilibration detection](https://www.biorxiv.org/content/early/2015/12/30/021659) and his [`pymbar`](https://github.com/choderalab/pymbar) Python package\n",
    "- Density calculation work uses code from a former postdoc, Gaetano Calabró"
   ]
  },
  {
   "cell_type": "markdown",
   "metadata": {
    "slideshow": {
     "slide_type": "slide"
    }
   },
   "source": [
    "# Outline of this notebook\n",
    "1. Recap/info on central limit theorem and averaging\n",
    "1. Some brief OpenMM basics -- mostly not covered in detail in class, but provides context for the density calculation\n",
    "2. A simple example of a density calculation which stops when converged\n",
    "3. Analyzing density results in this notebook"
   ]
  },
  {
   "cell_type": "markdown",
   "metadata": {
    "slideshow": {
     "slide_type": "slide"
    }
   },
   "source": [
    "# Remember, the central limit thereom means the of a sum of many independent random variables is a Gaussian/normal distribution\n",
    "\n",
    "<center><img src=\"images/CLT.png\" alt=\"GitHub\" style=\"width: 800px;\"/></center>"
   ]
  },
  {
   "cell_type": "markdown",
   "metadata": {
    "slideshow": {
     "slide_type": "subslide"
    }
   },
   "source": [
    "## This is true regardless of the starting distribution\n",
    "\n",
    "The distribution of a sum of many independent random variables will follow a Gaussian (normal) distribution, regardless of the starting distribution\n",
    "\n",
    "A mean is a type of sum, so a mean (average) of many measurements or over many molecules will often be a normal distribution"
   ]
  },
  {
   "cell_type": "markdown",
   "metadata": {
    "slideshow": {
     "slide_type": "subslide"
    }
   },
   "source": [
    "## But which property? Sometimes several properties are related\n",
    "\n",
    "Sometimes, related properties can be calculated from the same data -- for example, binding free energy:\n",
    "$\\Delta G_{bind} = k_B T \\ln K_d$\n",
    "\n",
    "Which should be normally dsitributed? $K_d$? $\\Delta G$? Both? \n",
    "\n",
    "Answer: Free energy, typically. Why? Equilibrium properties are determined by free energy. We measure, for example, the heat released on binding averaged over many molecules. We might *convert* to $K_d$, but the physical quantity relates to the free energy."
   ]
  },
  {
   "cell_type": "markdown",
   "metadata": {
    "slideshow": {
     "slide_type": "subslide"
    }
   },
   "source": [
    "## This has important implications for averaging\n",
    "\n",
    "For example, obtain results from several different experiments (i.e. different groups) and want to combine. How to average?\n",
    "\n",
    "$\\Delta G_{bind} = k_B T \\ln K_d$\n",
    "\n",
    "Example: combining vapor pressure measurements as part of a hydration free energy estimate: Three values, 1e-3, 1e-4, 1e-5. (Vapor pressure determined by partitioning between gas and condensed phase -- driven by free energy. It is the free energy which should be normally distributed, not the vapor pressure.)\n",
    "\n",
    "**Simple mean:  3.7e-4**\n",
    "**Average the logarithms and exponentiate: 1e-4**\n",
    "\n",
    "**So, average the free energy, NOT the $K_d$.**\n",
    "This also applies to other areas -- partitioning coefficients, solubility, etc. "
   ]
  },
  {
   "cell_type": "markdown",
   "metadata": {
    "slideshow": {
     "slide_type": "slide"
    }
   },
   "source": [
    "# Generate some input files we'll use\n",
    "\n",
    "- We want some inputs to work with as we see how OpenMM works\n",
    "- And for our sample density calculation\n",
    "- [`SolvationToolkit`](https://github.com/mobleylab/SolvationToolkit) provides simple wrappers for building arbitrary mixtures\n",
    "  - OpenEye toolkits\n",
    "  - [`packmol`](https://github.com/mcubeg/packmol)\n",
    "  - GAFF small molecule force field (and TIP3P or TIP4P, etc. for water)\n",
    "\n",
    "Let's build a system to use later"
   ]
  },
  {
   "cell_type": "code",
   "execution_count": 1,
   "metadata": {
    "slideshow": {
     "slide_type": "subslide"
    }
   },
   "outputs": [
    {
     "name": "stdout",
     "output_type": "stream",
     "text": [
      "\n",
      "WARNING: component name not provided; label will be used as component name\n",
      "\n",
      "\n",
      "WARNING: component name not provided; label will be used as component name\n",
      "\n",
      "\n",
      "# Mixture\n",
      "\n",
      "tolerance 2.000000\n",
      "filetype pdb\n",
      "output /var/folders/41/7d3rylg503n8nt_tn0hz6v8c0000gn/T/tmp72cb305l/tmpa__8xgt0.pdb\n",
      "add_amber_ter\n",
      "\n",
      "\n",
      "structure /var/folders/41/7d3rylg503n8nt_tn0hz6v8c0000gn/T/tmp72cb305l/tmp0u2vidwu.pdb\n",
      "  number 1\n",
      "  inside box 0. 0. 0. 25.521266 25.521266 25.521266\n",
      "end structure\n",
      "\n",
      "structure /var/folders/41/7d3rylg503n8nt_tn0hz6v8c0000gn/T/tmp72cb305l/tmpc7przrer.pdb\n",
      "  number 10\n",
      "  inside box 0. 0. 0. 25.521266 25.521266 25.521266\n",
      "end structure\n",
      "\n",
      "structure /var/folders/41/7d3rylg503n8nt_tn0hz6v8c0000gn/T/tmp72cb305l/tmp5iujlxkv.pdb\n",
      "  number 100\n",
      "  inside box 0. 0. 0. 25.521266 25.521266 25.521266\n",
      "end structure\n",
      "\n",
      "\n",
      "source leaprc.gaff\n",
      "source oldff/leaprc.ff99SB\n",
      "ZPA = loadmol2 in0.mol2\n",
      "ZZE = loadmol2 in1.mol2\n",
      "ZRU = loadmol2 in2.mol2\n",
      "box = loadPdb tbox.pdb\n",
      "loadamberparams in0.frcmod\n",
      "loadamberparams in1.frcmod\n",
      "loadamberparams in2.frcmod\n",
      "setbox box centers\n",
      "saveAmberParm box out.prmtop out.inpcrd\n",
      "quit\n",
      "\n"
     ]
    }
   ],
   "source": [
    "from solvationtoolkit.solvated_mixtures import *\n",
    "mixture = MixtureSystem('mixtures')\n",
    "mixture.addComponent(label='phenol', name=\"phenol\", number=1)\n",
    "mixture.addComponent(label='toluene', smiles='Cc1ccccc1', number=10)\n",
    "mixture.addComponent(label='cyclohexane', smiles='C1CCCCC1', number=100)\n",
    "#Generate output files for AMBER\n",
    "mixture.build(amber = True)"
   ]
  },
  {
   "cell_type": "markdown",
   "metadata": {
    "slideshow": {
     "slide_type": "slide"
    }
   },
   "source": [
    "# OpenMM is more of a simulation toolkit than a simulation package\n",
    "\n",
    "(This material is here mainly as background for the code below, down to [A simple example of a density calculation which stops when converged](#A-simple-example-of-a-density-calculation-which-stops-when-converged), and will not be covered in detail in this lecture).\n",
    "\n",
    "- Easy-to-use Python API\n",
    "- Very fast calculations on GPUs (but slow on CPUs)\n",
    "- Really easy to implement new techniques, do new science\n",
    "- Key ingredients in a calculation:\n",
    "    - `Topology`\n",
    "    - `System`\n",
    "    - `Simulation` (takes `System`, `Topology`, `Integrator`; contains positions)"
   ]
  },
  {
   "cell_type": "markdown",
   "metadata": {
    "slideshow": {
     "slide_type": "subslide"
    }
   },
   "source": [
    "## `Topology`: Chemical composition of your system\n",
    "\n",
    "- Atoms, bonds, etc.\n",
    "- Can be loaded from some common file formats such as PDB, mol2\n",
    "- Can be created from OpenEye molecule via [`oeommtools`](https://github.com/oess/oeommtools), such as [`oeommtools.utils.oemol_to_openmmTop`](https://github.com/oess/oeommtools/blob/master/oeommtools/utils.py#L17)\n",
    "    - Side note: An OE \"molecule\" can contain more than one molecule, so can contain protein+ligand+solvent for example\n",
    "- Tangent: Try to retain bond order info if you have it (e.g. from a mol2)"
   ]
  },
  {
   "cell_type": "code",
   "execution_count": 1,
   "metadata": {
    "slideshow": {
     "slide_type": "fragment"
    }
   },
   "outputs": [],
   "source": [
    "# Example Topology generation from a couple mechanisms:\n",
    "\n",
    "# Load a PDB\n",
    "from simtk.openmm.app import PDBFile\n",
    "pdb = PDBFile('sample_files/T4-protein.pdb')\n",
    "t4_topology = pdb.topology"
   ]
  },
  {
   "cell_type": "code",
   "execution_count": 2,
   "metadata": {
    "slideshow": {
     "slide_type": "subslide"
    }
   },
   "outputs": [
    {
     "data": {
      "application/vnd.jupyter.widget-view+json": {
       "model_id": "8f23db33fa874e90a5d54ae131a1c657",
       "version_major": 2,
       "version_minor": 0
      },
      "text/plain": [
       "NGLWidget()"
      ]
     },
     "metadata": {},
     "output_type": "display_data"
    }
   ],
   "source": [
    "# Load a mol2: MDTraj supports a variety of file formats including mol2\n",
    "import mdtraj\n",
    "traj = mdtraj.load('sample_files/mobley_20524.mol2')\n",
    "# MDTraj objects contain a Topology, but an MDTraj topology; they support conversion to OpenMM\n",
    "traj.topology.to_openmm()\n",
    "\n",
    "# MDTraj can also handle PDB, plus trajectory formats which contain topology information\n",
    "protein_traj = mdtraj.load('sample_files/T4-protein.pdb')\n",
    "t4_topology = protein_traj.topology.to_openmm()\n",
    "# And we can visualize with nglview (or drop out to VMD)\n",
    "import nglview\n",
    "view = nglview.show_mdtraj(protein_traj)\n",
    "view"
   ]
  },
  {
   "cell_type": "code",
   "execution_count": 3,
   "metadata": {
    "slideshow": {
     "slide_type": "subslide"
    }
   },
   "outputs": [
    {
     "name": "stdout",
     "output_type": "stream",
     "text": [
      "Topology has 13 atoms\n"
     ]
    }
   ],
   "source": [
    "# Load AMBER gas phase topology\n",
    "from simtk.openmm.app import *\n",
    "prmtop = AmberPrmtopFile('sample_files/mobley_20524.prmtop')\n",
    "print(\"Topology has %s atoms\" % prmtop.topology.getNumAtoms())\n",
    "\n",
    "# Gromacs files can be loaded by GromacsTopFile and GromacsGroFile but you need topology/coordinate files\n",
    "# which don't have include statements, or a GROMACS installation"
   ]
  },
  {
   "cell_type": "markdown",
   "metadata": {
    "slideshow": {
     "slide_type": "skip"
    }
   },
   "source": [
    "If the below cell does not run because of missing `oeommtools`, you'll need to install it, e.g. via `conda install -c openeye/label/Orion oeommtools -c omnia`"
   ]
  },
  {
   "cell_type": "code",
   "execution_count": 4,
   "metadata": {
    "slideshow": {
     "slide_type": "fragment"
    }
   },
   "outputs": [
    {
     "name": "stdout",
     "output_type": "stream",
     "text": [
      "13\n"
     ]
    }
   ],
   "source": [
    "# Load an OEMol and convert (note advantage over MDTraj for bond order, etc.)\n",
    "\n",
    "from openeye.oechem import *\n",
    "from oeommtools.utils import *\n",
    "mol = OEMol()\n",
    "istream = oemolistream( 'sample_files/mobley_20524.mol2')\n",
    "OEReadMolecule(istream, mol)\n",
    "istream.close()\n",
    "\n",
    "# Convert OEMol to Topology using oeommtools -- so you can get a topology from almost any format OE supports\n",
    "topology, positions = oemol_to_openmmTop(mol)\n",
    "print(topology.getNumAtoms())"
   ]
  },
  {
   "cell_type": "markdown",
   "metadata": {
    "slideshow": {
     "slide_type": "subslide"
    }
   },
   "source": [
    "## `System`: Your parameterized system\n",
    "- Often generated by `createSystem`, but requires OpenMM know how to assign parameters\n",
    "  - Easy for standard biomolecules (proteins, nucleic acids), waters ions\n",
    "  - OpenMM FFXML files used; available for many common FFs\n",
    "  - More complex for general small molecules\n",
    "- Can also be loaded from common file formats such as GROMACS, AMBER\n",
    "  - useful if you set up for AMBER or GROMACS\n",
    "- We have new open forcefield effort that provides new force fields with an `openforcefield.createSystem` operator; generates OpenMM Systems."
   ]
  },
  {
   "cell_type": "code",
   "execution_count": 5,
   "metadata": {
    "slideshow": {
     "slide_type": "subslide"
    }
   },
   "outputs": [],
   "source": [
    "# Example system creation\n",
    "#From OpenMM Docs: http://docs.openmm.org/latest/userguide/application.html#running-simulations\n",
    "from simtk.openmm.app import *\n",
    "from simtk.openmm import *\n",
    "from simtk.unit import *\n",
    "from sys import stdout\n",
    "\n",
    "# Example System creation using OpenMM XML force field libraries -- good for biomolecules, ions, water\n",
    "pdb = PDBFile('sample_files/input.pdb')\n",
    "forcefield = ForceField('amber99sb.xml', 'tip3p.xml')\n",
    "system = forcefield.createSystem(pdb.topology, nonbondedMethod=PME,\n",
    "        nonbondedCutoff=1*nanometer, constraints=HBonds)\n"
   ]
  },
  {
   "cell_type": "code",
   "execution_count": 6,
   "metadata": {
    "slideshow": {
     "slide_type": "subslide"
    }
   },
   "outputs": [
    {
     "name": "stdout",
     "output_type": "stream",
     "text": [
      "Generated /Users/dmobley/github/drug-computing/uci-pharmsci/lectures/fluctuations_correlations_error/phenol.prmtop and /Users/dmobley/github/drug-computing/uci-pharmsci/lectures/fluctuations_correlations_error/phenol.inpcrd\n"
     ]
    }
   ],
   "source": [
    "# Or you could set up your own molecule for simulation with e.g. GAFF using AmberTools\n",
    "\n",
    "from openmoltools.amber import *\n",
    "# Generate GAFF-typed mol2 file and AMBER frcmod file using AmberTools\n",
    "gaff_mol2_file, frcmod_file = run_antechamber('phenol', 'sample_files/mobley_20524.mol2')\n",
    "# Generate AMBER files\n",
    "prmtop_name, inpcrd_name = run_tleap( 'phenol', gaff_mol2_file, frcmod_file)\n",
    "print(\"Generated %s and %s\" % (prmtop_name, inpcrd_name))\n",
    "\n",
    "# Create System -- in this case, single molecule in gas phase\n",
    "prmtop = AmberPrmtopFile( prmtop_name)\n",
    "inpcrd = AmberInpcrdFile( inpcrd_name)\n",
    "system = prmtop.createSystem(nonbondedMethod = NoCutoff, nonbondedCutoff = NoCutoff, constraints = HBonds)"
   ]
  },
  {
   "cell_type": "code",
   "execution_count": 7,
   "metadata": {
    "slideshow": {
     "slide_type": "subslide"
    }
   },
   "outputs": [
    {
     "data": {
      "application/vnd.jupyter.widget-view+json": {
       "model_id": "7efdf934e270468da9e6374f6db507ad",
       "version_major": 2,
       "version_minor": 0
      },
      "text/plain": [
       "NGLWidget()"
      ]
     },
     "metadata": {},
     "output_type": "display_data"
    }
   ],
   "source": [
    "# Load the mixture we generated above in Section 3\n",
    "file_prefix = 'mixtures/amber/phenol_toluene_cyclohexane_1_10_100'\n",
    "prmtop = AmberPrmtopFile( file_prefix+'.prmtop')\n",
    "inpcrd = AmberInpcrdFile( file_prefix+'.inpcrd')\n",
    "# Create system: Here, solution phase with periodic boundary conditions and constraints\n",
    "system = prmtop.createSystem(nonbondedMethod = PME, nonbondedCutoff = 1*nanometer, constraints = HBonds)\n",
    "\n",
    "#You can visualize the above with VMD, or we can do:\n",
    "traj = mdtraj.load( file_prefix + '.inpcrd', top = file_prefix + '.prmtop')\n",
    "view = nglview.show_mdtraj(traj)\n",
    "view"
   ]
  },
  {
   "cell_type": "markdown",
   "metadata": {
    "slideshow": {
     "slide_type": "subslide"
    }
   },
   "source": [
    "## `Simulation`: The system, topology, and positions you're simulating, under what conditions\n",
    "- Could be for energy minimization, or different types of dynamics\n",
    "- Has an integrator attached (even if just minimizing), including temperature\n",
    "- `context` -- including positions, periodic box if applicable, etc.\n",
    "- If dynamics, has:\n",
    "  - timestep\n",
    "  - velocities\n",
    "- potentially also has reporters which store properties like energies, trajectory snapshots, etc.\n"
   ]
  },
  {
   "cell_type": "markdown",
   "metadata": {
    "slideshow": {
     "slide_type": "subslide"
    }
   },
   "source": [
    "### Let's take that last `System` we set up and energy minimize it\n",
    "(The mixture of toluene, phenol, and cyclohexane we generated originally)"
   ]
  },
  {
   "cell_type": "code",
   "execution_count": 8,
   "metadata": {
    "slideshow": {
     "slide_type": "fragment"
    }
   },
   "outputs": [],
   "source": [
    "# Prepare the integrator\n",
    "integrator = LangevinIntegrator(300*kelvin, 1/picosecond, 0.002*picoseconds)"
   ]
  },
  {
   "cell_type": "code",
   "execution_count": 9,
   "metadata": {
    "slideshow": {
     "slide_type": "fragment"
    }
   },
   "outputs": [],
   "source": [
    "# Prep the simulation\n",
    "simulation = Simulation(prmtop.topology, system, integrator)\n",
    "simulation.context.setPositions(inpcrd.positions)"
   ]
  },
  {
   "cell_type": "code",
   "execution_count": 10,
   "metadata": {
    "slideshow": {
     "slide_type": "fragment"
    }
   },
   "outputs": [
    {
     "name": "stdout",
     "output_type": "stream",
     "text": [
      "Energy before minimization (kcal/mol): 1.4e+11\n",
      "Energy after minimization (kcal/mol): -5.2e+02\n"
     ]
    }
   ],
   "source": [
    "# Get and print initial energy\n",
    "state = simulation.context.getState(getEnergy = True)\n",
    "energy = state.getPotentialEnergy() / kilocalories_per_mole\n",
    "print(\"Energy before minimization (kcal/mol): %.2g\" % energy)\n",
    "\n",
    "# Energy minimize\n",
    "simulation.minimizeEnergy()\n",
    "\n",
    "# Get and print final energy\n",
    "state = simulation.context.getState(getEnergy=True, getPositions=True)\n",
    "energy = state.getPotentialEnergy() / kilocalories_per_mole\n",
    "print(\"Energy after minimization (kcal/mol): %.2g\" % energy)"
   ]
  },
  {
   "cell_type": "code",
   "execution_count": 11,
   "metadata": {
    "slideshow": {
     "slide_type": "subslide"
    }
   },
   "outputs": [
    {
     "name": "stdout",
     "output_type": "stream",
     "text": [
      "#\"Step\",\"Potential Energy (kJ/mole)\",\"Temperature (K)\"\n",
      "100,-1104.1612038835774,56.240383237667835\n",
      "200,-258.1508279070149,107.11272177220852\n",
      "300,486.5828146711101,141.20197403652844\n",
      "400,1000.3723654523601,173.45463216100626\n",
      "500,1385.82158420236,200.48514456168613\n",
      "600,1842.013234592985,220.3795403473273\n",
      "700,2149.51836154611,234.29764379251156\n",
      "800,2302.23369357736,248.00630540972793\n",
      "900,2526.37236545236,261.8691875786783\n",
      "1000,2727.16777560861,266.3660576562966\n"
     ]
    }
   ],
   "source": [
    "# While we're at it, why don't we just run a few steps of dynamics\n",
    "simulation.reporters.append(PDBReporter('sample_files/mixture_output.pdb', 100))\n",
    "simulation.reporters.append(StateDataReporter(stdout, 100, step=True,\n",
    "        potentialEnergy=True, temperature=True))\n",
    "simulation.step(1000) # Runs 1000 steps of dynamics\n",
    "state = simulation.context.getState(getEnergy=True, getPositions=True)"
   ]
  },
  {
   "cell_type": "markdown",
   "metadata": {
    "slideshow": {
     "slide_type": "slide"
    }
   },
   "source": [
    "# A simple example of a density calculation which stops when converged\n",
    "\n",
    "- We'll do a very simple density estimation\n",
    "- This is not a recommended protocol since we're just jumping straight in to \"production\"\n",
    "- But it illustrates how you can do this type of thing easily with OpenMM\n",
    "- For production data, you'd precede by equilibration (usually NVT, then NPT, then production)"
   ]
  },
  {
   "cell_type": "markdown",
   "metadata": {
    "slideshow": {
     "slide_type": "slide"
    }
   },
   "source": [
    "## The most bare-bones version"
   ]
  },
  {
   "cell_type": "code",
   "execution_count": 12,
   "metadata": {
    "slideshow": {
     "slide_type": "subslide"
    }
   },
   "outputs": [],
   "source": [
    "# We'll pick up that same system again, loading it up again so we can add a barostat before setting up the simulation\n",
    "import simtk.openmm as mm\n",
    "file_prefix = 'mixtures/amber/phenol_toluene_cyclohexane_1_10_100'\n",
    "prmtop = AmberPrmtopFile( file_prefix+'.prmtop')\n",
    "inpcrd = AmberInpcrdFile( file_prefix+'.inpcrd')\n",
    "system = prmtop.createSystem(nonbondedMethod = PME, nonbondedCutoff = 1*nanometer, constraints = HBonds)\n",
    "\n",
    "# Now add a barostat\n",
    "system.addForce(mm.MonteCarloBarostat(1*atmospheres, 300*kelvin, 25))\n",
    "\n",
    "# Set up integrator and simulation\n",
    "integrator = LangevinIntegrator(300*kelvin, 1/picosecond, 0.002*picoseconds)\n",
    "simulation = Simulation(prmtop.topology, system, integrator)\n",
    "\n",
    "\n",
    "# Let's pull the positions from the end of the brief \"equilibration\" we ran up above.\n",
    "simulation.context.setPositions(state.getPositions())\n",
    "\n",
    "\n",
    "# Set up a reporter to assess progress; will report every 100 steps (somewhat short)\n",
    "prod_data_filename = os.path.join('sample_files', os.path.basename(file_prefix)+'.csv')\n",
    "simulation.reporters.append(app.StateDataReporter( prod_data_filename, 100, step=True, potentialEnergy=True,\n",
    "                                                  temperature=True, density=True))\n"
   ]
  },
  {
   "cell_type": "code",
   "execution_count": 13,
   "metadata": {
    "slideshow": {
     "slide_type": "subslide"
    }
   },
   "outputs": [],
   "source": [
    "# Set up for run; for a somewhat reasonable convergence threshold you probably want run_steps >= 2500\n",
    "# and a density tolerance of 1e-3 or smaller; higher thresholds will likely result in early termination\n",
    "# due to slow fluctuations in density.\n",
    "# But that may take some time to run, so feel free to try higher also.\n",
    "run_steps = 2500\n",
    "converged = False\n",
    "density_tolerance = 0.001\n",
    "import pandas as pd\n",
    "from pymbar import timeseries as ts"
   ]
  },
  {
   "cell_type": "code",
   "execution_count": 14,
   "metadata": {
    "slideshow": {
     "slide_type": "subslide"
    }
   },
   "outputs": [
    {
     "ename": "NameError",
     "evalue": "name 'np' is not defined",
     "output_type": "error",
     "traceback": [
      "\u001b[0;31m---------------------------------------------------------------------------\u001b[0m",
      "\u001b[0;31mNameError\u001b[0m                                 Traceback (most recent call last)",
      "\u001b[0;32m<ipython-input-14-58b47ef3c049>\u001b[0m in \u001b[0;36m<module>\u001b[0;34m\u001b[0m\n\u001b[1;32m      4\u001b[0m     \u001b[0;31m# Read data\u001b[0m\u001b[0;34m\u001b[0m\u001b[0;34m\u001b[0m\u001b[0;34m\u001b[0m\u001b[0m\n\u001b[1;32m      5\u001b[0m     \u001b[0md\u001b[0m \u001b[0;34m=\u001b[0m \u001b[0mpd\u001b[0m\u001b[0;34m.\u001b[0m\u001b[0mread_csv\u001b[0m\u001b[0;34m(\u001b[0m\u001b[0mprod_data_filename\u001b[0m\u001b[0;34m,\u001b[0m \u001b[0mnames\u001b[0m\u001b[0;34m=\u001b[0m\u001b[0;34m[\u001b[0m\u001b[0;34m\"step\"\u001b[0m\u001b[0;34m,\u001b[0m \u001b[0;34m\"U\"\u001b[0m\u001b[0;34m,\u001b[0m \u001b[0;34m\"Temperature\"\u001b[0m\u001b[0;34m,\u001b[0m \u001b[0;34m\"Density\"\u001b[0m\u001b[0;34m]\u001b[0m\u001b[0;34m,\u001b[0m \u001b[0mskiprows\u001b[0m\u001b[0;34m=\u001b[0m\u001b[0;36m1\u001b[0m\u001b[0;34m)\u001b[0m\u001b[0;34m\u001b[0m\u001b[0;34m\u001b[0m\u001b[0m\n\u001b[0;32m----> 6\u001b[0;31m     \u001b[0mdensity_ts\u001b[0m \u001b[0;34m=\u001b[0m \u001b[0mnp\u001b[0m\u001b[0;34m.\u001b[0m\u001b[0marray\u001b[0m\u001b[0;34m(\u001b[0m\u001b[0md\u001b[0m\u001b[0;34m.\u001b[0m\u001b[0mDensity\u001b[0m\u001b[0;34m)\u001b[0m\u001b[0;34m\u001b[0m\u001b[0;34m\u001b[0m\u001b[0m\n\u001b[0m\u001b[1;32m      7\u001b[0m \u001b[0;34m\u001b[0m\u001b[0m\n\u001b[1;32m      8\u001b[0m     \u001b[0;31m# Detect when it seems to have equilibrated and clip off the part prior\u001b[0m\u001b[0;34m\u001b[0m\u001b[0;34m\u001b[0m\u001b[0;34m\u001b[0m\u001b[0m\n",
      "\u001b[0;31mNameError\u001b[0m: name 'np' is not defined"
     ]
    }
   ],
   "source": [
    "while not converged:\n",
    "    simulation.step(run_steps)\n",
    "\n",
    "    # Read data\n",
    "    d = pd.read_csv(prod_data_filename, names=[\"step\", \"U\", \"Temperature\", \"Density\"], skiprows=1)\n",
    "    density_ts = np.array(d.Density)\n",
    "    \n",
    "    # Detect when it seems to have equilibrated and clip off the part prior\n",
    "    [t0, g, Neff] = ts.detectEquilibration(density_ts)\n",
    "    density_ts = density_ts[t0:]\n",
    "    \n",
    "    # Compute standard error of what's left\n",
    "    density_mean_stderr = density_ts.std() / np.sqrt(Neff)\n",
    "\n",
    "    # Print stats, see if converged\n",
    "    print(\"Current density mean std error = %f g/mL\" % density_mean_stderr)\n",
    "\n",
    "    if density_mean_stderr < density_tolerance :\n",
    "        converged = True\n",
    "        print(\"...Convergence is OK; equilibration estimated to be achieved after data point %s\\n\" % t0)"
   ]
  },
  {
   "cell_type": "markdown",
   "metadata": {
    "slideshow": {
     "slide_type": "slide"
    }
   },
   "source": [
    "# While that's running, let's look at what it's doing\n",
    "\n",
    "## The first key idea is that we want to be able to tell it to stop when the density is known precisely enough\n",
    "\n",
    "We have this bit of code: \n",
    "```python\n",
    "density_mean_stderr = density_ts.std() / np.sqrt(Neff)\n",
    "```\n",
    "This is estimating the standard error in the mean -- $\\sigma_{err} = \\frac{\\sigma}{\\sqrt{N_{eff}}}$ where $N_{eff}$ is the number of effective samples and $\\sigma$ is the standard deviation.\n",
    "\n",
    "**We can stop running our simulation when the number of effective samples gets high enough, relative to the standard deviation, that the standard error becomes as small as we want.**"
   ]
  },
  {
   "cell_type": "markdown",
   "metadata": {
    "slideshow": {
     "slide_type": "subslide"
    }
   },
   "source": [
    "## But how do we get the number of effective samples?\n",
    "\n",
    "As discussed previously, $N_{eff} = N/g$ where $g$ is the statistical inefficiency -- a measure of how correlated our samples are. \n",
    "\n",
    "John Chodera's `pymbar` module provides a handy `statisticalInefficiency` module which estimates this from calculations of the autocorrelation function/autocorrelation time."
   ]
  },
  {
   "cell_type": "markdown",
   "metadata": {
    "slideshow": {
     "slide_type": "subslide"
    }
   },
   "source": [
    "## But there's another problem: What if our initial box size (and density) is very bad?\n",
    "\n",
    "What if we built the box way too small? Or way too big? Then we'll have an initial period where the density is way off from the correct value.\n",
    "\n",
    "<center><img src=\"images/Chodera_1_top.png\" alt=\"GitHub\" style=\"width: 800px;\"/></center>\n",
    "\n",
    "Here, instantaneous density of liquid argon averaged over 500 simulations from [Chodera](https://www.biorxiv.org/content/early/2015/12/30/021659)"
   ]
  },
  {
   "cell_type": "markdown",
   "metadata": {
    "slideshow": {
     "slide_type": "subslide"
    }
   },
   "source": [
    "### This could adversely affect computed properties, unless we throw out some data for equilibration\n",
    "\n",
    "If we average these results (red) the result is biased relative to the true expectation value out to well past 1000$\\tau$ (time units) [(Chodera)](https://www.biorxiv.org/content/early/2015/12/30/021659):\n",
    "\n",
    "<center><img src=\"images/Chodera_1_all.png\" alt=\"GitHub\" style=\"width: 1000px;\"/></center>\n",
    "\n",
    "Throwing out 500 initial samples as equilibration gives much better results even by 200 $\\tau$"
   ]
  },
  {
   "cell_type": "markdown",
   "metadata": {
    "slideshow": {
     "slide_type": "subslide"
    }
   },
   "source": [
    "### With a clever trick, you can do this automatically\n",
    "\n",
    "Key idea: If you throw away unequilibrated data, it reduces the correlation time/statistical inefficiency, **increasing $N_{eff}$**. But if you throw away equilibrated data, you're just wasting data (**decreasing $N_{eff}$**). So pick how much data to throw away to [**maximize $N_{eff}$.**](https://www.biorxiv.org/content/early/2015/12/30/021659)\n",
    "\n",
    "<center><img src=\"images/Chodera_2.png\" alt=\"GitHub\" style=\"width: 1000px;\"/></center>"
   ]
  },
  {
   "cell_type": "markdown",
   "metadata": {
    "slideshow": {
     "slide_type": "subslide"
    }
   },
   "source": [
    "### Basically what we're doing here is making a bias/variance tradeoff\n",
    "\n",
    "We pick an amount of data to throw away that minimizes bias without increasing the variance much\n",
    "\n",
    "<center><img src=\"images/Chodera_3.png\" alt=\"GitHub\" style=\"width: 400px;\"/></center>\n",
    "\n",
    "This shows the same argon case, with 500 replicates, and looks at bias and variance as a function of the amount of data discarded (color bar). Throwing out a modest amount of data reduces bias a great deal while keeping the standard error low.\n",
    "\n",
    "The arrow marks the point automatically selected."
   ]
  },
  {
   "cell_type": "markdown",
   "metadata": {
    "slideshow": {
     "slide_type": "subslide"
    }
   },
   "source": [
    "### It turns out `pymbar` has code for this, too, and we use it in our example\n",
    "\n",
    "```python\n",
    "# Read stored trajectory data\n",
    "d = pd.read_csv(prod_data_filename, names=[\"step\", \"U\", \"Temperature\", \"Density\"], skiprows=1)\n",
    "density_ts = np.array(d.Density)\n",
    "\n",
    "# Detect when it seems to have equilibrated and clip off the part prior\n",
    "[t0, g, Neff] = ts.detectEquilibration(density_ts)\n",
    "density_ts = density_ts[t0:]\n",
    "```"
   ]
  },
  {
   "cell_type": "markdown",
   "metadata": {
    "slideshow": {
     "slide_type": "slide"
    }
   },
   "source": [
    "# Analyzing density results in this notebook\n",
    "\n",
    "- The above may take some time to converge\n",
    "- (You can set the threshold higher, which may lead to apparently false convergence)\n",
    "- Here we'll analyze some sample density data I've provided"
   ]
  },
  {
   "cell_type": "markdown",
   "metadata": {
    "slideshow": {
     "slide_type": "subslide"
    }
   },
   "source": [
    "## As usual we'll use matplotlib for analysis: First let's view a sample set of density data"
   ]
  },
  {
   "cell_type": "code",
   "execution_count": 6,
   "metadata": {
    "slideshow": {
     "slide_type": "fragment"
    }
   },
   "outputs": [
    {
     "data": {
      "text/plain": [
       "[<matplotlib.lines.Line2D at 0x11d07f400>]"
      ]
     },
     "execution_count": 6,
     "metadata": {},
     "output_type": "execute_result"
    },
    {
     "data": {
      "image/png": "[encoded data removed]",
      "text/plain": [
       "<matplotlib.figure.Figure at 0x119c45dd8>"
      ]
     },
     "metadata": {},
     "output_type": "display_data"
    }
   ],
   "source": [
    "# Prep matplotlib/pylab to display here\n",
    "%matplotlib inline\n",
    "import pandas as pd\n",
    "from pylab import *\n",
    "from pymbar import timeseries as ts\n",
    "\n",
    "# Load density\n",
    "\n",
    "d = pd.read_csv('density_simulation/prod/phenol_toluene_cyclohexane_1_10_100_prod.csv', names=[\"step\", \"U\", \"Temperature\", \"Density\"], skiprows=1)\n",
    "\n",
    "# Plot instantaneous density\n",
    "\n",
    "xlabel('Step')\n",
    "ylabel('Density (g/mL)')\n",
    "plot( np.array(d.step), np.array(d.Density), 'b-')"
   ]
  },
  {
   "cell_type": "markdown",
   "metadata": {
    "slideshow": {
     "slide_type": "subslide"
    }
   },
   "source": [
    "## Now we want to detect equilibration and throw out unequilibrated data\n",
    "\n",
    "We'll also compute the mean density"
   ]
  },
  {
   "cell_type": "code",
   "execution_count": 17,
   "metadata": {
    "slideshow": {
     "slide_type": "fragment"
    }
   },
   "outputs": [
    {
     "name": "stdout",
     "output_type": "stream",
     "text": [
      "22\n"
     ]
    }
   ],
   "source": [
    "#Detect equilibration\n",
    "density_ts = np.array(d.Density)\n",
    "[t0, g, Neff] = ts.detectEquilibration(density_ts)\n",
    "print(\"Data equilibrated after snapshot number %s...\" % t0)\n",
    "\n",
    "# Clip out unequilibrated region\n",
    "density_ts = density_ts[t0:]\n",
    "stepnrs = np.array(d.step[t0:])\n",
    "\n",
    "# Compute mean density up to the present at each time, along with associated uncertainty\n",
    "mean_density = [ density_ts[0:i].mean() for i in range(2, len(density_ts)) ]\n",
    "mean_density_stderr = [ ]\n",
    "for i in range(2,len(density_ts)):\n",
    "    g = ts.statisticalInefficiency( density_ts[0:i])\n",
    "    stderr = density_ts[0:i].std()/sqrt(i/g)\n",
    "    mean_density_stderr.append(stderr)"
   ]
  },
  {
   "cell_type": "markdown",
   "metadata": {
    "slideshow": {
     "slide_type": "subslide"
    }
   },
   "source": [
    "## Finally let's graph and compare to experiment"
   ]
  },
  {
   "cell_type": "code",
   "execution_count": 19,
   "metadata": {
    "slideshow": {
     "slide_type": "fragment"
    }
   },
   "outputs": [
    {
     "data": {
      "image/png": "[encoded data removed]",
      "text/plain": [
       "<matplotlib.figure.Figure at 0x11d0a7780>"
      ]
     },
     "metadata": {},
     "output_type": "display_data"
    },
    {
     "name": "stdout",
     "output_type": "stream",
     "text": [
      "Experimental density of cyclohexane is 0.78 g/mL at 20C\n"
     ]
    }
   ],
   "source": [
    "# Plot\n",
    "figure()\n",
    "errorbar(stepnrs[2:], mean_density, yerr=mean_density_stderr, fmt='b-' )\n",
    "plot( [0, stepnrs.max()], [0.78, 0.78], 'k-') #Overlay experimental value for cyclohexane\n",
    "xlabel('Step')\n",
    "ylabel('Density (g/mL)')\n",
    "show()\n",
    "print(\"Experimental density of cyclohexane is 0.78 g/mL at 20C\" ) # per PubChem, https://pubchem.ncbi.nlm.nih.gov/compound/cyclohexane#section=Solubility"
   ]
  },
  {
   "cell_type": "markdown",
   "metadata": {
    "slideshow": {
     "slide_type": "subslide"
    }
   },
   "source": [
    "### Exercise: Do the same but for YOUR short simulation\n",
    "\n",
    "The sample data analyzed here was generated by the `density.py` script in this directory; it discards a lot amount of data to equilibration BEFORE storing production data. This means (as `detectEquilibration` finds) it's already equilibrated.\n",
    "\n",
    "As an exercise, analyze YOUR sample simulation and find out how much of it has equilibrated/how much data needs to be discarded."
   ]
  },
  {
   "cell_type": "markdown",
   "metadata": {
    "slideshow": {
     "slide_type": "slide"
    }
   },
   "source": [
    "# Now let's shift gears back to some more on statistics and error analysis\n",
    "\n",
    "The [2013 Computer Aided Drug Design Gordon Research Conference](http://lanyrd.com/2013/grc-cadd-2013/) focused specificially on statistics relating to drug discovery, error, reproducibility, etc. Slides from many talks are available online along with Python code, statistics info, etc. \n",
    "\n",
    "Here I draw especially on (with permission) slides from:\n",
    "- Woody Sherman (then Schrodinger; now Silicon Therapeutics)\n",
    "- Tom Darden (OpenEye)\n",
    "- Paul Hawkins (OpenEye)\n",
    "- John Chodera (MSKCC) and Terry Stouch (JCAMD)\n",
    "\n",
    "I'd also like to include material from Ajay Jain that I normally show, but am waiting approval, and likewise content from Paul Hawkins (OpenEye)"
   ]
  },
  {
   "cell_type": "markdown",
   "metadata": {
    "slideshow": {
     "slide_type": "slide"
    }
   },
   "source": [
    "## Some content from Sherman\n",
    "\n",
    "<center><img src=\"images/Sherman_1.png\" alt=\"GitHub\" style=\"width: 1000px;\"/></center>"
   ]
  },
  {
   "cell_type": "markdown",
   "metadata": {
    "slideshow": {
     "slide_type": "slide"
    }
   },
   "source": [
    "<center><img src=\"images/Sherman_2.png\" alt=\"GitHub\" style=\"width: 1000px;\"/></center>"
   ]
  },
  {
   "cell_type": "markdown",
   "metadata": {
    "slideshow": {
     "slide_type": "slide"
    }
   },
   "source": [
    "<center><img src=\"images/Sherman_3.png\" alt=\"GitHub\" style=\"width: 1000px;\"/></center>"
   ]
  },
  {
   "cell_type": "markdown",
   "metadata": {
    "slideshow": {
     "slide_type": "slide"
    }
   },
   "source": [
    "### Why do we not know?\n",
    "\n",
    "**No null hypothesis** -- no point of comparison as to how well we would do with some other model or just guessing or... We don't know what \"useful\" means!\n",
    "\n",
    "Null hypothesis used differently in two approaches to statistical inference (same term is used, different meaning):\n",
    "- **Significance testing** (Fisher): Null hypothesis is rejected or disproved on basis of data but never accepted or proved; magnitude of effect is unimportant\n",
    "- **Hypothesis testing** (Neyman and Pearson): Contrast with alternate hypothesis, decide between them on basis of data. Must be better than alternative hypothesis. \n",
    "\n",
    "Arguably hypothesis testing is more important, though significance testing is done a lot (see last lecture).\n",
    "\n",
    "Sherman's slides below focus on hypothesis testing."
   ]
  },
  {
   "cell_type": "markdown",
   "metadata": {
    "slideshow": {
     "slide_type": "slide"
    }
   },
   "source": [
    "<center><img src=\"images/Sherman_4.png\" alt=\"GitHub\" style=\"width: 1000px;\"/></center>"
   ]
  },
  {
   "cell_type": "markdown",
   "metadata": {
    "slideshow": {
     "slide_type": "slide"
    }
   },
   "source": [
    "<center><img src=\"images/Sherman_5.png\" alt=\"GitHub\" style=\"width: 1000px;\"/></center>"
   ]
  },
  {
   "cell_type": "markdown",
   "metadata": {
    "slideshow": {
     "slide_type": "slide"
    }
   },
   "source": [
    "<center><img src=\"images/Sherman_6.png\" alt=\"GitHub\" style=\"width: 1000px;\"/></center>"
   ]
  },
  {
   "cell_type": "markdown",
   "metadata": {
    "slideshow": {
     "slide_type": "slide"
    }
   },
   "source": [
    "<center><img src=\"images/Sherman_7.png\" alt=\"GitHub\" style=\"width: 1000px;\"/></center>"
   ]
  },
  {
   "cell_type": "markdown",
   "metadata": {
    "slideshow": {
     "slide_type": "slide"
    }
   },
   "source": [
    "<center><img src=\"images/Sherman_8.png\" alt=\"GitHub\" style=\"width: 1000px;\"/></center>"
   ]
  },
  {
   "cell_type": "markdown",
   "metadata": {
    "slideshow": {
     "slide_type": "slide"
    }
   },
   "source": [
    "<center><img src=\"images/Sherman_9.png\" alt=\"GitHub\" style=\"width: 1000px;\"/></center>"
   ]
  },
  {
   "cell_type": "markdown",
   "metadata": {
    "slideshow": {
     "slide_type": "slide"
    }
   },
   "source": [
    "### Follow-up note\n",
    "\n",
    "Sherman explains that Knight subsequently used this as an example of lessons learned/how important statistics are in a job talk at Schrodinger and was hired."
   ]
  },
  {
   "cell_type": "markdown",
   "metadata": {
    "slideshow": {
     "slide_type": "slide"
    }
   },
   "source": [
    "### As a result of this, design hypothesis testing studies carefully\n",
    "\n",
    "For hypothesis testing/model comparison, pick a null/alternate model which has SOME value\n",
    "\n",
    "Be careful not to bias your study against certain methods -- i.e. if you construct a test set to have very diverse structures, this will have implications for what types of methods will do well"
   ]
  },
  {
   "cell_type": "markdown",
   "metadata": {
    "slideshow": {
     "slide_type": "slide"
    }
   },
   "source": [
    "## Some slides from Tom Darden, OpenEye"
   ]
  },
  {
   "cell_type": "markdown",
   "metadata": {
    "slideshow": {
     "slide_type": "slide"
    }
   },
   "source": [
    "<center><img src=\"images/Darden_1.png\" alt=\"GitHub\" style=\"width: 1000px;\"/></center>"
   ]
  },
  {
   "cell_type": "markdown",
   "metadata": {
    "slideshow": {
     "slide_type": "slide"
    }
   },
   "source": [
    "<center><img src=\"images/Darden_2.png\" alt=\"GitHub\" style=\"width: 1000px;\"/></center>"
   ]
  },
  {
   "cell_type": "markdown",
   "metadata": {
    "slideshow": {
     "slide_type": "slide"
    }
   },
   "source": [
    "<center><img src=\"images/Darden_3.png\" alt=\"GitHub\" style=\"width: 1000px;\"/></center>"
   ]
  },
  {
   "cell_type": "markdown",
   "metadata": {
    "slideshow": {
     "slide_type": "slide"
    }
   },
   "source": [
    "<center><img src=\"images/Darden_4.png\" alt=\"GitHub\" style=\"width: 1000px;\"/></center>"
   ]
  },
  {
   "cell_type": "markdown",
   "metadata": {
    "slideshow": {
     "slide_type": "slide"
    }
   },
   "source": [
    "<center><img src=\"images/Darden_5.png\" alt=\"GitHub\" style=\"width: 1000px;\"/></center>"
   ]
  },
  {
   "cell_type": "markdown",
   "metadata": {
    "slideshow": {
     "slide_type": "slide"
    }
   },
   "source": [
    "## A final reminder from John Chodera and Terry Stouch\n",
    "\n",
    "<center><img src=\"images/Chodera_talk_1.png\" alt=\"GitHub\" style=\"width: 1000px;\"/></center>"
   ]
  }
 ],
 "metadata": {
  "celltoolbar": "Slideshow",
  "kernelspec": {
   "display_name": "Python [conda env:drugcomp2] *",
   "language": "python",
   "name": "conda-env-drugcomp2-py"
  },
  "language_info": {
   "codemirror_mode": {
    "name": "ipython",
    "version": 3
   },
   "file_extension": ".py",
   "mimetype": "text/x-python",
   "name": "python",
   "nbconvert_exporter": "python",
   "pygments_lexer": "ipython3",
   "version": "3.7.6"
  },
  "livereveal": {
   "height": 900,
   "start_slideshow_at": "selected",
   "width": 1440
  },
  "toc": {
   "nav_menu": {},
   "number_sections": true,
   "sideBar": true,
   "skip_h1_title": false,
   "toc_cell": false,
   "toc_position": {},
   "toc_section_display": "block",
   "toc_window_display": false
  }
 },
 "nbformat": 4,
 "nbformat_minor": 2
}
