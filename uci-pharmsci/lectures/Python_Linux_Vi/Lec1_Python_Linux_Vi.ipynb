{
 "cells": [
  {
   "cell_type": "markdown",
   "metadata": {
    "slideshow": {
     "slide_type": "subslide"
    }
   },
   "source": [
    "# PharmSci 175/275 (UCI)\n",
    "## What is this?? \n",
    "The material below is Lecture 1 from Drug Discovery Computing Techniques, PharmSci 175/275 at UC Irvine. \n",
    "Extensive materials for this course, as well as extensive background and related materials, are available on the course GitHub repository: [github.com/mobleylab/drug-computing](https://github.com/mobleylab/drug-computing)\n",
    "\n",
    "This material is a set of slides intended for presentation with RISE as detailed [in the course materials on GitHub](https://github.com/MobleyLab/drug-computing/tree/master/uci-pharmsci/lectures/Python_Linux_Vi). While it may be useful without RISE, it will also likely appear somewhat less verbose than it would if it were intended for use in written form. If you wish to install rise, it is conda-installable via conda-forge, e.g. \"conda install rise\" should work. Refer to the [RISE docs for more details](https://rise.readthedocs.io/en/maint-5.6/usage.html)."
   ]
  },
  {
   "cell_type": "markdown",
   "metadata": {
    "nbpresent": {
     "id": "309cf70b-2979-4741-90c3-6d5eb652613d"
    },
    "slideshow": {
     "slide_type": "slide"
    }
   },
   "source": [
    "# PharmSci 175/275 (UCI)\n",
    "## Drug discovery computing techniques\n",
    "\n",
    "Note and bookmark course GitHub repository: [github.com/mobleylab/drug-computing](https://github.com/mobleylab/drug-computing); see [Assigned Materials](https://github.com/MobleyLab/drug-computing/blob/master/uci-pharmsci/assigned_materials.md).\n",
    "\n",
    "### Instructor: David L. Mobley\n",
    "\n",
    "### Contributors to today's materials:\n",
    "- Nathan M. Lim\n",
    "- David L. Mobley"
   ]
  },
  {
   "cell_type": "markdown",
   "metadata": {
    "slideshow": {
     "slide_type": "subslide"
    }
   },
   "source": [
    "<center><img src=\"github_repo.png\" alt=\"GitHub\" style=\"width: 1000px;\"/></center>"
   ]
  },
  {
   "cell_type": "markdown",
   "metadata": {
    "slideshow": {
     "slide_type": "subslide"
    }
   },
   "source": [
    "<center><img src=\"assigned_materials.png\" alt=\"GitHub\" style=\"width: 1000px;\"/></center>"
   ]
  },
  {
   "cell_type": "markdown",
   "metadata": {
    "slideshow": {
     "slide_type": "subslide"
    }
   },
   "source": [
    "<center><img src=\"assigned_materials_detail.png\" alt=\"GitHub\" style=\"width: 1000px;\"/></center>"
   ]
  },
  {
   "cell_type": "markdown",
   "metadata": {
    "slideshow": {
     "slide_type": "subslide"
    }
   },
   "source": [
    "<center><img src=\"issue_tracker.png\" alt=\"GitHub\" style=\"width: 1000px;\"/></center>"
   ]
  },
  {
   "cell_type": "markdown",
   "metadata": {
    "slideshow": {
     "slide_type": "subslide"
    }
   },
   "source": [
    "### Supplemental materials:\n",
    "- Make sure you've gone through the [\"Before the course starts\"](https://github.com/MobleyLab/drug-computing/blob/master/uci-pharmsci/assigned_materials.md#before-the-course-starts) materials as well as the [\"Before lecture 1\"](https://github.com/MobleyLab/drug-computing/blob/master/uci-pharmsci/assigned_materials.md#before-lecture-1) material.\n",
    "- Especially use the [getting started](https://github.com/MobleyLab/drug-computing/blob/master/uci-pharmsci/getting-started.md) materials -- software/configuration you should have already done prior to using this content \n",
    "- Also be aware of the [Python intro](https://github.com/MobleyLab/drug-computing/tree/master/other-materials/python-intro), which introduces Python and provides [supplemental notes](https://github.com/MobleyLab/drug-computing/blob/master/other-materials/python-intro/python_crashcourse.md) parallel to this lecture and an extensive series of Jupyter notebooks introducing features of the language."
   ]
  },
  {
   "cell_type": "markdown",
   "metadata": {
    "slideshow": {
     "slide_type": "slide"
    }
   },
   "source": [
    "## This course provides an intro to computing techniques used in drug discovery\n",
    "* Theory plus hands-on work\n",
    "* Semi-flipped format\n",
    "* Assignents are mini-projects\n",
    "  * Undergrads do fewer\n",
    "  * Grad students do more\n",
    "* You'll learn how to solve research level problems"
   ]
  },
  {
   "cell_type": "markdown",
   "metadata": {
    "slideshow": {
     "slide_type": "subslide"
    }
   },
   "source": [
    "## Because it is semi-flipped, you have work to do in advance of each class\n",
    "\n",
    "* Assigned materials posted online (Canvas)\n",
    "* In-class time:\n",
    "  * Go quickly through lecture-style content\n",
    "  * I'll take questions/discuss\n",
    "  * Work examples, help with questions/problems\n",
    "  * Discuss assignments\n",
    "* Note office hours posted on Canvas"
   ]
  },
  {
   "cell_type": "markdown",
   "metadata": {
    "slideshow": {
     "slide_type": "subslide"
    }
   },
   "source": [
    "## CRITICAL to get started quickly\n",
    "* Various software to install you should ALREADY have working; get help ASAP if not\n",
    "* Lots to learn at the beginning so you don't get lost\n",
    "* Pace slows later, but not enough if you are lost"
   ]
  },
  {
   "cell_type": "markdown",
   "metadata": {
    "slideshow": {
     "slide_type": "subslide"
    }
   },
   "source": [
    "## Jupyter notebooks provide a good format for introducing Python\n",
    "\n",
    "Today:\n",
    "- We recap (or introduce) Python\n",
    "- Jupyter notebooks: Great for introducing and prototyping\n",
    "- These slides are themselves a Jupyter notebook you can try out"
   ]
  },
  {
   "cell_type": "markdown",
   "metadata": {
    "nbpresent": {
     "id": "69e87ba9-be1c-40b6-80e0-2528d70018c4"
    },
    "slideshow": {
     "slide_type": "subslide"
    }
   },
   "source": [
    "## This course assumes some background knowledge \n",
    "- Some familiarity with Linux/UNIX as a computing environment.\n",
    "    - e.g. basic file operations, navigation (`cd`, `ls`)\n",
    "    - or you need to learn these rapidly in your own time (some reference materials are in the course GitHub repo)\n",
    "- You already know at least one programming/scripting language\n",
    "    - If not, you should work through the Python background materials linked above ASAP AND set up one-on-one time to meet with me"
   ]
  },
  {
   "cell_type": "markdown",
   "metadata": {
    "nbpresent": {
     "id": "cca401cf-6524-4c2d-b2c4-4fd58c91cf39"
    },
    "slideshow": {
     "slide_type": "slide"
    }
   },
   "source": [
    "# Starting off in Python\n",
    "- A good way to start off in Python is by playing around in the *interactive* interpreter. Open up a terminal and execute: \n",
    "  >`python`\n",
    "- **Preferred**: Get Jupyter notebooks from **continuum.io/downloads** (see [Getting started](https://github.com/MobleyLab/drug-computing/blob/master/uci-pharmsci/getting-started.md) on GitHub)\n",
    "-  *If you have Jupyter Notebook installed* execute:\n",
    ">`jupyter notebook`\n"
   ]
  },
  {
   "cell_type": "markdown",
   "metadata": {
    "nbpresent": {
     "id": "d5402396-af46-4a51-94e2-23762c84ead2"
    },
    "slideshow": {
     "slide_type": "subslide"
    }
   },
   "source": [
    "Below, let's write a simple program that displays text to the terminal"
   ]
  },
  {
   "cell_type": "code",
   "execution_count": 1,
   "metadata": {
    "nbpresent": {
     "id": "26740538-59d6-4abf-be74-f402930d8625"
    },
    "slideshow": {
     "slide_type": "fragment"
    }
   },
   "outputs": [
    {
     "name": "stdout",
     "output_type": "stream",
     "text": [
      "Hello World\n"
     ]
    }
   ],
   "source": [
    "# Below is a sample program\n",
    "x = 'Hello World'\n",
    "print(x)"
   ]
  },
  {
   "cell_type": "markdown",
   "metadata": {
    "nbpresent": {
     "id": "1774cfe9-a13a-4cc8-8a18-69cdc64931db"
    },
    "slideshow": {
     "slide_type": "subslide"
    }
   },
   "source": [
    "- **`#`** : Denotes a *comment* in the code and is not executed.\n",
    "- **`Hello World`** : Python *string*, a data structure that can store a sequence of any kind of characters (including special characters, such as newline, ‘\\n’)\n",
    "- **`x`** : a Python *variable (or object)*, which we assign by storing a string to it\n",
    "- **`print()`** : a Python command which says to print the contents of x"
   ]
  },
  {
   "cell_type": "markdown",
   "metadata": {
    "collapsed": true,
    "nbpresent": {
     "id": "a36ef158-a854-44d6-9af0-1d375d979a05"
    },
    "slideshow": {
     "slide_type": "slide"
    }
   },
   "source": [
    "# Python is dynamically typed"
   ]
  },
  {
   "cell_type": "markdown",
   "metadata": {
    "nbpresent": {
     "id": "1b8046c7-df04-4f97-8979-868272dd7ae1"
    },
    "slideshow": {
     "slide_type": "fragment"
    }
   },
   "source": [
    "- Integers: defined by leaving out the decimal\n",
    "- Floating point numbers *have* the decimal\n",
    "- Use **`type()`** to determine what tye type of the object is."
   ]
  },
  {
   "cell_type": "code",
   "execution_count": 2,
   "metadata": {
    "nbpresent": {
     "id": "6d750a8c-a17d-4941-b7bc-682b20e2c820"
    },
    "slideshow": {
     "slide_type": "fragment"
    }
   },
   "outputs": [
    {
     "name": "stdout",
     "output_type": "stream",
     "text": [
      "12.0 is <class 'float'>\n",
      "12 is <class 'int'>\n"
     ]
    }
   ],
   "source": [
    "x = 12.0\n",
    "print(x, 'is', type(x))\n",
    "\n",
    "y = 12\n",
    "print(y, 'is', type(y) )"
   ]
  },
  {
   "cell_type": "markdown",
   "metadata": {
    "nbpresent": {
     "id": "0bce8a56-28ec-431d-a38c-c9929a52b9af"
    },
    "slideshow": {
     "slide_type": "subslide"
    }
   },
   "source": [
    "- Conversion between types is done using the type name but is not needed very often\n",
    "  - Typically done when converting between *numerical* and **non**-numerical data, but less often between different kinds of numerical data."
   ]
  },
  {
   "cell_type": "code",
   "execution_count": 3,
   "metadata": {
    "nbpresent": {
     "id": "f0655704-5db0-40fe-af45-7cf424f9172c"
    },
    "slideshow": {
     "slide_type": "fragment"
    }
   },
   "outputs": [
    {
     "name": "stdout",
     "output_type": "stream",
     "text": [
      "12.0 is <class 'float'>\n",
      "12 is now <class 'int'>\n"
     ]
    }
   ],
   "source": [
    "z = 12.0\n",
    "print( z, 'is', type(z))\n",
    "\n",
    "z = int(z) \n",
    "print(z, 'is now', type(z) )"
   ]
  },
  {
   "cell_type": "markdown",
   "metadata": {
    "nbpresent": {
     "id": "86680d8f-9e36-4556-9abd-807070386994"
    },
    "slideshow": {
     "slide_type": "slide"
    }
   },
   "source": [
    "# Data Structures: `lists`\n",
    "* Lists in Python are a generic data structure that can contain pretty much anything:"
   ]
  },
  {
   "cell_type": "code",
   "execution_count": 4,
   "metadata": {
    "nbpresent": {
     "id": "27d63f59-e212-4c78-b5c9-62693dcdf779"
    },
    "slideshow": {
     "slide_type": "fragment"
    }
   },
   "outputs": [
    {
     "name": "stdout",
     "output_type": "stream",
     "text": [
      "[1, 'test', 1.43]\n"
     ]
    }
   ],
   "source": [
    "a = []\n",
    "a.append(1)\n",
    "a.append('test')\n",
    "a.append(1.43)\n",
    "print(a )"
   ]
  },
  {
   "cell_type": "markdown",
   "metadata": {
    "nbpresent": {
     "id": "dbc1f37a-b7ea-41ae-89f7-1f2b357bac34"
    },
    "slideshow": {
     "slide_type": "subslide"
    }
   },
   "source": [
    "- Common operations are defined for lists, for example: \n",
    "  - `a+b` combines a and b if they are lists"
   ]
  },
  {
   "cell_type": "code",
   "execution_count": 5,
   "metadata": {
    "nbpresent": {
     "id": "39d0e502-c354-4a46-a300-b51742265bf3"
    },
    "slideshow": {
     "slide_type": "fragment"
    }
   },
   "outputs": [
    {
     "name": "stdout",
     "output_type": "stream",
     "text": [
      "[0, 2, 'another list', 'final entry']\n",
      "[1, 'test', 1.43, 0, 2, 'another list', 'final entry']\n"
     ]
    }
   ],
   "source": [
    "b = [0,2,'another list', 'final entry']\n",
    "print(b)\n",
    "\n",
    "c = a + b\n",
    "print(c)"
   ]
  },
  {
   "cell_type": "markdown",
   "metadata": {
    "nbpresent": {
     "id": "8f453389-f92f-4c3d-9893-e793f3b13679"
    },
    "slideshow": {
     "slide_type": "slide"
    }
   },
   "source": [
    "# Everything in Python is an *object*\n",
    "- An object is something with properties and functions that can be accessed with dot notation. \n",
    "- For example, the list c we just created:"
   ]
  },
  {
   "cell_type": "code",
   "execution_count": 6,
   "metadata": {
    "nbpresent": {
     "id": "141fed2f-a08a-4e7a-846a-7b51bb3abfff"
    },
    "slideshow": {
     "slide_type": "fragment"
    }
   },
   "outputs": [
    {
     "name": "stdout",
     "output_type": "stream",
     "text": [
      "[1, 'test', 1.43, 0, 2, 'another list', 'final entry']\n"
     ]
    }
   ],
   "source": [
    "print(c)"
   ]
  },
  {
   "cell_type": "code",
   "execution_count": 7,
   "metadata": {
    "nbpresent": {
     "id": "7676f01d-3bfc-4e7d-9a79-53b98613cf0b"
    },
    "slideshow": {
     "slide_type": "fragment"
    }
   },
   "outputs": [
    {
     "data": {
      "text/plain": [
       "1"
      ]
     },
     "execution_count": 7,
     "metadata": {},
     "output_type": "execute_result"
    }
   ],
   "source": [
    "# Get the index of the variable\n",
    "c.index('test')"
   ]
  },
  {
   "cell_type": "markdown",
   "metadata": {
    "nbpresent": {
     "id": "2b88f20e-acd0-46c1-9cd7-09b35d8e0197"
    },
    "slideshow": {
     "slide_type": "fragment"
    }
   },
   "source": [
    "###### Notice indexing starts with **0** and NOT 1"
   ]
  },
  {
   "cell_type": "code",
   "execution_count": 8,
   "metadata": {
    "nbpresent": {
     "id": "fada2809-0f99-4f0e-b508-a72b327516b3"
    },
    "slideshow": {
     "slide_type": "subslide"
    }
   },
   "outputs": [
    {
     "name": "stdout",
     "output_type": "stream",
     "text": [
      "['final entry', 2, 0, 1.43, 'test', 1]\n"
     ]
    }
   ],
   "source": [
    "# Remove variable from list and reverse the list\n",
    "c.remove('another list')\n",
    "c.reverse()\n",
    "print(c)"
   ]
  },
  {
   "cell_type": "markdown",
   "metadata": {
    "nbpresent": {
     "id": "8cd34043-c63a-4dbb-8290-1f8373441f5a"
    },
    "slideshow": {
     "slide_type": "subslide"
    }
   },
   "source": [
    "Python provides help information on these modules with **`help()`**"
   ]
  },
  {
   "cell_type": "code",
   "execution_count": 9,
   "metadata": {
    "nbpresent": {
     "id": "97a35994-7526-4f3d-ba43-651ec2033390"
    },
    "slideshow": {
     "slide_type": "fragment"
    }
   },
   "outputs": [
    {
     "name": "stdout",
     "output_type": "stream",
     "text": [
      "Help on built-in function count:\n",
      "\n",
      "count(...) method of builtins.list instance\n",
      "    L.count(value) -> integer -- return number of occurrences of value\n",
      "\n"
     ]
    }
   ],
   "source": [
    "help(c.count)"
   ]
  },
  {
   "cell_type": "markdown",
   "metadata": {
    "nbpresent": {
     "id": "71a85560-fde4-4a58-a4e5-a5785078393d"
    },
    "slideshow": {
     "slide_type": "subslide"
    }
   },
   "source": [
    "Python also provides information on properties/methods with **`dir()`**"
   ]
  },
  {
   "cell_type": "code",
   "execution_count": 10,
   "metadata": {
    "nbpresent": {
     "id": "69fa5648-f2b8-4376-bbc5-c52b7e55f01f"
    },
    "scrolled": true,
    "slideshow": {
     "slide_type": "fragment"
    }
   },
   "outputs": [
    {
     "data": {
      "text/plain": [
       "['__add__',\n",
       " '__class__',\n",
       " '__contains__',\n",
       " '__delattr__',\n",
       " '__delitem__',\n",
       " '__dir__',\n",
       " '__doc__',\n",
       " '__eq__',\n",
       " '__format__',\n",
       " '__ge__',\n",
       " '__getattribute__',\n",
       " '__getitem__',\n",
       " '__gt__',\n",
       " '__hash__',\n",
       " '__iadd__',\n",
       " '__imul__',\n",
       " '__init__',\n",
       " '__init_subclass__',\n",
       " '__iter__',\n",
       " '__le__',\n",
       " '__len__',\n",
       " '__lt__',\n",
       " '__mul__',\n",
       " '__ne__',\n",
       " '__new__',\n",
       " '__reduce__',\n",
       " '__reduce_ex__',\n",
       " '__repr__',\n",
       " '__reversed__',\n",
       " '__rmul__',\n",
       " '__setattr__',\n",
       " '__setitem__',\n",
       " '__sizeof__',\n",
       " '__str__',\n",
       " '__subclasshook__',\n",
       " 'append',\n",
       " 'clear',\n",
       " 'copy',\n",
       " 'count',\n",
       " 'extend',\n",
       " 'index',\n",
       " 'insert',\n",
       " 'pop',\n",
       " 'remove',\n",
       " 'reverse',\n",
       " 'sort']"
      ]
     },
     "execution_count": 10,
     "metadata": {},
     "output_type": "execute_result"
    }
   ],
   "source": [
    "dir(c)"
   ]
  },
  {
   "cell_type": "markdown",
   "metadata": {
    "nbpresent": {
     "id": "4bd56147-a6c7-49de-b11b-9971e4a52987"
    },
    "slideshow": {
     "slide_type": "slide"
    }
   },
   "source": [
    "# Making decisions in Python\n",
    "- **If/elif/else** statements: Executes code if a condition is met\n",
    "- **Note**: Indentation is used to designate code blocks.\n",
    " - Blocks end when indentation goes back to normal (and, in interactive, when there is a carriage return)"
   ]
  },
  {
   "cell_type": "code",
   "execution_count": 11,
   "metadata": {
    "nbpresent": {
     "id": "b68b648f-c8ae-4cdb-a0c1-b35ac1492381"
    },
    "slideshow": {
     "slide_type": "fragment"
    }
   },
   "outputs": [
    {
     "name": "stdout",
     "output_type": "stream",
     "text": [
      "2\n"
     ]
    }
   ],
   "source": [
    "a = 1\n",
    "if a==4:\n",
    "    print(a)\n",
    "elif a==2:\n",
    "    print(a*a)\n",
    "else:\n",
    "    print(a*a+1)"
   ]
  },
  {
   "cell_type": "markdown",
   "metadata": {
    "nbpresent": {
     "id": "33446774-3484-445a-a34e-28f4e65acf7c"
    },
    "slideshow": {
     "slide_type": "subslide"
    }
   },
   "source": [
    "- **While** statement: Executes code until the condition is True"
   ]
  },
  {
   "cell_type": "code",
   "execution_count": 12,
   "metadata": {
    "nbpresent": {
     "id": "017f0aac-c117-43b3-b411-47a343518417"
    },
    "slideshow": {
     "slide_type": "fragment"
    }
   },
   "outputs": [
    {
     "name": "stdout",
     "output_type": "stream",
     "text": [
      "5\n",
      "4\n",
      "3\n",
      "2\n"
     ]
    }
   ],
   "source": [
    "ct = 5\n",
    "while (ct > 1):\n",
    "    print(ct)\n",
    "    ct = ct -1"
   ]
  },
  {
   "cell_type": "markdown",
   "metadata": {
    "nbpresent": {
     "id": "65e2b276-3036-41c1-a461-9fb017082455"
    },
    "slideshow": {
     "slide_type": "slide"
    }
   },
   "source": [
    "# Loops in Python\n",
    "- Basic loop: `for` loop\n",
    "- **`for`** loops are typically used to do almost everything that needs to be done multiple times\n",
    "- **`if`** statements are better for one-time decisions\n",
    "- **`while`** statements are not used as frequently"
   ]
  },
  {
   "cell_type": "code",
   "execution_count": 13,
   "metadata": {
    "nbpresent": {
     "id": "ef78fb89-f170-4f1f-8715-32ce30cd8d2a"
    },
    "slideshow": {
     "slide_type": "fragment"
    }
   },
   "outputs": [
    {
     "name": "stdout",
     "output_type": "stream",
     "text": [
      "how\n",
      "do\n",
      "loop\n"
     ]
    }
   ],
   "source": [
    "elements = ['how', 'do', 'loop']\n",
    "for elem in elements:\n",
    "    print(elem)"
   ]
  },
  {
   "cell_type": "markdown",
   "metadata": {
    "collapsed": true,
    "nbpresent": {
     "id": "b386916c-604f-4adf-aec1-c55ac07b8451"
    },
    "slideshow": {
     "slide_type": "slide"
    }
   },
   "source": [
    "# Mathematics in Python\n",
    "- Normal mathematical operation are available\n",
    "- Other operations (such as square root) are available form numerical libraries like **`numpy`** or **`math`**"
   ]
  },
  {
   "cell_type": "markdown",
   "metadata": {
    "nbpresent": {
     "id": "0de7af74-60af-405e-a628-505b06436f10"
    },
    "slideshow": {
     "slide_type": "slide"
    }
   },
   "source": [
    "# Slicing for lists and strings\n",
    "- Often we will want to work with a group of elements of a list or a string"
   ]
  },
  {
   "cell_type": "code",
   "execution_count": 14,
   "metadata": {
    "collapsed": true,
    "nbpresent": {
     "id": "89d32d38-a711-41a7-b933-dacef8733e75"
    },
    "slideshow": {
     "slide_type": "fragment"
    }
   },
   "outputs": [],
   "source": [
    "# Define a string\n",
    "line = \"This is the line we're working on right now.\""
   ]
  },
  {
   "cell_type": "code",
   "execution_count": 15,
   "metadata": {
    "nbpresent": {
     "id": "3e007e0d-9724-4c0e-93b7-4cba0afa1cd4"
    },
    "slideshow": {
     "slide_type": "fragment"
    }
   },
   "outputs": [
    {
     "name": "stdout",
     "output_type": "stream",
     "text": [
      "h\n"
     ]
    }
   ],
   "source": [
    "# Prints element 1 from string.\n",
    "print( line[1] )"
   ]
  },
  {
   "cell_type": "code",
   "execution_count": 16,
   "metadata": {
    "nbpresent": {
     "id": "a2ccda02-274d-4941-8791-a3f688f58828"
    },
    "slideshow": {
     "slide_type": "fragment"
    }
   },
   "outputs": [
    {
     "name": "stdout",
     "output_type": "stream",
     "text": [
      " we'r\n"
     ]
    }
   ],
   "source": [
    "# Prints elments that range from 16 to 20\n",
    "print( line[16:21] ) "
   ]
  },
  {
   "cell_type": "markdown",
   "metadata": {
    "nbpresent": {
     "id": "42be1467-946b-45d8-b003-fff1f26e0434"
    },
    "slideshow": {
     "slide_type": "slide"
    }
   },
   "source": [
    "- Slicing can get a lot more sophisticated"
   ]
  },
  {
   "cell_type": "code",
   "execution_count": 17,
   "metadata": {
    "nbpresent": {
     "id": "ee896c91-5cf0-48c0-86cb-1f3414a4386f"
    },
    "slideshow": {
     "slide_type": "fragment"
    }
   },
   "outputs": [
    {
     "name": "stdout",
     "output_type": "stream",
     "text": [
      "This is the line we'\n"
     ]
    }
   ],
   "source": [
    "# Print elements BEFORE index 20\n",
    "print( line[:20] )"
   ]
  },
  {
   "cell_type": "code",
   "execution_count": 18,
   "metadata": {
    "nbpresent": {
     "id": "5c592ade-36c4-49ed-9310-998c11b96359"
    },
    "slideshow": {
     "slide_type": "fragment"
    }
   },
   "outputs": [
    {
     "name": "stdout",
     "output_type": "stream",
     "text": [
      "re working on right now.\n"
     ]
    }
   ],
   "source": [
    "# Print elements AFTER index 20\n",
    "print( line[20:] )"
   ]
  },
  {
   "cell_type": "code",
   "execution_count": 19,
   "metadata": {
    "nbpresent": {
     "id": "fd41d288-1a37-42a8-8493-f1575e71b7c6"
    },
    "slideshow": {
     "slide_type": "subslide"
    }
   },
   "outputs": [
    {
     "name": "stdout",
     "output_type": "stream",
     "text": [
      "This is the line we're working on right\n"
     ]
    }
   ],
   "source": [
    "# Use negative numbers to go backwards from the end\n",
    "print( line[:-5] )"
   ]
  },
  {
   "cell_type": "code",
   "execution_count": 20,
   "metadata": {
    "nbpresent": {
     "id": "28ed6eca-bb83-40b0-b528-c6f34cfd8c7d"
    },
    "slideshow": {
     "slide_type": "fragment"
    }
   },
   "outputs": [
    {
     "name": "stdout",
     "output_type": "stream",
     "text": [
      " the line we'\n"
     ]
    }
   ],
   "source": [
    "# Overwrites what was stored previously in `line`\n",
    "line = line[7:20]\n",
    "print( line )"
   ]
  },
  {
   "cell_type": "markdown",
   "metadata": {
    "nbpresent": {
     "id": "84faafda-6944-4dee-8d64-dd72e39bbecc"
    },
    "slideshow": {
     "slide_type": "slide"
    }
   },
   "source": [
    "# Using Python noninteractively\n",
    "- Using Python **non**-interactively (call from command-line) is more common for substantial/real tasks\n",
    "- Allows us to avoid retyping stuff\n",
    "- Allows reuse of code\n",
    "- Easier troubleshooting"
   ]
  },
  {
   "cell_type": "markdown",
   "metadata": {
    "nbpresent": {
     "id": "c0d04bb7-6837-4c67-a159-9fee52f701c4"
    },
    "slideshow": {
     "slide_type": "subslide"
    }
   },
   "source": [
    "- Let's say I have the following in a file named **`test.py`** (filename must end with `.py`)\n",
    "```python\n",
    "x = [0,1,2,3,4,5]\n",
    "y=[]\n",
    "for i in x:\n",
    "    y.append( i*i-1 )\n",
    "z = x+y\n",
    "print(z)\n",
    "```"
   ]
  },
  {
   "cell_type": "markdown",
   "metadata": {
    "nbpresent": {
     "id": "9dde1a62-e2b5-4ebb-ae6a-af499095a1f7"
    },
    "slideshow": {
     "slide_type": "fragment"
    }
   },
   "source": [
    "- To run the python script; Execute:\n",
    "  > python test.py\n",
    "- If you like, create a file with this as its contents and try it out"
   ]
  },
  {
   "cell_type": "markdown",
   "metadata": {
    "nbpresent": {
     "id": "b94a4a95-a8de-4bd8-b327-ff1ecd6def8e"
    },
    "slideshow": {
     "slide_type": "slide"
    }
   },
   "source": [
    "# Documentation in python\n",
    "- Functions can easily be documented by adding ‘doc stringsʼ at the beginnings of them\n",
    "  - These make it possible for the built-in ‘helpʼ to work for functions you have written as well"
   ]
  },
  {
   "cell_type": "code",
   "execution_count": 21,
   "metadata": {
    "collapsed": true,
    "nbpresent": {
     "id": "16ee5184-4fd2-493f-9ff5-5a6bd91d2130"
    },
    "slideshow": {
     "slide_type": "fragment"
    }
   },
   "outputs": [],
   "source": [
    "# Define some function\n",
    "def a(x, y): \n",
    "    \"\"\"Adds two variables x and y, of any type.  Returns single value.\"\"\" \n",
    "    return x + y "
   ]
  },
  {
   "cell_type": "code",
   "execution_count": 22,
   "metadata": {
    "nbpresent": {
     "id": "5a602127-7025-4171-88f8-73d884e54964"
    },
    "slideshow": {
     "slide_type": "fragment"
    }
   },
   "outputs": [
    {
     "name": "stdout",
     "output_type": "stream",
     "text": [
      "Help on function a in module __main__:\n",
      "\n",
      "a(x, y)\n",
      "    Adds two variables x and y, of any type.  Returns single value.\n",
      "\n"
     ]
    }
   ],
   "source": [
    "help(a)"
   ]
  },
  {
   "cell_type": "markdown",
   "metadata": {
    "nbpresent": {
     "id": "575377c3-20d2-43af-b71f-8b250013aa59"
    },
    "slideshow": {
     "slide_type": "subslide"
    }
   },
   "source": [
    "- Commenting is also important for code readability"
   ]
  },
  {
   "cell_type": "code",
   "execution_count": 23,
   "metadata": {
    "nbpresent": {
     "id": "d0a062ea-e5bb-44b8-b60e-1b783dd4d632"
    },
    "slideshow": {
     "slide_type": "fragment"
    }
   },
   "outputs": [
    {
     "name": "stdout",
     "output_type": "stream",
     "text": [
      "[0, 1, 4, 9]\n"
     ]
    }
   ],
   "source": [
    "#Compose a new list consisting of \n",
    "#the squares of elements in the original list\n",
    "some_list = [0,1,2,3]\n",
    "b = [ elem*elem for elem in some_list]\n",
    "print(b)"
   ]
  },
  {
   "cell_type": "markdown",
   "metadata": {
    "nbpresent": {
     "id": "724cbdf2-df9e-45cd-9f68-e52fb06f5641"
    },
    "slideshow": {
     "slide_type": "slide"
    }
   },
   "source": [
    "# Python modules\n",
    "\n",
    "- A Python ‘moduleʼ is a package of code that can be used from within another package\n",
    "- Many built-in modules already available\n",
    "- Others may be written by you\n",
    "- Any file you have already written may be used as a module\n",
    "- Can be written in other languages, including Fortran and C++ for speed"
   ]
  },
  {
   "cell_type": "markdown",
   "metadata": {
    "nbpresent": {
     "id": "8a9fe1cb-0fbe-459a-9dd3-3a00f199cfa1"
    },
    "slideshow": {
     "slide_type": "slide"
    }
   },
   "source": [
    "#    File input and output\n",
    "- File I/O is straightforward"
   ]
  },
  {
   "cell_type": "code",
   "execution_count": 24,
   "metadata": {
    "slideshow": {
     "slide_type": "fragment"
    }
   },
   "outputs": [
    {
     "name": "stdout",
     "output_type": "stream",
     "text": [
      "# Class 1 for PharmSci 175/275\n",
      "\n",
      "\n",
      "\n",
      "This directory contains lecture/course material for the first class of PharmSci 175/275.\n",
      "\n",
      "\n",
      "\n",
      "## Manifest\n",
      "\n",
      "- [`Lec1_Python_Linux_vi.ipynb`](Lec1_Python_Linux_vi.ipynb): Jupyter notebook with *interactive* lecture slides and interactive Python content; utilizes [RISE](https://damianavila.github.io/RISE/) for live rendering of python content.\n",
      "\n",
      "- [`Lec1_Python_Linux_Vi.html`](Lec1_Python_Linux_vi.html): HTML version of the Jupyter notebook for quicker viewing, but is non-interactive and no longer uses slide format.\n",
      "\n",
      "- `*.png`: Various supporting graphics utilized by the lecture\n",
      "\n",
      "- `tmp.txt`: Text file utilized by the lecture\n",
      "\n",
      "\n",
      "\n",
      "## Software requirements\n",
      "\n",
      "**To run** the notebook you will need the standard course materials detailed in [getting started](../getting-started.md).\n",
      "\n",
      "**To present** the notebook as in class, you will need to install [RISE](https://damianavila.github.io/RISE/). *Note: Appears to be some incompatibility with some nbpresent features and nbextension features with RISE; it may need a relatively clean/fresh conda env to behave.*\n",
      "\n",
      "\n",
      "\n",
      "## Usage information\n",
      "\n",
      "\n",
      "\n",
      "When presenting, be sure to note that the `?` mark (presence toggled by `,`) allows access to help info.\n",
      "\n",
      "Left and right arrow keys to advance/move back are obvious, but some other aspects are less obvious:\n",
      "\n",
      "- `w` to enter/exit overview mode\n",
      "\n",
      "- page up and page down to access sub-slides, which on Mac translate to `fn-down` and `fn-up`.\n",
      "\n"
     ]
    }
   ],
   "source": [
    "file = open('README.md', 'r')\n",
    "for line in file:\n",
    "    print(line)\n",
    "file.close()"
   ]
  },
  {
   "cell_type": "markdown",
   "metadata": {
    "nbpresent": {
     "id": "0bea3275-e5c5-40b8-9c6a-cec1b14a1f27"
    },
    "slideshow": {
     "slide_type": "subslide"
    }
   },
   "source": [
    "- ‘rʼ opens in read mode, ‘wʼ in write mode, ‘aʼ in append mode\n",
    "  - Read/write lines as list of strings\n",
    "     > `file.readlines()`    \n",
    "     > `file.writelines(lines)`\n",
    "  - Read/write a single line\n",
    "     > `file.readline()`     \n",
    "     > `file.writeline(line)`"
   ]
  },
  {
   "cell_type": "markdown",
   "metadata": {
    "slideshow": {
     "slide_type": "subslide"
    }
   },
   "source": [
    "  - Read/write a string from/to file\n",
    "     > `file.read()`   \n",
    "     > `file.write( str )` \n",
    "  - Close the file when done\n",
    "     > `file.close()`"
   ]
  },
  {
   "cell_type": "markdown",
   "metadata": {
    "nbpresent": {
     "id": "770a174c-8e2e-431d-85f1-a9e0219200f7"
    },
    "slideshow": {
     "slide_type": "slide"
    }
   },
   "source": [
    "# Common mistakes\n",
    "- Syntax errors, try some of them out to start getting a sense about how Python tells you these errors.\n",
    "- Most common is the print function:\n",
    "  - **Python3** uses: \n",
    "      > `print('string')`\n",
    "  - **Python2** uses:\n",
    "      > `print 'string' `"
   ]
  },
  {
   "cell_type": "code",
   "execution_count": 25,
   "metadata": {
    "slideshow": {
     "slide_type": "fragment"
    }
   },
   "outputs": [
    {
     "ename": "SyntaxError",
     "evalue": "Missing parentheses in call to 'print' (<ipython-input-25-7395f5556aba>, line 2)",
     "output_type": "error",
     "traceback": [
      "\u001b[0;36m  File \u001b[0;32m\"<ipython-input-25-7395f5556aba>\"\u001b[0;36m, line \u001b[0;32m2\u001b[0m\n\u001b[0;31m    print i\u001b[0m\n\u001b[0m          ^\u001b[0m\n\u001b[0;31mSyntaxError\u001b[0m\u001b[0;31m:\u001b[0m Missing parentheses in call to 'print'\n"
     ]
    }
   ],
   "source": [
    "for i in range(5):\n",
    "    print i\n",
    "    #print(i)"
   ]
  },
  {
   "cell_type": "code",
   "execution_count": 26,
   "metadata": {
    "nbpresent": {
     "id": "53337f74-db79-4d52-b2e0-609802b4b2d4"
    },
    "slideshow": {
     "slide_type": "subslide"
    }
   },
   "outputs": [
    {
     "ename": "SyntaxError",
     "evalue": "unexpected EOF while parsing (<ipython-input-26-fe14d13478df>, line 3)",
     "output_type": "error",
     "traceback": [
      "\u001b[0;36m  File \u001b[0;32m\"<ipython-input-26-fe14d13478df>\"\u001b[0;36m, line \u001b[0;32m3\u001b[0m\n\u001b[0;31m    a = sqrt(float(b+2.)\u001b[0m\n\u001b[0m                        ^\u001b[0m\n\u001b[0;31mSyntaxError\u001b[0m\u001b[0;31m:\u001b[0m unexpected EOF while parsing\n"
     ]
    }
   ],
   "source": [
    "from math import *\n",
    "b = 2\n",
    "a = sqrt(float(b+2.)"
   ]
  },
  {
   "cell_type": "code",
   "execution_count": 27,
   "metadata": {
    "nbpresent": {
     "id": "3551e3c1-0cf9-4ac6-9df1-576d99da45b8"
    },
    "slideshow": {
     "slide_type": "fragment"
    }
   },
   "outputs": [
    {
     "name": "stdout",
     "output_type": "stream",
     "text": [
      "[19]\n"
     ]
    }
   ],
   "source": [
    "#”scope” errors:\n",
    "for i in range(20):\n",
    "   a = []\n",
    "   a.append(i)\n",
    "print(a)"
   ]
  },
  {
   "cell_type": "code",
   "execution_count": 28,
   "metadata": {
    "nbpresent": {
     "id": "fab3c373-d173-44b0-a920-bfe5185538d0"
    },
    "slideshow": {
     "slide_type": "fragment"
    }
   },
   "outputs": [
    {
     "ename": "TypeError",
     "evalue": "must be str, not int",
     "output_type": "error",
     "traceback": [
      "\u001b[0;31m---------------------------------------------------\u001b[0m",
      "\u001b[0;31mTypeError\u001b[0m         Traceback (most recent call last)",
      "\u001b[0;32m<ipython-input-28-e059285308f0>\u001b[0m in \u001b[0;36m<module>\u001b[0;34m()\u001b[0m\n\u001b[1;32m      2\u001b[0m \u001b[0ma\u001b[0m \u001b[0;34m=\u001b[0m \u001b[0;34m'test string'\u001b[0m\u001b[0;34m\u001b[0m\u001b[0m\n\u001b[1;32m      3\u001b[0m \u001b[0mb\u001b[0m \u001b[0;34m=\u001b[0m \u001b[0;36m2\u001b[0m\u001b[0;34m\u001b[0m\u001b[0m\n\u001b[0;32m----> 4\u001b[0;31m \u001b[0mc\u001b[0m \u001b[0;34m=\u001b[0m \u001b[0ma\u001b[0m\u001b[0;34m+\u001b[0m\u001b[0mb\u001b[0m\u001b[0;34m\u001b[0m\u001b[0m\n\u001b[0m",
      "\u001b[0;31mTypeError\u001b[0m: must be str, not int"
     ]
    }
   ],
   "source": [
    "#type errors\n",
    "a = 'test string'\n",
    "b = 2\n",
    "c = a+b"
   ]
  },
  {
   "cell_type": "markdown",
   "metadata": {
    "nbpresent": {
     "id": "df2361bb-c873-43ed-b252-0c383e67a2c1"
    },
    "slideshow": {
     "slide_type": "slide"
    }
   },
   "source": [
    "# Tips for *debugging*\n",
    "- Use print statements\n",
    "  - Print the contents of variables throughout the code so you can see what’s going on\n",
    "- Step through the code if necessary\n",
    "  - You can use a debugger to do this, or just insert raw_input() statements in your code, which pause it until you provide any input (such as hitting ‘enter’)\n",
    "- Test the components of your code \n",
    "  - If your program involves multiple conceptual steps, make sure each one works independently\n",
    "- If it is too confusing, simplify by breaking into smaller steps \n"
   ]
  },
  {
   "cell_type": "markdown",
   "metadata": {
    "nbpresent": {
     "id": "d4dee9b7-b8b0-461b-83d0-6775f86bc3ef"
    },
    "slideshow": {
     "slide_type": "slide"
    }
   },
   "source": [
    "# Moving on to SciPy/NumPy "
   ]
  },
  {
   "cell_type": "markdown",
   "metadata": {
    "nbpresent": {
     "id": "9729fa78-27a1-4c9c-9a72-4da3e2854aad"
    },
    "slideshow": {
     "slide_type": "subslide"
    }
   },
   "source": [
    "## Python is not particularly fast for numerics; numerical libraries help\n",
    "- One disadvantage of Python not being a compiled language is that it tends to be slow for large-scale numerics\n",
    "- NumPy (Numeric Python) provides basic routines for manipulating arrays and numeric data\n",
    "- SciPy extends it by providing minimization, Fourier tranformation, statistical, and other algorithms\n",
    "- These enhance speed because they are precompiled and written in other languages, though the user doesnʼt need to know about this part"
   ]
  },
  {
   "cell_type": "markdown",
   "metadata": {
    "nbpresent": {
     "id": "f8729f0f-35c3-4870-818c-27010b7b7354"
    },
    "slideshow": {
     "slide_type": "slide"
    }
   },
   "source": [
    "# Reminder: Import modules to allow access to their functionality"
   ]
  },
  {
   "cell_type": "code",
   "execution_count": 29,
   "metadata": {
    "nbpresent": {
     "id": "b13611ce-9c21-4cc9-a307-1ee563b99a45"
    },
    "scrolled": true,
    "slideshow": {
     "slide_type": "fragment"
    }
   },
   "outputs": [
    {
     "name": "stdout",
     "output_type": "stream",
     "text": [
      "Help on function sum in module numpy.core.fromnumeric:\n",
      "\n",
      "sum(a, axis=None, dtype=None, out=None, keepdims=<class 'numpy._globals._NoValue'>)\n",
      "    Sum of array elements over a given axis.\n",
      "    \n",
      "    Parameters\n",
      "    ----------\n",
      "    a : array_like\n",
      "        Elements to sum.\n",
      "    axis : None or int or tuple of ints, optional\n",
      "        Axis or axes along which a sum is performed.  The default,\n",
      "        axis=None, will sum all of the elements of the input array.  If\n",
      "        axis is negative it counts from the last to the first axis.\n",
      "    \n",
      "        .. versionadded:: 1.7.0\n",
      "    \n",
      "        If axis is a tuple of ints, a sum is performed on all of the axes\n",
      "        specified in the tuple instead of a single axis or all the axes as\n",
      "        before.\n",
      "    dtype : dtype, optional\n",
      "        The type of the returned array and of the accumulator in which the\n",
      "        elements are summed.  The dtype of `a` is used by default unless `a`\n",
      "        has an integer dtype of less precision than the default platform\n",
      "        integer.  In that case, if `a` is signed then the platform integer\n",
      "        is used while if `a` is unsigned then an unsigned integer of the\n",
      "        same precision as the platform integer is used.\n",
      "    out : ndarray, optional\n",
      "        Alternative output array in which to place the result. It must have\n",
      "        the same shape as the expected output, but the type of the output\n",
      "        values will be cast if necessary.\n",
      "    keepdims : bool, optional\n",
      "        If this is set to True, the axes which are reduced are left\n",
      "        in the result as dimensions with size one. With this option,\n",
      "        the result will broadcast correctly against the input array.\n",
      "    \n",
      "        If the default value is passed, then `keepdims` will not be\n",
      "        passed through to the `sum` method of sub-classes of\n",
      "        `ndarray`, however any non-default value will be.  If the\n",
      "        sub-classes `sum` method does not implement `keepdims` any\n",
      "        exceptions will be raised.\n",
      "    \n",
      "    Returns\n",
      "    -------\n",
      "    sum_along_axis : ndarray\n",
      "        An array with the same shape as `a`, with the specified\n",
      "        axis removed.   If `a` is a 0-d array, or if `axis` is None, a scalar\n",
      "        is returned.  If an output array is specified, a reference to\n",
      "        `out` is returned.\n",
      "    \n",
      "    See Also\n",
      "    --------\n",
      "    ndarray.sum : Equivalent method.\n",
      "    \n",
      "    cumsum : Cumulative sum of array elements.\n",
      "    \n",
      "    trapz : Integration of array values using the composite trapezoidal rule.\n",
      "    \n",
      "    mean, average\n",
      "    \n",
      "    Notes\n",
      "    -----\n",
      "    Arithmetic is modular when using integer types, and no error is\n",
      "    raised on overflow.\n",
      "    \n",
      "    The sum of an empty array is the neutral element 0:\n",
      "    \n",
      "    >>> np.sum([])\n",
      "    0.0\n",
      "    \n",
      "    Examples\n",
      "    --------\n",
      "    >>> np.sum([0.5, 1.5])\n",
      "    2.0\n",
      "    >>> np.sum([0.5, 0.7, 0.2, 1.5], dtype=np.int32)\n",
      "    1\n",
      "    >>> np.sum([[0, 1], [0, 5]])\n",
      "    6\n",
      "    >>> np.sum([[0, 1], [0, 5]], axis=0)\n",
      "    array([0, 6])\n",
      "    >>> np.sum([[0, 1], [0, 5]], axis=1)\n",
      "    array([1, 5])\n",
      "    \n",
      "    If the accumulator is too small, overflow occurs:\n",
      "    \n",
      "    >>> np.ones(128, dtype=np.int8).sum(dtype=np.int8)\n",
      "    -128\n",
      "\n"
     ]
    }
   ],
   "source": [
    "#Access using numpy.X\n",
    "import numpy\n",
    "help(numpy.sum)"
   ]
  },
  {
   "cell_type": "code",
   "execution_count": 30,
   "metadata": {
    "nbpresent": {
     "id": "530c1fe7-7c6f-4cf7-b2c5-d87079b1d9e2"
    },
    "scrolled": true,
    "slideshow": {
     "slide_type": "fragment"
    }
   },
   "outputs": [
    {
     "name": "stdout",
     "output_type": "stream",
     "text": [
      "Help on function sum in module numpy.core.fromnumeric:\n",
      "\n",
      "sum(a, axis=None, dtype=None, out=None, keepdims=<class 'numpy._globals._NoValue'>)\n",
      "    Sum of array elements over a given axis.\n",
      "    \n",
      "    Parameters\n",
      "    ----------\n",
      "    a : array_like\n",
      "        Elements to sum.\n",
      "    axis : None or int or tuple of ints, optional\n",
      "        Axis or axes along which a sum is performed.  The default,\n",
      "        axis=None, will sum all of the elements of the input array.  If\n",
      "        axis is negative it counts from the last to the first axis.\n",
      "    \n",
      "        .. versionadded:: 1.7.0\n",
      "    \n",
      "        If axis is a tuple of ints, a sum is performed on all of the axes\n",
      "        specified in the tuple instead of a single axis or all the axes as\n",
      "        before.\n",
      "    dtype : dtype, optional\n",
      "        The type of the returned array and of the accumulator in which the\n",
      "        elements are summed.  The dtype of `a` is used by default unless `a`\n",
      "        has an integer dtype of less precision than the default platform\n",
      "        integer.  In that case, if `a` is signed then the platform integer\n",
      "        is used while if `a` is unsigned then an unsigned integer of the\n",
      "        same precision as the platform integer is used.\n",
      "    out : ndarray, optional\n",
      "        Alternative output array in which to place the result. It must have\n",
      "        the same shape as the expected output, but the type of the output\n",
      "        values will be cast if necessary.\n",
      "    keepdims : bool, optional\n",
      "        If this is set to True, the axes which are reduced are left\n",
      "        in the result as dimensions with size one. With this option,\n",
      "        the result will broadcast correctly against the input array.\n",
      "    \n",
      "        If the default value is passed, then `keepdims` will not be\n",
      "        passed through to the `sum` method of sub-classes of\n",
      "        `ndarray`, however any non-default value will be.  If the\n",
      "        sub-classes `sum` method does not implement `keepdims` any\n",
      "        exceptions will be raised.\n",
      "    \n",
      "    Returns\n",
      "    -------\n",
      "    sum_along_axis : ndarray\n",
      "        An array with the same shape as `a`, with the specified\n",
      "        axis removed.   If `a` is a 0-d array, or if `axis` is None, a scalar\n",
      "        is returned.  If an output array is specified, a reference to\n",
      "        `out` is returned.\n",
      "    \n",
      "    See Also\n",
      "    --------\n",
      "    ndarray.sum : Equivalent method.\n",
      "    \n",
      "    cumsum : Cumulative sum of array elements.\n",
      "    \n",
      "    trapz : Integration of array values using the composite trapezoidal rule.\n",
      "    \n",
      "    mean, average\n",
      "    \n",
      "    Notes\n",
      "    -----\n",
      "    Arithmetic is modular when using integer types, and no error is\n",
      "    raised on overflow.\n",
      "    \n",
      "    The sum of an empty array is the neutral element 0:\n",
      "    \n",
      "    >>> np.sum([])\n",
      "    0.0\n",
      "    \n",
      "    Examples\n",
      "    --------\n",
      "    >>> np.sum([0.5, 1.5])\n",
      "    2.0\n",
      "    >>> np.sum([0.5, 0.7, 0.2, 1.5], dtype=np.int32)\n",
      "    1\n",
      "    >>> np.sum([[0, 1], [0, 5]])\n",
      "    6\n",
      "    >>> np.sum([[0, 1], [0, 5]], axis=0)\n",
      "    array([0, 6])\n",
      "    >>> np.sum([[0, 1], [0, 5]], axis=1)\n",
      "    array([1, 5])\n",
      "    \n",
      "    If the accumulator is too small, overflow occurs:\n",
      "    \n",
      "    >>> np.ones(128, dtype=np.int8).sum(dtype=np.int8)\n",
      "    -128\n",
      "\n"
     ]
    }
   ],
   "source": [
    "#Give it a shortcut\n",
    "import numpy as np\n",
    "help(np.sum)"
   ]
  },
  {
   "cell_type": "markdown",
   "metadata": {
    "nbpresent": {
     "id": "05198065-1235-48d5-b637-64fc34e2b5b2"
    },
    "slideshow": {
     "slide_type": "slide"
    }
   },
   "source": [
    "# Arrays are the key element of numpy\n",
    "- An array is like a Python list, but it only contains numerical data (which must all be of the same type, like float or int)\n",
    "- Arrays are much more efficient than lists\n",
    "- Many common tasks can be written to be fast, using array operations rather than working element by element\n",
    "- Unlike lists, array sizes are assigned in advance\n",
    "- It is easy to create arrays:"
   ]
  },
  {
   "cell_type": "code",
   "execution_count": 31,
   "metadata": {
    "nbpresent": {
     "id": "3c3c7be1-1e2b-4741-aac8-839b13167549"
    },
    "slideshow": {
     "slide_type": "fragment"
    }
   },
   "outputs": [
    {
     "name": "stdout",
     "output_type": "stream",
     "text": [
      "[ 1.  4.  5.  8.]\n"
     ]
    }
   ],
   "source": [
    "a = [ 1, 4, 5, 8]\n",
    "b = np.array( a, float ) \n",
    "print(b)"
   ]
  },
  {
   "cell_type": "code",
   "execution_count": 32,
   "metadata": {
    "nbpresent": {
     "id": "6fb98173-af47-4b48-891b-af429bac1358"
    },
    "slideshow": {
     "slide_type": "subslide"
    }
   },
   "outputs": [
    {
     "name": "stdout",
     "output_type": "stream",
     "text": [
      "[0 0 0 0 0 0 0 0 0 0]\n",
      "<class 'numpy.ndarray'>\n"
     ]
    }
   ],
   "source": [
    "c = np.zeros( (10), int )\n",
    "print(c)\n",
    "print( type(c) )"
   ]
  },
  {
   "cell_type": "markdown",
   "metadata": {
    "nbpresent": {
     "id": "39ab0c34-4125-431f-a232-aeed0e282570"
    },
    "slideshow": {
     "slide_type": "slide"
    }
   },
   "source": [
    "# Multidimensional arrays, and array preallocation\n",
    "\n",
    "- Array preallocation is useful when amount of data is known"
   ]
  },
  {
   "cell_type": "code",
   "execution_count": 33,
   "metadata": {
    "collapsed": true,
    "nbpresent": {
     "id": "c0f22a3f-3f89-4fb9-a14c-70de582202e7"
    },
    "slideshow": {
     "slide_type": "fragment"
    }
   },
   "outputs": [],
   "source": [
    "#Open a file and read lines\n",
    "file = open('tmp.txt', 'r')\n",
    "text = file.readlines()\n",
    "file.close()"
   ]
  },
  {
   "cell_type": "code",
   "execution_count": 34,
   "metadata": {
    "nbpresent": {
     "id": "cdd28b0b-31a1-4676-b45e-6db115cbdf06"
    },
    "slideshow": {
     "slide_type": "fragment"
    }
   },
   "outputs": [
    {
     "name": "stdout",
     "output_type": "stream",
     "text": [
      "0 22 # Data might go below\n",
      "\n",
      "1 60 # It might have comma separated columns with comments first\n",
      "\n",
      "2 52 # atomname, xcoordinate, y coordinate, z coordinate\n",
      "\n",
      "3 18 C1, 0.0, 0.0, 0.0\n",
      "\n",
      "4 18 C2, 1.4, 0.0, 0.0\n",
      "\n",
      "[ 22.  60.  52.  18.  18.]\n"
     ]
    }
   ],
   "source": [
    "#Allocate storage for data from file\n",
    "data = np.zeros( (len(text)), float )\n",
    "\n",
    "#Loop over lines in text, index,\n",
    "# count the characters per line\n",
    "# Storing to data array\n",
    "for (linenum, line) in enumerate(text):\n",
    "    print(linenum , len(line), line)\n",
    "    data[linenum] = len(line)\n",
    "\n",
    "print(data)"
   ]
  },
  {
   "cell_type": "markdown",
   "metadata": {
    "nbpresent": {
     "id": "5aae680c-c991-451c-a288-c0a42af24a38"
    },
    "slideshow": {
     "slide_type": "subslide"
    }
   },
   "source": [
    "- Arrays can be multidimensional and different “axes” are accessed using commas within bracket notation"
   ]
  },
  {
   "cell_type": "code",
   "execution_count": 35,
   "metadata": {
    "nbpresent": {
     "id": "2802df8e-b974-47b1-ad6f-7c94ec2483c5"
    },
    "slideshow": {
     "slide_type": "fragment"
    }
   },
   "outputs": [
    {
     "name": "stdout",
     "output_type": "stream",
     "text": [
      "[[ 1.  2.  3.]\n",
      " [ 4.  5.  6.]]\n"
     ]
    },
    {
     "data": {
      "text/plain": [
       "2.0"
      ]
     },
     "execution_count": 35,
     "metadata": {},
     "output_type": "execute_result"
    }
   ],
   "source": [
    "a = np.array( [ [1,2,3], [4, 5, 6] ], float )\n",
    "print(a)\n",
    "\n",
    "a[0,1]"
   ]
  },
  {
   "cell_type": "markdown",
   "metadata": {
    "nbpresent": {
     "id": "bed0307b-1e75-4c0e-a1b6-19a7ca6cabbc"
    },
    "slideshow": {
     "slide_type": "slide"
    }
   },
   "source": [
    "# Array slicing is rather like list slicing"
   ]
  },
  {
   "cell_type": "code",
   "execution_count": 36,
   "metadata": {
    "nbpresent": {
     "id": "1fa0872b-b98c-4584-b440-4dc2d231caa8"
    },
    "slideshow": {
     "slide_type": "fragment"
    }
   },
   "outputs": [
    {
     "name": "stdout",
     "output_type": "stream",
     "text": [
      "[ 1.  2.  3.]\n"
     ]
    }
   ],
   "source": [
    "a = np.array( [ [1,2,3], [4, 5, 6] ], float )\n",
    "print( a[0,:] )"
   ]
  },
  {
   "cell_type": "code",
   "execution_count": 37,
   "metadata": {
    "nbpresent": {
     "id": "2cc412f7-06c0-4492-8352-73913d959bac"
    },
    "slideshow": {
     "slide_type": "fragment"
    }
   },
   "outputs": [
    {
     "name": "stdout",
     "output_type": "stream",
     "text": [
      "[ 3.  6.]\n"
     ]
    }
   ],
   "source": [
    "print( a[:,2] )"
   ]
  },
  {
   "cell_type": "code",
   "execution_count": 38,
   "metadata": {
    "nbpresent": {
     "id": "968e6ec3-0287-42d4-9e42-881066727545"
    },
    "slideshow": {
     "slide_type": "fragment"
    }
   },
   "outputs": [
    {
     "name": "stdout",
     "output_type": "stream",
     "text": [
      "[[ 5.  6.]]\n"
     ]
    }
   ],
   "source": [
    "print( a[-1:, -2:] )"
   ]
  },
  {
   "cell_type": "markdown",
   "metadata": {
    "nbpresent": {
     "id": "8c9cdfe1-95e2-4535-b926-7c9976250e7a"
    },
    "slideshow": {
     "slide_type": "fragment"
    }
   },
   "source": [
    "- Note that use of : in a particular dimension means everything in that dimension\n",
    "- 2D arrays can be thought of as having indices of “rows” and then “columns”, \n",
    "   - First index is row number, second is column number"
   ]
  },
  {
   "cell_type": "markdown",
   "metadata": {
    "nbpresent": {
     "id": "19cc6be4-a681-44a2-a2a2-caaaf9b3d898"
    },
    "slideshow": {
     "slide_type": "slide"
    }
   },
   "source": [
    "# Common array inquiries\n",
    "- Shape can be obtained from shape property"
   ]
  },
  {
   "cell_type": "code",
   "execution_count": 39,
   "metadata": {
    "nbpresent": {
     "id": "9442e065-c8e2-4611-b3af-053a70b12469"
    },
    "slideshow": {
     "slide_type": "fragment"
    }
   },
   "outputs": [
    {
     "data": {
      "text/plain": [
       "(2, 3)"
      ]
     },
     "execution_count": 39,
     "metadata": {},
     "output_type": "execute_result"
    }
   ],
   "source": [
    "a.shape"
   ]
  },
  {
   "cell_type": "markdown",
   "metadata": {
    "nbpresent": {
     "id": "7aa7b760-aa91-4489-9ac2-deaa29efa678"
    },
    "slideshow": {
     "slide_type": "fragment"
    }
   },
   "source": [
    "- Lengths give length of first axis"
   ]
  },
  {
   "cell_type": "code",
   "execution_count": 40,
   "metadata": {
    "nbpresent": {
     "id": "852c0016-177b-4ec3-b0e3-78db3e5b8d90"
    },
    "slideshow": {
     "slide_type": "fragment"
    }
   },
   "outputs": [
    {
     "data": {
      "text/plain": [
       "2"
      ]
     },
     "execution_count": 40,
     "metadata": {},
     "output_type": "execute_result"
    }
   ],
   "source": [
    "len(a)"
   ]
  },
  {
   "cell_type": "markdown",
   "metadata": {
    "nbpresent": {
     "id": "373a32ea-6fb3-42f7-a7a1-15a55a3a7a76"
    },
    "slideshow": {
     "slide_type": "subslide"
    }
   },
   "source": [
    "- The `in` statement can be used to test for presence of values"
   ]
  },
  {
   "cell_type": "code",
   "execution_count": 41,
   "metadata": {
    "nbpresent": {
     "id": "3750e6ba-0631-4e1d-b8ca-9d5843555f1d"
    },
    "slideshow": {
     "slide_type": "fragment"
    }
   },
   "outputs": [
    {
     "name": "stdout",
     "output_type": "stream",
     "text": [
      "True\n",
      "False\n"
     ]
    }
   ],
   "source": [
    "a = np.array( [ [1,2,3], [4, 5, 6] ], float )\n",
    "print( 2 in a )\n",
    "print( 0 in a )"
   ]
  },
  {
   "cell_type": "markdown",
   "metadata": {
    "nbpresent": {
     "id": "b77acd4e-9a51-4add-816d-6d9057246f9d"
    },
    "slideshow": {
     "slide_type": "fragment"
    }
   },
   "source": [
    "- Arrays can be converted to lists"
   ]
  },
  {
   "cell_type": "code",
   "execution_count": 42,
   "metadata": {
    "nbpresent": {
     "id": "603d423b-8a47-4aa8-b444-6da53bc7f973"
    },
    "slideshow": {
     "slide_type": "fragment"
    }
   },
   "outputs": [
    {
     "data": {
      "text/plain": [
       "[[1.0, 2.0, 3.0], [4.0, 5.0, 6.0]]"
      ]
     },
     "execution_count": 42,
     "metadata": {},
     "output_type": "execute_result"
    }
   ],
   "source": [
    "a.tolist()"
   ]
  },
  {
   "cell_type": "markdown",
   "metadata": {
    "nbpresent": {
     "id": "ad8e35bb-8557-4576-8211-b4779c1e117f"
    },
    "slideshow": {
     "slide_type": "slide"
    }
   },
   "source": [
    "# Combining arrays and simple array math\n",
    "- Arrays are combined not with +, but with c = np.concatenate(a,b)\n",
    "- For array math, arrays should be the same size\n",
    "  - `+, -, /, *, %, and **, all` do element-by-element operations as you might expect\n",
    "  - For multidimensional arrays, * performs element-by-element multiplication, NOT matrix multiplication (there are other functions for that)"
   ]
  },
  {
   "cell_type": "code",
   "execution_count": 43,
   "metadata": {
    "nbpresent": {
     "id": "b0b90fa2-590d-406a-a187-967fe4c0772d"
    },
    "slideshow": {
     "slide_type": "fragment"
    }
   },
   "outputs": [
    {
     "data": {
      "text/plain": [
       "array([  5.,   4.,  18.])"
      ]
     },
     "execution_count": 43,
     "metadata": {},
     "output_type": "execute_result"
    }
   ],
   "source": [
    "a = np.array([1,2,3], float) \n",
    "b = np.array([5,2,6], float) \n",
    "a * b "
   ]
  },
  {
   "cell_type": "markdown",
   "metadata": {
    "nbpresent": {
     "id": "39b5a3ec-c550-47fe-b839-20432384fdda"
    },
    "slideshow": {
     "slide_type": "subslide"
    }
   },
   "source": [
    "- Arrays (unlike lists) can handle math with scalars"
   ]
  },
  {
   "cell_type": "code",
   "execution_count": 44,
   "metadata": {
    "nbpresent": {
     "id": "21d6fd53-5a49-4391-a804-2f98a8f30f4b"
    },
    "slideshow": {
     "slide_type": "fragment"
    }
   },
   "outputs": [
    {
     "name": "stdout",
     "output_type": "stream",
     "text": [
      "[ 3.  4.  5.]\n"
     ]
    }
   ],
   "source": [
    "a = np.array([1,2,3], float)\n",
    "a+=2\n",
    "print(a)"
   ]
  },
  {
   "cell_type": "markdown",
   "metadata": {
    "nbpresent": {
     "id": "bb463759-258d-4e8a-b402-3d5e439c9923"
    },
    "slideshow": {
     "slide_type": "slide"
    }
   },
   "source": [
    "# Mathematical functions and array operations\n",
    "- Numpy provides many mathematical functions and constants\n",
    "  - functions: `abs`, `sign`, `sqrt`, `log`, `log10`, `exp`, `sin`, `cos`, `tan`, `arcsin`, `arccos`, `arctan`, `sinh`, `cosh`, `tanh`, `archsinh`, ..\n",
    "  - constants: `pi`, `e`\n",
    " \n",
    "- There are also many functions for whole array operations\n",
    "    - Applied like `a.sum()`, which sums elements in array\n",
    "       > a.prod(), a.mean(), a.var(), a.std(), a.min(), a.max()\n",
    "       \n",
    "    - `argmin` and `argmax` give indices of minimum and maximum values"
   ]
  },
  {
   "cell_type": "markdown",
   "metadata": {
    "nbpresent": {
     "id": "92ac5e0a-90cd-4a15-af9e-e13a4b7c86ff"
    },
    "slideshow": {
     "slide_type": "subslide"
    }
   },
   "source": [
    "- Can limit application to a particular axis (direction) using optional axis argument"
   ]
  },
  {
   "cell_type": "code",
   "execution_count": 45,
   "metadata": {
    "nbpresent": {
     "id": "e962ff34-bd66-4277-835a-8580f1b9c0e5"
    },
    "slideshow": {
     "slide_type": "fragment"
    }
   },
   "outputs": [
    {
     "data": {
      "text/plain": [
       "array([ 2.,  2.])"
      ]
     },
     "execution_count": 45,
     "metadata": {},
     "output_type": "execute_result"
    }
   ],
   "source": [
    "a = np.array([[0,2], [3, -1], [3,5]], float)\n",
    "a.mean(axis=0)"
   ]
  },
  {
   "cell_type": "markdown",
   "metadata": {
    "nbpresent": {
     "id": "1a1035f0-a59c-4a2c-b674-f1517cd8437c"
    },
    "slideshow": {
     "slide_type": "slide"
    }
   },
   "source": [
    "# Comparisons to arrays\n",
    "- Standard comparisons can be performed on arrays\n",
    "    - Return arrays of Boolean (True/False) values"
   ]
  },
  {
   "cell_type": "code",
   "execution_count": 46,
   "metadata": {
    "nbpresent": {
     "id": "2db136b8-6ada-4ef2-a1c5-575bed6590b2"
    },
    "slideshow": {
     "slide_type": "fragment"
    }
   },
   "outputs": [
    {
     "data": {
      "text/plain": [
       "array([ True, False, False], dtype=bool)"
      ]
     },
     "execution_count": 46,
     "metadata": {},
     "output_type": "execute_result"
    }
   ],
   "source": [
    "a = np.array([1,3,0] , float)\n",
    "b = np.array([0,3,2], float)\n",
    "a > b"
   ]
  },
  {
   "cell_type": "markdown",
   "metadata": {
    "nbpresent": {
     "id": "4f388c4d-1337-41f5-aefa-df1d2d9ff1af"
    },
    "slideshow": {
     "slide_type": "subslide"
    }
   },
   "source": [
    "- `where` can be used to test where a particular condition is met, returning indices where it is met"
   ]
  },
  {
   "cell_type": "code",
   "execution_count": 47,
   "metadata": {
    "nbpresent": {
     "id": "a067ca97-016f-4ec4-9095-ead8ae7e4699"
    },
    "slideshow": {
     "slide_type": "fragment"
    }
   },
   "outputs": [
    {
     "data": {
      "text/plain": [
       "(array([0, 3, 6]),)"
      ]
     },
     "execution_count": 47,
     "metadata": {},
     "output_type": "execute_result"
    }
   ],
   "source": [
    "coordinates = np.array( [0.0, 0.45, 0.75, 0.13, 0.89, 1.47, 0.14], float )\n",
    "interesting_residues = [ True, False, False, True, True, False, True]\n",
    "indices = np.where( interesting_residues )\n",
    "interesting_coordinates = coordinates[indices] #See p.15 NumPy Writeup\n",
    "interesting_coordinates\n",
    "np.where( coordinates < 0.3 )"
   ]
  },
  {
   "cell_type": "markdown",
   "metadata": {
    "nbpresent": {
     "id": "7708de15-dd62-4946-9abd-1626b903ffd2"
    },
    "slideshow": {
     "slide_type": "fragment"
    }
   },
   "source": [
    "- Logical operations can be used in constructing conditions\n",
    "    - logical_and, logical_or, i.e np.logical_and (a > 0, a < 3) indices places where a meets conditions"
   ]
  },
  {
   "cell_type": "markdown",
   "metadata": {
    "nbpresent": {
     "id": "a12f9cc3-eb00-4421-a4cd-80b4e730a7b9"
    },
    "slideshow": {
     "slide_type": "slide"
    }
   },
   "source": [
    "# A couple of matplotlib/pylab plotting tips\n",
    "## Plots using pylab are very easy"
   ]
  },
  {
   "cell_type": "code",
   "execution_count": 48,
   "metadata": {
    "nbpresent": {
     "id": "2eb6c69f-c51a-429c-94f9-ee5129d2fb4b"
    },
    "slideshow": {
     "slide_type": "fragment"
    }
   },
   "outputs": [
    {
     "data": {
      "image/png": "[encoded data removed]",
      "text/plain": [
       "<matplotlib.figure.Figure at 0x110310198>"
      ]
     },
     "metadata": {},
     "output_type": "display_data"
    }
   ],
   "source": [
    "import matplotlib.pyplot as plt\n",
    "%matplotlib inline\n",
    "import numpy as np\n",
    "\n",
    "xvals = np.arange(10)\n",
    "yvals = [0, 5, 7, 3,13, 7, -5, 8 , 3, 7]\n",
    "plt.plot(xvals, yvals)\n",
    "plt.show()"
   ]
  },
  {
   "cell_type": "markdown",
   "metadata": {
    "nbpresent": {
     "id": "549e3816-b334-4ff7-aa89-97d682d6e175"
    },
    "slideshow": {
     "slide_type": "subslide"
    }
   },
   "source": [
    "- Some other useful things to know:\n",
    "  - various other file formats are available, such as png, pdf, jpg, svg, etc.\n",
    "  - axis labels can be added (xlabel, ylabel)\n",
    "  - limits adjusted with xlim, ylim etc.\n",
    "  - Symbols and line styles can be specified with optional argument to plot: \n",
    "  `plot(xvals, yvals, 'mo')` would plot with magenta circles; see `help(plot)`\n",
    "  - To create a new figure (rather than adding to existing one) use `figure()`\n",
    "- Documention is avilable online, including examples; use Google and `help()`"
   ]
  },
  {
   "cell_type": "markdown",
   "metadata": {
    "nbpresent": {
     "id": "82b6920c-b127-4ef4-aeb9-3390a79792c7"
    },
    "slideshow": {
     "slide_type": "slide"
    }
   },
   "source": [
    "# Lists, assignment, and name binding: A word to the wise\n",
    "- Python handles assignment often by pointing\n",
    "  - i.e. `a = 2` creates 2 in memory, then points the variable `a` to it\n",
    "  - This means that copying is not necessarily as expected:\n",
    "    - `a = [1, 2, 3]` and `b=a` makes b point to the same place as a, \n",
    "    - After setting `b[1] = 0`, **`print(a)`**” will give **a = [1, 0, 3]**\n",
    "  - If copies are needed, the copy module can be used: import copy, b = copy.copy(a)\n",
    "  "
   ]
  },
  {
   "cell_type": "markdown",
   "metadata": {
    "nbpresent": {
     "id": "dbf1da4a-4789-40d5-8f02-30071fb60bb2"
    },
    "slideshow": {
     "slide_type": "subslide"
    }
   },
   "source": [
    "- BUT this is not true for some types of data -- numbers are ‘immutable’, \n",
    "   - so setting `a = 2`, `b = a`, and `a=3`, leaves a with the value 3 and b with the value 2. \n",
    "   - Setting a = 3 makes a point to a new object in memory, leaving b pointing to the old one\n",
    "- This can be confusing -- the point is, you should just be careful not to assume b = a gives you a COPY of a, though this is always OK for numbers"
   ]
  },
  {
   "cell_type": "markdown",
   "metadata": {
    "nbpresent": {
     "id": "f1ed6cf8-a4eb-4477-864e-b7903ec87358"
    },
    "slideshow": {
     "slide_type": "slide"
    }
   },
   "source": [
    "# “Random” numbers in Python\n",
    "- In computational science, we often want to do something with a certain probability. This means we need a “random” number to determine whether or not an event happens.\n",
    "  - i.e. assigning random initial velocities\n",
    "- Computers can’t actually generate random numbers -- they are deterministic\n",
    "  - So we generate pseudorandom numbers -- deterministically generated from a seed number, but distributed in a way that is very similar to random."
   ]
  },
  {
   "cell_type": "markdown",
   "metadata": {
    "nbpresent": {
     "id": "e8c5e824-b625-4515-a2b0-91eed30563cd"
    },
    "slideshow": {
     "slide_type": "subslide"
    }
   },
   "source": [
    "- NumPy has a random number generator in its ‘random’ module"
   ]
  },
  {
   "cell_type": "code",
   "execution_count": 49,
   "metadata": {
    "nbpresent": {
     "id": "869143a9-9a86-430f-bcc5-cc003d56646f"
    },
    "slideshow": {
     "slide_type": "fragment"
    }
   },
   "outputs": [
    {
     "data": {
      "text/plain": [
       "array([ 0.33677247,  0.52693437,  0.79529578,  0.78867702,  0.02147624])"
      ]
     },
     "execution_count": 49,
     "metadata": {},
     "output_type": "execute_result"
    }
   ],
   "source": [
    "np.random.seed(293423)\n",
    "np.random.rand(5) "
   ]
  },
  {
   "cell_type": "code",
   "execution_count": 50,
   "metadata": {
    "nbpresent": {
     "id": "1b172090-7c09-4d57-b8b5-94b7efd747db"
    },
    "slideshow": {
     "slide_type": "fragment"
    }
   },
   "outputs": [
    {
     "data": {
      "text/plain": [
       "0.8461251642169683"
      ]
     },
     "execution_count": 50,
     "metadata": {},
     "output_type": "execute_result"
    }
   ],
   "source": [
    "np.random.random()"
   ]
  },
  {
   "cell_type": "code",
   "execution_count": 51,
   "metadata": {
    "nbpresent": {
     "id": "b7231548-d96a-4dcc-a5a3-a32d7e5cf7c3"
    },
    "slideshow": {
     "slide_type": "fragment"
    }
   },
   "outputs": [
    {
     "data": {
      "text/plain": [
       "6"
      ]
     },
     "execution_count": 51,
     "metadata": {},
     "output_type": "execute_result"
    }
   ],
   "source": [
    "np.random.randint(5, 10) "
   ]
  }
 ],
 "metadata": {
  "anaconda-cloud": {},
  "celltoolbar": "Slideshow",
  "kernelspec": {
   "display_name": "Python (drugcomp)",
   "language": "python",
   "name": "drugcomp"
  },
  "language_info": {
   "codemirror_mode": {
    "name": "ipython",
    "version": 3
   },
   "file_extension": ".py",
   "mimetype": "text/x-python",
   "name": "python",
   "nbconvert_exporter": "python",
   "pygments_lexer": "ipython3",
   "version": "3.7.6"
  },
  "livereveal": {
   "height": 900,
   "start_slideshow_at": "selected",
   "width": 1440
  },
  "nbpresent": {
   "slides": {
    "0159032c-0a37-49d4-8eb9-d21b1c4c61f4": {
     "id": "0159032c-0a37-49d4-8eb9-d21b1c4c61f4",
     "prev": "69f34339-270c-40f2-a871-1aed2509415a",
     "regions": {
      "9dc14a9a-8bc4-4448-9615-59b0be706638": {
       "attrs": {
        "height": 0.8,
        "width": 0.8,
        "x": 0.1,
        "y": 0.1
       },
       "content": {
        "cell": "33446774-3484-445a-a34e-28f4e65acf7c",
        "part": "whole"
       },
       "id": "9dc14a9a-8bc4-4448-9615-59b0be706638"
      },
      "f1c10cfe-faad-4a60-82b9-670109976e0f": {
       "attrs": {
        "height": 0.4,
        "width": 0.8,
        "x": 0.1,
        "y": 0.5
       },
       "content": {
        "cell": "017f0aac-c117-43b3-b411-47a343518417",
        "part": "whole"
       },
       "id": "f1c10cfe-faad-4a60-82b9-670109976e0f"
      }
     }
    },
    "01d87739-30e6-4204-8e9c-3fcdbc6e00a5": {
     "id": "01d87739-30e6-4204-8e9c-3fcdbc6e00a5",
     "prev": "0285c865-c09c-48d5-94f8-da731d31d6df",
     "regions": {
      "512109ea-3120-4fa8-92ac-b4ab423f5b7c": {
       "attrs": {
        "height": 0.8,
        "width": 0.8,
        "x": 0.1,
        "y": 0.1
       },
       "content": {
        "cell": "8f453389-f92f-4c3d-9893-e793f3b13679",
        "part": "whole"
       },
       "id": "512109ea-3120-4fa8-92ac-b4ab423f5b7c"
      },
      "7c585fd1-39fa-4429-aa83-ac6da09a5516": {
       "attrs": {
        "height": 0.4,
        "width": 0.8,
        "x": 0.1,
        "y": 0.5
       },
       "content": {
        "cell": "2b88f20e-acd0-46c1-9cd7-09b35d8e0197",
        "part": "whole"
       },
       "id": "7c585fd1-39fa-4429-aa83-ac6da09a5516"
      },
      "ade15ee9-b4de-48c0-b627-78552be7dcf9": {
       "attrs": {
        "height": 0.4,
        "width": 0.8,
        "x": 0.1,
        "y": 0.5
       },
       "content": {
        "cell": "141fed2f-a08a-4e7a-846a-7b51bb3abfff",
        "part": "whole"
       },
       "id": "ade15ee9-b4de-48c0-b627-78552be7dcf9"
      },
      "fa1cdcf2-b7a4-4ac8-811f-d16a5112e658": {
       "attrs": {
        "height": 0.4,
        "width": 0.8,
        "x": 0.1,
        "y": 0.5
       },
       "content": {
        "cell": "7676f01d-3bfc-4e7d-9a79-53b98613cf0b",
        "part": "whole"
       },
       "id": "fa1cdcf2-b7a4-4ac8-811f-d16a5112e658"
      },
      "fb9ccec6-e56d-4c7f-8618-daa41ee65cb7": {
       "attrs": {
        "height": 0.4,
        "width": 0.8,
        "x": 0.1,
        "y": 0.5
       },
       "content": {
        "cell": "fada2809-0f99-4f0e-b508-a72b327516b3",
        "part": "whole"
       },
       "id": "fb9ccec6-e56d-4c7f-8618-daa41ee65cb7"
      }
     }
    },
    "0285c865-c09c-48d5-94f8-da731d31d6df": {
     "id": "0285c865-c09c-48d5-94f8-da731d31d6df",
     "prev": "3e1fbc72-2902-4911-9346-af92e91eeaa0",
     "regions": {
      "70746117-2954-4df3-ac41-f216d3cbbe82": {
       "attrs": {
        "height": 0.4,
        "width": 0.8,
        "x": 0.1,
        "y": 0.5
       },
       "content": {
        "cell": "dbc1f37a-b7ea-41ae-89f7-1f2b357bac34",
        "part": "whole"
       },
       "id": "70746117-2954-4df3-ac41-f216d3cbbe82"
      },
      "8ca8ee0b-e9c4-4b00-8023-6e7d9a042c03": {
       "attrs": {
        "height": 0.4,
        "width": 0.8,
        "x": 0.1,
        "y": 0.5
       },
       "content": {
        "cell": "39d0e502-c354-4a46-a300-b51742265bf3",
        "part": "whole"
       },
       "id": "8ca8ee0b-e9c4-4b00-8023-6e7d9a042c03"
      },
      "9cb2af9b-4dbf-4364-9748-55369b94409a": {
       "attrs": {
        "height": 0.8,
        "width": 0.8,
        "x": 0.1,
        "y": 0.1
       },
       "content": {
        "cell": "86680d8f-9e36-4556-9abd-807070386994",
        "part": "whole"
       },
       "id": "9cb2af9b-4dbf-4364-9748-55369b94409a"
      },
      "dbe0db08-6e7f-4292-93b1-8da4febe5e52": {
       "attrs": {
        "height": 0.4,
        "width": 0.8,
        "x": 0.1,
        "y": 0.5
       },
       "content": {
        "cell": "27d63f59-e212-4c78-b5c9-62693dcdf779",
        "part": "whole"
       },
       "id": "dbe0db08-6e7f-4292-93b1-8da4febe5e52"
      }
     }
    },
    "0f5a31c4-44b5-4a03-abee-16e15fba4045": {
     "id": "0f5a31c4-44b5-4a03-abee-16e15fba4045",
     "prev": "0159032c-0a37-49d4-8eb9-d21b1c4c61f4",
     "regions": {
      "1253053f-baa1-45a3-bcb9-43a55e68596c": {
       "attrs": {
        "height": 0.4,
        "width": 0.8,
        "x": 0.1,
        "y": 0.5
       },
       "content": {
        "cell": "ef78fb89-f170-4f1f-8715-32ce30cd8d2a",
        "part": "whole"
       },
       "id": "1253053f-baa1-45a3-bcb9-43a55e68596c"
      },
      "d14804e6-fa6c-4c19-b17d-b595d3973cb9": {
       "attrs": {
        "height": 0.8,
        "width": 0.8,
        "x": 0.1,
        "y": 0.1
       },
       "content": {
        "cell": "65e2b276-3036-41c1-a461-9fb017082455",
        "part": "whole"
       },
       "id": "d14804e6-fa6c-4c19-b17d-b595d3973cb9"
      }
     }
    },
    "16ace40d-5b94-4353-9f1c-0e968f9fbbb1": {
     "id": "16ace40d-5b94-4353-9f1c-0e968f9fbbb1",
     "prev": "ce617c40-2dae-4091-865f-feab8db26208",
     "regions": {
      "afae1ed6-e333-4859-a7e7-eac32254f532": {
       "attrs": {
        "height": 0.4,
        "width": 0.8,
        "x": 0.1,
        "y": 0.5
       },
       "content": {
        "cell": "b13611ce-9c21-4cc9-a307-1ee563b99a45",
        "part": "whole"
       },
       "id": "afae1ed6-e333-4859-a7e7-eac32254f532"
      },
      "b1140674-9008-4d9b-86ab-d046597ccdc4": {
       "attrs": {
        "height": 0.4,
        "width": 0.8,
        "x": 0.1,
        "y": 0.5
       },
       "content": {
        "cell": "530c1fe7-7c6f-4cf7-b2c5-d87079b1d9e2",
        "part": "whole"
       },
       "id": "b1140674-9008-4d9b-86ab-d046597ccdc4"
      },
      "bc187fac-8a7c-4174-baeb-8626ade82576": {
       "attrs": {
        "height": 0.8,
        "width": 0.8,
        "x": 0.1,
        "y": 0.1
       },
       "content": {
        "cell": "f8729f0f-35c3-4870-818c-27010b7b7354",
        "part": "whole"
       },
       "id": "bc187fac-8a7c-4174-baeb-8626ade82576"
      }
     }
    },
    "18803ffc-d5dd-4385-9249-b3868aeb5f8d": {
     "id": "18803ffc-d5dd-4385-9249-b3868aeb5f8d",
     "prev": "0f5a31c4-44b5-4a03-abee-16e15fba4045",
     "regions": {
      "8ea00a14-b481-404a-a42f-db41f5a29f82": {
       "attrs": {
        "height": 0.8,
        "width": 0.8,
        "x": 0.1,
        "y": 0.1
       },
       "content": {
        "cell": "b386916c-604f-4adf-aec1-c55ac07b8451",
        "part": "whole"
       },
       "id": "8ea00a14-b481-404a-a42f-db41f5a29f82"
      }
     }
    },
    "1bcccca7-2fd4-4b15-9c07-bcbb749fd42c": {
     "id": "1bcccca7-2fd4-4b15-9c07-bcbb749fd42c",
     "prev": "01d87739-30e6-4204-8e9c-3fcdbc6e00a5",
     "regions": {
      "54b1bb64-ec0c-44c5-8fca-9efcd1e3e555": {
       "attrs": {
        "height": 0.8,
        "width": 0.8,
        "x": 0.1,
        "y": 0.1
       },
       "content": {
        "cell": "8cd34043-c63a-4dbb-8290-1f8373441f5a",
        "part": "whole"
       },
       "id": "54b1bb64-ec0c-44c5-8fca-9efcd1e3e555"
      },
      "a0a9049c-b8a0-43cf-86dc-c4b973a9176e": {
       "attrs": {
        "height": 0.4,
        "width": 0.8,
        "x": 0.1,
        "y": 0.5
       },
       "content": {
        "cell": "97a35994-7526-4f3d-ba43-651ec2033390",
        "part": "whole"
       },
       "id": "a0a9049c-b8a0-43cf-86dc-c4b973a9176e"
      }
     }
    },
    "293ece80-46be-442b-be0e-f3c56beecb48": {
     "id": "293ece80-46be-442b-be0e-f3c56beecb48",
     "prev": "fe629978-5e50-457f-958f-117634c107d7",
     "regions": {
      "2ac6c478-a96e-4a39-b6eb-fe2a8ee92ceb": {
       "attrs": {
        "height": 0.8,
        "width": 0.8,
        "x": 0.1,
        "y": 0.1
       },
       "content": {
        "cell": "0bea3275-e5c5-40b8-9c6a-cec1b14a1f27",
        "part": "whole"
       },
       "id": "2ac6c478-a96e-4a39-b6eb-fe2a8ee92ceb"
      }
     }
    },
    "2e3170a7-9527-4ef7-8097-838a233e49c1": {
     "id": "2e3170a7-9527-4ef7-8097-838a233e49c1",
     "prev": "16ace40d-5b94-4353-9f1c-0e968f9fbbb1",
     "regions": {
      "5a7c854f-4b1d-4f47-9d9e-a7ed7efbf1c1": {
       "attrs": {
        "height": 0.8,
        "width": 0.8,
        "x": 0.1,
        "y": 0.1
       },
       "content": {
        "cell": "05198065-1235-48d5-b637-64fc34e2b5b2",
        "part": "whole"
       },
       "id": "5a7c854f-4b1d-4f47-9d9e-a7ed7efbf1c1"
      },
      "80c09037-5229-439c-8cee-4d06780939fd": {
       "attrs": {
        "height": 0.4,
        "width": 0.8,
        "x": 0.1,
        "y": 0.5
       },
       "content": {
        "cell": "3c3c7be1-1e2b-4741-aac8-839b13167549",
        "part": "whole"
       },
       "id": "80c09037-5229-439c-8cee-4d06780939fd"
      },
      "d900824d-71ce-42cf-82ad-3be4926104b6": {
       "attrs": {
        "height": 0.4,
        "width": 0.8,
        "x": 0.1,
        "y": 0.5
       },
       "content": {
        "cell": "6fb98173-af47-4b48-891b-af429bac1358",
        "part": "whole"
       },
       "id": "d900824d-71ce-42cf-82ad-3be4926104b6"
      }
     }
    },
    "3b3026bf-42c6-4c58-b14e-ceb6e82c6cd2": {
     "id": "3b3026bf-42c6-4c58-b14e-ceb6e82c6cd2",
     "prev": "8fa31524-41de-4c0e-a4f6-ae05447bc75b",
     "regions": {
      "355b99ab-f15a-49a7-b56b-5f48989feacb": {
       "attrs": {
        "height": 0.8,
        "width": 0.8,
        "x": 0.1,
        "y": 0.1
       },
       "content": {
        "cell": "a36ef158-a854-44d6-9af0-1d375d979a05",
        "part": "whole"
       },
       "id": "355b99ab-f15a-49a7-b56b-5f48989feacb"
      },
      "9b04ad9c-5e5b-4013-b40d-2daf2bdd172c": {
       "attrs": {
        "height": 0.4,
        "width": 0.8,
        "x": 0.1,
        "y": 0.5
       },
       "content": {
        "cell": "1b8046c7-df04-4f97-8979-868272dd7ae1",
        "part": "whole"
       },
       "id": "9b04ad9c-5e5b-4013-b40d-2daf2bdd172c"
      },
      "f8805cd4-f5e6-4b61-a5f3-d4391ca6fac0": {
       "attrs": {
        "height": 0.4,
        "width": 0.8,
        "x": 0.1,
        "y": 0.5
       },
       "content": {
        "cell": "6d750a8c-a17d-4941-b7bc-682b20e2c820",
        "part": "whole"
       },
       "id": "f8805cd4-f5e6-4b61-a5f3-d4391ca6fac0"
      }
     }
    },
    "3c3fa518-b082-4df1-a9a5-dda9dedd428c": {
     "id": "3c3fa518-b082-4df1-a9a5-dda9dedd428c",
     "prev": "1bcccca7-2fd4-4b15-9c07-bcbb749fd42c",
     "regions": {
      "b09de98d-30c5-4cad-bdbc-46dcd0170fba": {
       "attrs": {
        "height": 0.4,
        "width": 0.8,
        "x": 0.1,
        "y": 0.5
       },
       "content": {
        "cell": "69fa5648-f2b8-4376-bbc5-c52b7e55f01f",
        "part": "whole"
       },
       "id": "b09de98d-30c5-4cad-bdbc-46dcd0170fba"
      },
      "d26e44fe-ff47-4e0f-8905-3d3d8e931f78": {
       "attrs": {
        "height": 0.8,
        "width": 0.8,
        "x": 0.1,
        "y": 0.1
       },
       "content": {
        "cell": "71a85560-fde4-4a58-a4e5-a5785078393d",
        "part": "whole"
       },
       "id": "d26e44fe-ff47-4e0f-8905-3d3d8e931f78"
      }
     }
    },
    "3e1fbc72-2902-4911-9346-af92e91eeaa0": {
     "id": "3e1fbc72-2902-4911-9346-af92e91eeaa0",
     "prev": "3b3026bf-42c6-4c58-b14e-ceb6e82c6cd2",
     "regions": {
      "0a5f7810-d6c8-4098-a8eb-b45601de670a": {
       "attrs": {
        "height": 0.4,
        "width": 0.8,
        "x": 0.1,
        "y": 0.5
       },
       "content": {
        "cell": "f0655704-5db0-40fe-af45-7cf424f9172c",
        "part": "whole"
       },
       "id": "0a5f7810-d6c8-4098-a8eb-b45601de670a"
      },
      "40dbe722-bd23-44b9-8198-6393f1e073fd": {
       "attrs": {
        "height": 0.8,
        "width": 0.8,
        "x": 0.1,
        "y": 0.1
       },
       "content": {
        "cell": "0bce8a56-28ec-431d-a38c-c9929a52b9af",
        "part": "whole"
       },
       "id": "40dbe722-bd23-44b9-8198-6393f1e073fd"
      }
     }
    },
    "3fb5af7e-9ae7-4148-867e-f87a49fc1362": {
     "id": "3fb5af7e-9ae7-4148-867e-f87a49fc1362",
     "prev": "82b7ab9d-cee0-479e-8126-07e909d90bae",
     "regions": {
      "9a860866-1c6a-44b4-81bb-da4001b0b142": {
       "attrs": {
        "height": 0.8,
        "width": 0.8,
        "x": 0.1,
        "y": 0.1
       },
       "content": {
        "cell": "69e87ba9-be1c-40b6-80e0-2528d70018c4",
        "part": "whole"
       },
       "id": "9a860866-1c6a-44b4-81bb-da4001b0b142"
      }
     }
    },
    "42263fa0-14c8-4f71-8185-31d019b18852": {
     "id": "42263fa0-14c8-4f71-8185-31d019b18852",
     "prev": "e6c510f4-4fbd-4799-829d-adf28b98d175",
     "regions": {
      "10760a61-aff9-42c7-acfd-342a18be0c47": {
       "attrs": {
        "height": 0.4,
        "width": 0.8,
        "x": 0.1,
        "y": 0.5
       },
       "content": {
        "cell": "16ee5184-4fd2-493f-9ff5-5a6bd91d2130",
        "part": "whole"
       },
       "id": "10760a61-aff9-42c7-acfd-342a18be0c47"
      },
      "4454b621-bfad-435b-827a-911ac9e2cd1e": {
       "attrs": {
        "height": 0.8,
        "width": 0.8,
        "x": 0.1,
        "y": 0.1
       },
       "content": {
        "cell": "b94a4a95-a8de-4bd8-b327-ff1ecd6def8e",
        "part": "whole"
       },
       "id": "4454b621-bfad-435b-827a-911ac9e2cd1e"
      },
      "e40f6a70-b74f-477c-a884-90fa1a38a127": {
       "attrs": {
        "height": 0.4,
        "width": 0.8,
        "x": 0.1,
        "y": 0.5
       },
       "content": {
        "cell": "5a602127-7025-4171-88f8-73d884e54964",
        "part": "whole"
       },
       "id": "e40f6a70-b74f-477c-a884-90fa1a38a127"
      }
     }
    },
    "4419b4dd-68aa-4b2c-b961-18d8bb695325": {
     "id": "4419b4dd-68aa-4b2c-b961-18d8bb695325",
     "prev": "b5c07365-7596-4ba5-b0fa-2f8bc8754a47",
     "regions": {
      "3260f5b1-91a9-4ea9-ae4b-b5f9d8125d71": {
       "attrs": {
        "height": 0.4,
        "width": 0.8,
        "x": 0.1,
        "y": 0.5
       },
       "content": {
        "cell": "852c0016-177b-4ec3-b0e3-78db3e5b8d90",
        "part": "whole"
       },
       "id": "3260f5b1-91a9-4ea9-ae4b-b5f9d8125d71"
      },
      "6b54e4b6-1f75-4c41-85ab-38d932b03bfe": {
       "attrs": {
        "height": 0.4,
        "width": 0.8,
        "x": 0.1,
        "y": 0.5
       },
       "content": {
        "cell": "7aa7b760-aa91-4489-9ac2-deaa29efa678",
        "part": "whole"
       },
       "id": "6b54e4b6-1f75-4c41-85ab-38d932b03bfe"
      },
      "9e03975b-7de0-4fa9-a3b3-2c4e540fb701": {
       "attrs": {
        "height": 0.4,
        "width": 0.8,
        "x": 0.1,
        "y": 0.5
       },
       "content": {
        "cell": "603d423b-8a47-4aa8-b444-6da53bc7f973",
        "part": "whole"
       },
       "id": "9e03975b-7de0-4fa9-a3b3-2c4e540fb701"
      },
      "a619644d-6f46-4ece-8b3c-4c3a1921db34": {
       "attrs": {
        "height": 0.4,
        "width": 0.8,
        "x": 0.1,
        "y": 0.5
       },
       "content": {
        "cell": "9442e065-c8e2-4611-b3af-053a70b12469",
        "part": "whole"
       },
       "id": "a619644d-6f46-4ece-8b3c-4c3a1921db34"
      },
      "b077550e-b4ab-42bc-a721-43046a58f9f0": {
       "attrs": {
        "height": 0.8,
        "width": 0.8,
        "x": 0.1,
        "y": 0.1
       },
       "content": {
        "cell": "19cc6be4-a681-44a2-a2a2-caaaf9b3d898",
        "part": "whole"
       },
       "id": "b077550e-b4ab-42bc-a721-43046a58f9f0"
      },
      "c53b0334-ad3e-4aaf-9693-45025337ac62": {
       "attrs": {
        "height": 0.4,
        "width": 0.8,
        "x": 0.1,
        "y": 0.5
       },
       "content": {
        "cell": "3750e6ba-0631-4e1d-b8ca-9d5843555f1d",
        "part": "whole"
       },
       "id": "c53b0334-ad3e-4aaf-9693-45025337ac62"
      },
      "e3509a0d-b3c4-456a-8da2-2da9602c3da1": {
       "attrs": {
        "height": 0.4,
        "width": 0.8,
        "x": 0.1,
        "y": 0.5
       },
       "content": {
        "cell": "373a32ea-6fb3-42f7-a7a1-15a55a3a7a76",
        "part": "whole"
       },
       "id": "e3509a0d-b3c4-456a-8da2-2da9602c3da1"
      },
      "f5602687-1881-4fa6-855b-7b4a04c8f007": {
       "attrs": {
        "height": 0.4,
        "width": 0.8,
        "x": 0.1,
        "y": 0.5
       },
       "content": {
        "cell": "b77acd4e-9a51-4add-816d-6d9057246f9d",
        "part": "whole"
       },
       "id": "f5602687-1881-4fa6-855b-7b4a04c8f007"
      }
     }
    },
    "4844fba7-5023-4bd8-8dc4-4a48e89ef40d": {
     "id": "4844fba7-5023-4bd8-8dc4-4a48e89ef40d",
     "prev": "2e3170a7-9527-4ef7-8097-838a233e49c1",
     "regions": {
      "1bbc7d8e-bc3c-4fac-8432-88d214271df5": {
       "attrs": {
        "height": 0.4,
        "width": 0.8,
        "x": 0.1,
        "y": 0.5
       },
       "content": {
        "cell": "cdd28b0b-31a1-4676-b45e-6db115cbdf06",
        "part": "whole"
       },
       "id": "1bbc7d8e-bc3c-4fac-8432-88d214271df5"
      },
      "1f5534d4-5690-49d6-adc4-30dd420c7a83": {
       "attrs": {
        "height": 0.8,
        "width": 0.8,
        "x": 0.1,
        "y": 0.1
       },
       "content": {
        "cell": "39ab0c34-4125-431f-a232-aeed0e282570",
        "part": "whole"
       },
       "id": "1f5534d4-5690-49d6-adc4-30dd420c7a83"
      },
      "270d0a6c-f74f-405b-b9df-d1e6c8b9e83f": {
       "attrs": {
        "height": 0.4,
        "width": 0.8,
        "x": 0.1,
        "y": 0.5
       },
       "content": {
        "cell": "c0f22a3f-3f89-4fb9-a14c-70de582202e7",
        "part": "whole"
       },
       "id": "270d0a6c-f74f-405b-b9df-d1e6c8b9e83f"
      }
     }
    },
    "4bc6947e-d60f-4dd9-8cdf-a570ff52e629": {
     "id": "4bc6947e-d60f-4dd9-8cdf-a570ff52e629",
     "prev": "fe754bdc-32d4-477b-b07f-dd3786c69f63",
     "regions": {
      "1bf75417-8a3a-4727-b1c4-d462cd3d9821": {
       "attrs": {
        "height": 0.4,
        "width": 0.8,
        "x": 0.1,
        "y": 0.5
       },
       "content": {
        "cell": "5c592ade-36c4-49ed-9310-998c11b96359",
        "part": "whole"
       },
       "id": "1bf75417-8a3a-4727-b1c4-d462cd3d9821"
      },
      "63f561af-55b9-465f-a3d1-cf0964c501f0": {
       "attrs": {
        "height": 0.4,
        "width": 0.8,
        "x": 0.1,
        "y": 0.5
       },
       "content": {
        "cell": "28ed6eca-bb83-40b0-b528-c6f34cfd8c7d",
        "part": "whole"
       },
       "id": "63f561af-55b9-465f-a3d1-cf0964c501f0"
      },
      "887af06a-83f6-48eb-9197-d5cb172f2211": {
       "attrs": {
        "height": 0.8,
        "width": 0.8,
        "x": 0.1,
        "y": 0.1
       },
       "content": {
        "cell": "42be1467-946b-45d8-b003-fff1f26e0434",
        "part": "whole"
       },
       "id": "887af06a-83f6-48eb-9197-d5cb172f2211"
      },
      "e88110e2-4a44-45bb-8302-1c223d2905ef": {
       "attrs": {
        "height": 0.4,
        "width": 0.8,
        "x": 0.1,
        "y": 0.5
       },
       "content": {
        "cell": "ee896c91-5cf0-48c0-86cb-1f3414a4386f",
        "part": "whole"
       },
       "id": "e88110e2-4a44-45bb-8302-1c223d2905ef"
      },
      "f7b49e2e-cd85-4c66-9e75-eb40af9e840b": {
       "attrs": {
        "height": 0.4,
        "width": 0.8,
        "x": 0.1,
        "y": 0.5
       },
       "content": {
        "cell": "fd41d288-1a37-42a8-8493-f1575e71b7c6",
        "part": "whole"
       },
       "id": "f7b49e2e-cd85-4c66-9e75-eb40af9e840b"
      }
     }
    },
    "4fc26943-d924-4563-8e19-786fcf3bb195": {
     "id": "4fc26943-d924-4563-8e19-786fcf3bb195",
     "prev": "697423f9-182a-4788-8601-e25ef6388786",
     "regions": {
      "1cf1ff01-36db-4025-a81e-01f441b891ef": {
       "attrs": {
        "height": 0.8,
        "width": 0.8,
        "x": 0.1,
        "y": 0.1
       },
       "content": {
        "cell": "d4dee9b7-b8b0-461b-83d0-6775f86bc3ef",
        "part": "whole"
       },
       "id": "1cf1ff01-36db-4025-a81e-01f441b891ef"
      }
     }
    },
    "5dd35520-6db8-4e7e-9662-c286f503efd1": {
     "id": "5dd35520-6db8-4e7e-9662-c286f503efd1",
     "prev": "93a0e64b-baff-4688-9958-6ba20ca59ac8",
     "regions": {
      "133d1db8-ad10-4674-ae85-ff1f04023afe": {
       "attrs": {
        "height": 0.4,
        "width": 0.8,
        "x": 0.1,
        "y": 0.5
       },
       "content": {
        "cell": "21d6fd53-5a49-4391-a804-2f98a8f30f4b",
        "part": "whole"
       },
       "id": "133d1db8-ad10-4674-ae85-ff1f04023afe"
      },
      "8be55e13-b17f-4e7b-b105-044d184c0829": {
       "attrs": {
        "height": 0.8,
        "width": 0.8,
        "x": 0.1,
        "y": 0.1
       },
       "content": {
        "cell": "39b5a3ec-c550-47fe-b839-20432384fdda",
        "part": "whole"
       },
       "id": "8be55e13-b17f-4e7b-b105-044d184c0829"
      }
     }
    },
    "617fa819-5406-4221-92b6-eaf43a8982d2": {
     "id": "617fa819-5406-4221-92b6-eaf43a8982d2",
     "prev": "4844fba7-5023-4bd8-8dc4-4a48e89ef40d",
     "regions": {
      "cce02002-3b1d-4bc1-a17c-cd8359dfdab0": {
       "attrs": {
        "height": 0.8,
        "width": 0.8,
        "x": 0.1,
        "y": 0.1
       },
       "content": {
        "cell": "5aae680c-c991-451c-a288-c0a42af24a38",
        "part": "whole"
       },
       "id": "cce02002-3b1d-4bc1-a17c-cd8359dfdab0"
      },
      "fb31d5a5-4c90-40dc-ba48-1032ad44489c": {
       "attrs": {
        "height": 0.4,
        "width": 0.8,
        "x": 0.1,
        "y": 0.5
       },
       "content": {
        "cell": "2802df8e-b974-47b1-ad6f-7c94ec2483c5",
        "part": "whole"
       },
       "id": "fb31d5a5-4c90-40dc-ba48-1032ad44489c"
      }
     }
    },
    "697423f9-182a-4788-8601-e25ef6388786": {
     "id": "697423f9-182a-4788-8601-e25ef6388786",
     "prev": "9a1b4365-7e27-481f-8dbc-d74c123172d2",
     "regions": {
      "69f182f4-cf30-4929-8627-aa57bffc34ea": {
       "attrs": {
        "height": 0.8,
        "width": 0.8,
        "x": 0.1,
        "y": 0.1
       },
       "content": {
        "cell": "df2361bb-c873-43ed-b252-0c383e67a2c1",
        "part": "whole"
       },
       "id": "69f182f4-cf30-4929-8627-aa57bffc34ea"
      }
     }
    },
    "69f34339-270c-40f2-a871-1aed2509415a": {
     "id": "69f34339-270c-40f2-a871-1aed2509415a",
     "prev": "3c3fa518-b082-4df1-a9a5-dda9dedd428c",
     "regions": {
      "cea78def-8e22-4df9-88f1-6b7c20162d94": {
       "attrs": {
        "height": 0.4,
        "width": 0.8,
        "x": 0.1,
        "y": 0.5
       },
       "content": {
        "cell": "b68b648f-c8ae-4cdb-a0c1-b35ac1492381",
        "part": "whole"
       },
       "id": "cea78def-8e22-4df9-88f1-6b7c20162d94"
      },
      "e8542106-15c3-45cf-a60e-73f146d28d96": {
       "attrs": {
        "height": 0.8,
        "width": 0.8,
        "x": 0.1,
        "y": 0.1
       },
       "content": {
        "cell": "4bd56147-a6c7-49de-b11b-9971e4a52987",
        "part": "whole"
       },
       "id": "e8542106-15c3-45cf-a60e-73f146d28d96"
      }
     }
    },
    "73794c2a-0f05-4808-9030-0150d4c08cea": {
     "id": "73794c2a-0f05-4808-9030-0150d4c08cea",
     "prev": "3fb5af7e-9ae7-4148-867e-f87a49fc1362",
     "regions": {
      "f2bedc9f-3097-4b4f-8c9c-f1db412fa983": {
       "attrs": {
        "height": 0.8,
        "width": 0.8,
        "x": 0.1,
        "y": 0.1
       },
       "content": {
        "cell": "cca401cf-6524-4c2d-b2c4-4fd58c91cf39",
        "part": "whole"
       },
       "id": "f2bedc9f-3097-4b4f-8c9c-f1db412fa983"
      }
     }
    },
    "7491728c-6318-4799-b474-2dc26a628d0b": {
     "id": "7491728c-6318-4799-b474-2dc26a628d0b",
     "prev": "4bc6947e-d60f-4dd9-8cdf-a570ff52e629",
     "regions": {
      "007bf8e1-a707-420b-9196-317750ef8c58": {
       "attrs": {
        "height": 0.8,
        "width": 0.8,
        "x": 0.1,
        "y": 0.1
       },
       "content": {
        "cell": "84faafda-6944-4dee-8d64-dd72e39bbecc",
        "part": "whole"
       },
       "id": "007bf8e1-a707-420b-9196-317750ef8c58"
      }
     }
    },
    "788ede5e-84b0-4647-9bf3-170ef515d484": {
     "id": "788ede5e-84b0-4647-9bf3-170ef515d484",
     "prev": "f09a352d-d284-49df-8776-0b8cc2f693bf",
     "regions": {
      "09116f8c-498b-4141-a27b-c2fd6f54b533": {
       "attrs": {
        "height": 0.8,
        "width": 0.8,
        "x": 0.1,
        "y": 0.1
       },
       "content": {
        "cell": "4f388c4d-1337-41f5-aefa-df1d2d9ff1af",
        "part": "whole"
       },
       "id": "09116f8c-498b-4141-a27b-c2fd6f54b533"
      },
      "df971ea1-8a3b-4298-9090-b5001414c5a3": {
       "attrs": {
        "height": 0.4,
        "width": 0.8,
        "x": 0.1,
        "y": 0.5
       },
       "content": {
        "cell": "7708de15-dd62-4946-9abd-1626b903ffd2",
        "part": "whole"
       },
       "id": "df971ea1-8a3b-4298-9090-b5001414c5a3"
      },
      "f53f2f2f-13e4-46fd-a5a9-5743d9b12721": {
       "attrs": {
        "height": 0.4,
        "width": 0.8,
        "x": 0.1,
        "y": 0.5
       },
       "content": {
        "cell": "a067ca97-016f-4ec4-9095-ead8ae7e4699",
        "part": "whole"
       },
       "id": "f53f2f2f-13e4-46fd-a5a9-5743d9b12721"
      }
     }
    },
    "82b7ab9d-cee0-479e-8126-07e909d90bae": {
     "id": "82b7ab9d-cee0-479e-8126-07e909d90bae",
     "prev": null,
     "regions": {
      "1d9f2f17-9ad7-4428-8ef7-50d36165d3c2": {
       "attrs": {
        "height": 0.8,
        "width": 0.8,
        "x": 0.1,
        "y": 0.1
       },
       "content": {
        "cell": "309cf70b-2979-4741-90c3-6d5eb652613d",
        "part": "whole"
       },
       "id": "1d9f2f17-9ad7-4428-8ef7-50d36165d3c2"
      }
     }
    },
    "82df2ae0-e7df-49cb-a937-79edf869a73b": {
     "id": "82df2ae0-e7df-49cb-a937-79edf869a73b",
     "prev": "a817340b-b4c7-4300-8368-cd29cfe340c2",
     "regions": {
      "f73a8902-262f-40d7-b64c-73a3f9c4122b": {
       "attrs": {
        "height": 0.8,
        "width": 0.8,
        "x": 0.1,
        "y": 0.1
       },
       "content": {
        "cell": "549e3816-b334-4ff7-aa89-97d682d6e175",
        "part": "whole"
       },
       "id": "f73a8902-262f-40d7-b64c-73a3f9c4122b"
      }
     }
    },
    "86c32104-5a2c-4c2c-98d2-8182553fed74": {
     "id": "86c32104-5a2c-4c2c-98d2-8182553fed74",
     "prev": "42263fa0-14c8-4f71-8185-31d019b18852",
     "regions": {
      "31dba384-8e1b-40e4-a717-2aa5bb93915e": {
       "attrs": {
        "height": 0.8,
        "width": 0.8,
        "x": 0.1,
        "y": 0.1
       },
       "content": {
        "cell": "575377c3-20d2-43af-b71f-8b250013aa59",
        "part": "whole"
       },
       "id": "31dba384-8e1b-40e4-a717-2aa5bb93915e"
      },
      "fa28c304-86c0-450a-9d57-259ad0d75e50": {
       "attrs": {
        "height": 0.4,
        "width": 0.8,
        "x": 0.1,
        "y": 0.5
       },
       "content": {
        "cell": "d0a062ea-e5bb-44b8-b60e-1b783dd4d632",
        "part": "whole"
       },
       "id": "fa28c304-86c0-450a-9d57-259ad0d75e50"
      }
     }
    },
    "8fa31524-41de-4c0e-a4f6-ae05447bc75b": {
     "id": "8fa31524-41de-4c0e-a4f6-ae05447bc75b",
     "prev": "73794c2a-0f05-4808-9030-0150d4c08cea",
     "regions": {
      "37400f97-77bd-4058-8200-7efeefc18d40": {
       "attrs": {
        "height": 0.4,
        "width": 0.8,
        "x": 0.1,
        "y": 0.5
       },
       "content": {
        "cell": "26740538-59d6-4abf-be74-f402930d8625",
        "part": "whole"
       },
       "id": "37400f97-77bd-4058-8200-7efeefc18d40"
      },
      "532202c9-b394-4a0d-91ce-dc30d34c2128": {
       "attrs": {
        "height": 0.4,
        "width": 0.8,
        "x": 0.1,
        "y": 0.5
       },
       "content": {
        "cell": "1774cfe9-a13a-4cc8-8a18-69cdc64931db",
        "part": "whole"
       },
       "id": "532202c9-b394-4a0d-91ce-dc30d34c2128"
      },
      "fd594f1a-d5f9-4b32-b94d-9fcc79fbffba": {
       "attrs": {
        "height": 0.8,
        "width": 0.8,
        "x": 0.1,
        "y": 0.1
       },
       "content": {
        "cell": "d5402396-af46-4a51-94e2-23762c84ead2",
        "part": "whole"
       },
       "id": "fd594f1a-d5f9-4b32-b94d-9fcc79fbffba"
      }
     }
    },
    "8fec2d5f-c381-4f32-80cc-c636a76ef16b": {
     "id": "8fec2d5f-c381-4f32-80cc-c636a76ef16b",
     "prev": "db73f046-f05d-43ee-8234-c44a0c1d5cd2",
     "regions": {
      "36c4bc48-e9b2-44de-bf7c-681aa78c8f49": {
       "attrs": {
        "height": 0.8,
        "width": 0.8,
        "x": 0.1,
        "y": 0.1
       },
       "content": {
        "cell": "92ac5e0a-90cd-4a15-af9e-e13a4b7c86ff",
        "part": "whole"
       },
       "id": "36c4bc48-e9b2-44de-bf7c-681aa78c8f49"
      },
      "48d0d1e8-deec-4ce5-96bd-c64e45af5c1f": {
       "attrs": {
        "height": 0.4,
        "width": 0.8,
        "x": 0.1,
        "y": 0.5
       },
       "content": {
        "cell": "e962ff34-bd66-4277-835a-8580f1b9c0e5",
        "part": "whole"
       },
       "id": "48d0d1e8-deec-4ce5-96bd-c64e45af5c1f"
      }
     }
    },
    "93a0e64b-baff-4688-9958-6ba20ca59ac8": {
     "id": "93a0e64b-baff-4688-9958-6ba20ca59ac8",
     "prev": "4419b4dd-68aa-4b2c-b961-18d8bb695325",
     "regions": {
      "4a5d8f7f-5e10-4c62-a957-af78937be40e": {
       "attrs": {
        "height": 0.8,
        "width": 0.8,
        "x": 0.1,
        "y": 0.1
       },
       "content": {
        "cell": "ad8e35bb-8557-4576-8211-b4779c1e117f",
        "part": "whole"
       },
       "id": "4a5d8f7f-5e10-4c62-a957-af78937be40e"
      },
      "fe32467f-7070-4f8f-bfb1-0e2960d74d9c": {
       "attrs": {
        "height": 0.4,
        "width": 0.8,
        "x": 0.1,
        "y": 0.5
       },
       "content": {
        "cell": "b0b90fa2-590d-406a-a187-967fe4c0772d",
        "part": "whole"
       },
       "id": "fe32467f-7070-4f8f-bfb1-0e2960d74d9c"
      }
     }
    },
    "9a1b4365-7e27-481f-8dbc-d74c123172d2": {
     "id": "9a1b4365-7e27-481f-8dbc-d74c123172d2",
     "prev": "e6cfbd03-aad0-462e-937f-45a17257c093",
     "regions": {
      "4f514c85-9cf7-4934-ae3c-5917be94825f": {
       "attrs": {
        "height": 0.8,
        "width": 0.8,
        "x": 0.1,
        "y": 0.1
       },
       "content": {
        "cell": "3551e3c1-0cf9-4ac6-9df1-576d99da45b8",
        "part": "whole"
       },
       "id": "4f514c85-9cf7-4934-ae3c-5917be94825f"
      },
      "82f4bcc9-c766-41d0-bffd-c72db8b6f344": {
       "attrs": {
        "height": 0.4,
        "width": 0.8,
        "x": 0.1,
        "y": 0.5
       },
       "content": {
        "cell": "fab3c373-d173-44b0-a920-bfe5185538d0",
        "part": "whole"
       },
       "id": "82f4bcc9-c766-41d0-bffd-c72db8b6f344"
      }
     }
    },
    "a38f5b2d-3dee-4455-8d35-0db93e140b48": {
     "id": "a38f5b2d-3dee-4455-8d35-0db93e140b48",
     "prev": "86c32104-5a2c-4c2c-98d2-8182553fed74",
     "regions": {
      "f21ac6a2-ef3a-4dde-aa62-c7d5705623eb": {
       "attrs": {
        "height": 0.8,
        "width": 0.8,
        "x": 0.1,
        "y": 0.1
       },
       "content": {
        "cell": "724cbdf2-df9e-45cd-9f68-e52fb06f5641",
        "part": "whole"
       },
       "id": "f21ac6a2-ef3a-4dde-aa62-c7d5705623eb"
      }
     }
    },
    "a817340b-b4c7-4300-8368-cd29cfe340c2": {
     "id": "a817340b-b4c7-4300-8368-cd29cfe340c2",
     "prev": "788ede5e-84b0-4647-9bf3-170ef515d484",
     "regions": {
      "4b188e0e-bdfa-4c43-b792-1aab7782db68": {
       "attrs": {
        "height": 0.8,
        "width": 0.8,
        "x": 0.1,
        "y": 0.1
       },
       "content": {
        "cell": "a12f9cc3-eb00-4421-a4cd-80b4e730a7b9",
        "part": "whole"
       },
       "id": "4b188e0e-bdfa-4c43-b792-1aab7782db68"
      },
      "717ec967-c1dd-495c-8613-672cf436f6e4": {
       "attrs": {
        "height": 0.4,
        "width": 0.8,
        "x": 0.1,
        "y": 0.5
       },
       "content": {
        "cell": "2eb6c69f-c51a-429c-94f9-ee5129d2fb4b",
        "part": "whole"
       },
       "id": "717ec967-c1dd-495c-8613-672cf436f6e4"
      }
     }
    },
    "b5c07365-7596-4ba5-b0fa-2f8bc8754a47": {
     "id": "b5c07365-7596-4ba5-b0fa-2f8bc8754a47",
     "prev": "617fa819-5406-4221-92b6-eaf43a8982d2",
     "regions": {
      "432873dc-639e-44fd-b1d4-766fd0ba7f51": {
       "attrs": {
        "height": 0.4,
        "width": 0.8,
        "x": 0.1,
        "y": 0.5
       },
       "content": {
        "cell": "8c9cdfe1-95e2-4535-b926-7c9976250e7a",
        "part": "whole"
       },
       "id": "432873dc-639e-44fd-b1d4-766fd0ba7f51"
      },
      "821dca8f-bb57-45f0-9c6c-70ad1265d0c7": {
       "attrs": {
        "height": 0.4,
        "width": 0.8,
        "x": 0.1,
        "y": 0.5
       },
       "content": {
        "cell": "2cc412f7-06c0-4492-8352-73913d959bac",
        "part": "whole"
       },
       "id": "821dca8f-bb57-45f0-9c6c-70ad1265d0c7"
      },
      "8c360f50-4916-4d51-b9e6-c6960e69a2f9": {
       "attrs": {
        "height": 0.4,
        "width": 0.8,
        "x": 0.1,
        "y": 0.5
       },
       "content": {
        "cell": "1fa0872b-b98c-4584-b440-4dc2d231caa8",
        "part": "whole"
       },
       "id": "8c360f50-4916-4d51-b9e6-c6960e69a2f9"
      },
      "993ba132-230b-4e44-8747-8dedd20c2810": {
       "attrs": {
        "height": 0.8,
        "width": 0.8,
        "x": 0.1,
        "y": 0.1
       },
       "content": {
        "cell": "bed0307b-1e75-4c0e-a1b6-19a7ca6cabbc",
        "part": "whole"
       },
       "id": "993ba132-230b-4e44-8747-8dedd20c2810"
      },
      "9d0b434d-3a51-4f3b-b19d-d6888726ddf8": {
       "attrs": {
        "height": 0.4,
        "width": 0.8,
        "x": 0.1,
        "y": 0.5
       },
       "content": {
        "cell": "968e6ec3-0287-42d4-9e42-881066727545",
        "part": "whole"
       },
       "id": "9d0b434d-3a51-4f3b-b19d-d6888726ddf8"
      }
     }
    },
    "b5d86ec5-44d0-4109-8b98-474ed394fea1": {
     "id": "b5d86ec5-44d0-4109-8b98-474ed394fea1",
     "prev": "ebbd1ad4-fdbc-4dea-b50d-3198987ca577",
     "regions": {
      "443ee58a-9272-4892-807a-be4041bd5933": {
       "attrs": {
        "height": 0.8,
        "width": 0.8,
        "x": 0.1,
        "y": 0.1
       },
       "content": {
        "cell": "dbf1da4a-4789-40d5-8f02-30071fb60bb2",
        "part": "whole"
       },
       "id": "443ee58a-9272-4892-807a-be4041bd5933"
      }
     }
    },
    "ba9761e0-ba68-4109-8431-92ecca83c07c": {
     "id": "ba9761e0-ba68-4109-8431-92ecca83c07c",
     "prev": "ba98f0c3-8495-4812-9798-ff1304100292",
     "regions": {
      "182507a2-7395-4712-a5ef-e0b6205da7ab": {
       "attrs": {
        "height": 0.4,
        "width": 0.8,
        "x": 0.1,
        "y": 0.5
       },
       "content": {
        "cell": "1b172090-7c09-4d57-b8b5-94b7efd747db",
        "part": "whole"
       },
       "id": "182507a2-7395-4712-a5ef-e0b6205da7ab"
      },
      "249873b3-de12-4ee1-b3a8-d27131582cfd": {
       "attrs": {
        "height": 0.4,
        "width": 0.8,
        "x": 0.1,
        "y": 0.5
       },
       "content": {
        "cell": "869143a9-9a86-430f-bcc5-cc003d56646f",
        "part": "whole"
       },
       "id": "249873b3-de12-4ee1-b3a8-d27131582cfd"
      },
      "4e00b9a8-9733-46ac-98f7-21990faec899": {
       "attrs": {
        "height": 0.8,
        "width": 0.8,
        "x": 0.1,
        "y": 0.1
       },
       "content": {
        "cell": "e8c5e824-b625-4515-a2b0-91eed30563cd",
        "part": "whole"
       },
       "id": "4e00b9a8-9733-46ac-98f7-21990faec899"
      },
      "ceb44fce-e154-4e47-a5c1-20a35e090abd": {
       "attrs": {
        "height": 0.4,
        "width": 0.8,
        "x": 0.1,
        "y": 0.5
       },
       "content": {
        "cell": "b7231548-d96a-4dcc-a5a3-a32d7e5cf7c3",
        "part": "whole"
       },
       "id": "ceb44fce-e154-4e47-a5c1-20a35e090abd"
      }
     }
    },
    "ba98f0c3-8495-4812-9798-ff1304100292": {
     "id": "ba98f0c3-8495-4812-9798-ff1304100292",
     "prev": "b5d86ec5-44d0-4109-8b98-474ed394fea1",
     "regions": {
      "9de5bf19-9e39-4682-b238-364422b91eea": {
       "attrs": {
        "height": 0.8,
        "width": 0.8,
        "x": 0.1,
        "y": 0.1
       },
       "content": {
        "cell": "f1ed6cf8-a4eb-4477-864e-b7903ec87358",
        "part": "whole"
       },
       "id": "9de5bf19-9e39-4682-b238-364422b91eea"
      }
     }
    },
    "ce617c40-2dae-4091-865f-feab8db26208": {
     "id": "ce617c40-2dae-4091-865f-feab8db26208",
     "prev": "4fc26943-d924-4563-8e19-786fcf3bb195",
     "regions": {
      "c836b476-d9bd-4c52-acc8-9241ca0fba5d": {
       "attrs": {
        "height": 0.8,
        "width": 0.8,
        "x": 0.1,
        "y": 0.1
       },
       "content": {
        "cell": "9729fa78-27a1-4c9c-9a72-4da3e2854aad",
        "part": "whole"
       },
       "id": "c836b476-d9bd-4c52-acc8-9241ca0fba5d"
      }
     }
    },
    "db73f046-f05d-43ee-8234-c44a0c1d5cd2": {
     "id": "db73f046-f05d-43ee-8234-c44a0c1d5cd2",
     "prev": "5dd35520-6db8-4e7e-9662-c286f503efd1",
     "regions": {
      "315202fe-6fb6-4bf5-932a-41b9983f7f35": {
       "attrs": {
        "height": 0.8,
        "width": 0.8,
        "x": 0.1,
        "y": 0.1
       },
       "content": {
        "cell": "bb463759-258d-4e8a-b402-3d5e439c9923",
        "part": "whole"
       },
       "id": "315202fe-6fb6-4bf5-932a-41b9983f7f35"
      }
     }
    },
    "e6c510f4-4fbd-4799-829d-adf28b98d175": {
     "id": "e6c510f4-4fbd-4799-829d-adf28b98d175",
     "prev": "7491728c-6318-4799-b474-2dc26a628d0b",
     "regions": {
      "262c80d2-f72a-4ce7-8809-575290e06de8": {
       "attrs": {
        "height": 0.4,
        "width": 0.8,
        "x": 0.1,
        "y": 0.5
       },
       "content": {
        "cell": "9dde1a62-e2b5-4ebb-ae6a-af499095a1f7",
        "part": "whole"
       },
       "id": "262c80d2-f72a-4ce7-8809-575290e06de8"
      },
      "5f79dcc9-30e5-49b4-b3b0-58c619805eb7": {
       "attrs": {
        "height": 0.8,
        "width": 0.8,
        "x": 0.1,
        "y": 0.1
       },
       "content": {
        "cell": "c0d04bb7-6837-4c67-a159-9fee52f701c4",
        "part": "whole"
       },
       "id": "5f79dcc9-30e5-49b4-b3b0-58c619805eb7"
      }
     }
    },
    "e6cfbd03-aad0-462e-937f-45a17257c093": {
     "id": "e6cfbd03-aad0-462e-937f-45a17257c093",
     "prev": "293ece80-46be-442b-be0e-f3c56beecb48",
     "regions": {
      "2fab8978-685d-478e-b941-5d876361652c": {
       "attrs": {
        "height": 0.8,
        "width": 0.8,
        "x": 0.1,
        "y": 0.1
       },
       "content": {
        "cell": "770a174c-8e2e-431d-85f1-a9e0219200f7",
        "part": "whole"
       },
       "id": "2fab8978-685d-478e-b941-5d876361652c"
      },
      "bc89f5d6-9099-4dea-b6e6-90840620a5e4": {
       "attrs": {
        "height": 0.4,
        "width": 0.8,
        "x": 0.1,
        "y": 0.5
       },
       "content": {
        "cell": "6fa58ea6-30c3-4cbc-9ce0-71de2e6634e4",
        "part": "whole"
       },
       "id": "bc89f5d6-9099-4dea-b6e6-90840620a5e4"
      },
      "e58ebc99-672d-4cf5-a87b-9c7b324795d1": {
       "attrs": {
        "height": 0.4,
        "width": 0.8,
        "x": 0.1,
        "y": 0.5
       },
       "content": {
        "cell": "53337f74-db79-4d52-b2e0-609802b4b2d4",
        "part": "whole"
       },
       "id": "e58ebc99-672d-4cf5-a87b-9c7b324795d1"
      }
     }
    },
    "ebbd1ad4-fdbc-4dea-b50d-3198987ca577": {
     "id": "ebbd1ad4-fdbc-4dea-b50d-3198987ca577",
     "prev": "82df2ae0-e7df-49cb-a937-79edf869a73b",
     "regions": {
      "ac1e5595-6523-4318-baf9-78d4b32b8d3a": {
       "attrs": {
        "height": 0.8,
        "width": 0.8,
        "x": 0.1,
        "y": 0.1
       },
       "content": {
        "cell": "82b6920c-b127-4ef4-aeb9-3390a79792c7",
        "part": "whole"
       },
       "id": "ac1e5595-6523-4318-baf9-78d4b32b8d3a"
      }
     }
    },
    "f09a352d-d284-49df-8776-0b8cc2f693bf": {
     "id": "f09a352d-d284-49df-8776-0b8cc2f693bf",
     "prev": "8fec2d5f-c381-4f32-80cc-c636a76ef16b",
     "regions": {
      "80e3f584-0cb2-495e-ba9c-0da09e724606": {
       "attrs": {
        "height": 0.8,
        "width": 0.8,
        "x": 0.1,
        "y": 0.1
       },
       "content": {
        "cell": "1a1035f0-a59c-4a2c-b674-f1517cd8437c",
        "part": "whole"
       },
       "id": "80e3f584-0cb2-495e-ba9c-0da09e724606"
      },
      "c1f0ddb2-5228-4315-bc08-ff6977e04450": {
       "attrs": {
        "height": 0.4,
        "width": 0.8,
        "x": 0.1,
        "y": 0.5
       },
       "content": {
        "cell": "2db136b8-6ada-4ef2-a1c5-575bed6590b2",
        "part": "whole"
       },
       "id": "c1f0ddb2-5228-4315-bc08-ff6977e04450"
      }
     }
    },
    "fe629978-5e50-457f-958f-117634c107d7": {
     "id": "fe629978-5e50-457f-958f-117634c107d7",
     "prev": "a38f5b2d-3dee-4455-8d35-0db93e140b48",
     "regions": {
      "bf9a5ea5-1a02-4385-8b27-64842cff1e55": {
       "attrs": {
        "height": 0.8,
        "width": 0.8,
        "x": 0.1,
        "y": 0.1
       },
       "content": {
        "cell": "8a9fe1cb-0fbe-459a-9dd3-3a00f199cfa1",
        "part": "whole"
       },
       "id": "bf9a5ea5-1a02-4385-8b27-64842cff1e55"
      }
     }
    },
    "fe754bdc-32d4-477b-b07f-dd3786c69f63": {
     "id": "fe754bdc-32d4-477b-b07f-dd3786c69f63",
     "prev": "18803ffc-d5dd-4385-9249-b3868aeb5f8d",
     "regions": {
      "4b09d5c5-dc8b-4b71-b68f-45efc65e0dda": {
       "attrs": {
        "height": 0.4,
        "width": 0.8,
        "x": 0.1,
        "y": 0.5
       },
       "content": {
        "cell": "89d32d38-a711-41a7-b933-dacef8733e75",
        "part": "whole"
       },
       "id": "4b09d5c5-dc8b-4b71-b68f-45efc65e0dda"
      },
      "7c52432e-5899-4253-8697-b16a6b73e247": {
       "attrs": {
        "height": 0.4,
        "width": 0.8,
        "x": 0.1,
        "y": 0.5
       },
       "content": {
        "cell": "3e007e0d-9724-4c0e-93b7-4cba0afa1cd4",
        "part": "whole"
       },
       "id": "7c52432e-5899-4253-8697-b16a6b73e247"
      },
      "cfd7ab51-d30e-4551-a532-4d686107a22a": {
       "attrs": {
        "height": 0.4,
        "width": 0.8,
        "x": 0.1,
        "y": 0.5
       },
       "content": {
        "cell": "a2ccda02-274d-4941-8791-a3f688f58828",
        "part": "whole"
       },
       "id": "cfd7ab51-d30e-4551-a532-4d686107a22a"
      },
      "e43d5d5a-1951-498f-a46b-57abd5fc592d": {
       "attrs": {
        "height": 0.8,
        "width": 0.8,
        "x": 0.1,
        "y": 0.1
       },
       "content": {
        "cell": "0de7af74-60af-405e-a628-505b06436f10",
        "part": "whole"
       },
       "id": "e43d5d5a-1951-498f-a46b-57abd5fc592d"
      }
     }
    }
   },
   "themes": {}
  },
  "toc": {
   "nav_menu": {},
   "number_sections": true,
   "sideBar": true,
   "skip_h1_title": false,
   "toc_cell": false,
   "toc_position": {},
   "toc_section_display": "block",
   "toc_window_display": false
  }
 },
 "nbformat": 4,
 "nbformat_minor": 2
}
