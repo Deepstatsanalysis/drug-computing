{
 "cells": [
  {
   "cell_type": "markdown",
   "metadata": {
    "slideshow": {
     "slide_type": "skip"
    }
   },
   "source": [
    "# PharmSci 175/275 (UCI)\n",
    "## What is this?? \n",
    "The material below is Lecture 2 (on Energy Minimization) from Drug Discovery Computing Techniques, PharmSci 175/275 at UC Irvine. \n",
    "Extensive materials for this course, as well as extensive background and related materials, are available on the course GitHub repository: [github.com/mobleylab/drug-computing](https://github.com/mobleylab/drug-computing)\n",
    "\n",
    "This material is a set of slides intended for presentation with RISE as detailed [in the course materials on GitHub](https://github.com/MobleyLab/drug-computing/tree/master/uci-pharmsci/lectures/energy_minimization). While it may be useful without RISE, it will also likely appear somewhat less verbose than it would if it were intended for use in written form."
   ]
  },
  {
   "cell_type": "markdown",
   "metadata": {
    "slideshow": {
     "slide_type": "slide"
    }
   },
   "source": [
    "# Energy landscapes and energy minimization\n",
    "\n",
    "Today: Energy landscapes, energy functions and energy mimimization\n",
    "\n",
    "### Instructor: David L. Mobley\n",
    "\n",
    "### Contributors to today's materials:\n",
    "- David L. Mobley (UCI)\n",
    "- David Wych (Mobley lab, UCI)\n",
    "- [Previous contributions](https://engineering.ucsb.edu/~shell/che210d/) from M. Scott Shell (UCSB); some images used here are drawn from his materials."
   ]
  },
  {
   "cell_type": "markdown",
   "metadata": {
    "slideshow": {
     "slide_type": "slide"
    }
   },
   "source": [
    "## Energy landscapes provide a useful conceptual device\n",
    "\n",
    "### Energy landscapes govern conformations and flexibility\n",
    "\n",
    "### Chemistry takes place on energy landscapes\n",
    "<div style=\"float: right\">\n",
    "    <img src=\"images/funnel.png\" alt=\"GitHub\" style=\"width: 400px;\" align=\"right\"/>\n",
    "</div>\n",
    "\n",
    "- Reactions and barriers\n",
    "- Conformational change\n",
    "- Binding/association\n"
   ]
  },
  {
   "cell_type": "markdown",
   "metadata": {
    "slideshow": {
     "slide_type": "subslide"
    }
   },
   "source": [
    "### Energy landscapes govern dynamics and thermodynamics\n",
    "<div style=\"float: right\">\n",
    "    <img src=\"images/funnel.png\" alt=\"GitHub\" style=\"width: 400px;\" align=\"right\"/>\n",
    "</div>\n",
    "- Reaction rates\n",
    "- Equilibrium properties"
   ]
  },
  {
   "cell_type": "markdown",
   "metadata": {
    "slideshow": {
     "slide_type": "slide"
    }
   },
   "source": [
    "## Often, we are interested in exploring the energy landscape\n",
    "\n",
    "A potential, $U(\\bf{r^N})$ describes the energy as a function of the coordinates of the particles; here ${\\bf r}$ is the coordinates, **boldface** denotes it is a vector, and the superscript denotes it is coordinates of all $N$ particles in the system.\n",
    "<div style=\"float: right\">\n",
    "    <img src=\"images/funnel_labeled.png\" alt=\"GitHub\" style=\"width: 400px;\" align=\"right\"/>\n",
    "</div>\n",
    "\n",
    "### Landscapes have many features, including\n",
    "- Global minimum, the most stable state (caveat: entropy)\n",
    "- Local minima: other stable/metastable states"
   ]
  },
  {
   "cell_type": "markdown",
   "metadata": {
    "slideshow": {
     "slide_type": "subslide"
    }
   },
   "source": [
    "<div style=\"float: right\">\n",
    "    <img src=\"images/funnel_labeled.png\" alt=\"GitHub\" style=\"width: 1000px;\" align=\"right\"/>\n",
    "</div>"
   ]
  },
  {
   "cell_type": "markdown",
   "metadata": {
    "slideshow": {
     "slide_type": "subslide"
    }
   },
   "source": [
    "### We can't visualize 3N dimensions, so we often project onto fewer dimensions\n",
    "\n",
    "<div style=\"float: right\">\n",
    "    <img src=\"images/landscape_1D.png\" alt=\"GitHub\" style=\"width: 1000px;\" align=\"right\"/>\n",
    "</div>"
   ]
  },
  {
   "cell_type": "markdown",
   "metadata": {
    "slideshow": {
     "slide_type": "subslide"
    }
   },
   "source": [
    "### Background: Vector notation\n",
    "\n",
    "- For a single particle, we have coordinates $x$, $y$, and $z$, or $x_1$, $y_1$, and $z_1$ if it is particle 1\n",
    "- We might write these as $(-1, 3, 2)$ for example, if $x=-1$, $y=3$, $z=2$. \n",
    "- For even two particles, we have $x_1$ and $x_2$, $y_1$ and $y_2$, etc. \n",
    "- Writing out names of coordinates becomes slow, e.g. $f(x_1, y_1, z_1, x_2, y_2, z_2, ... z_N)$\n",
    "- We simplify by writing $f({\\bf r}^N)$ and remember that ${\\bf r}^N$ really means:\n",
    "\\begin{equation}\n",
    "{\\bf r}^N=\n",
    "\\begin{bmatrix}\n",
    "x_1 & y_1 & z_1 \\\\\n",
    "x_2 & y_2 & z_2 \\\\\n",
    "... & ... & ... \\\\\n",
    "x_N & y_N & z_N \\\\\n",
    "\\end{bmatrix}\n",
    "\\end{equation}"
   ]
  },
  {
   "cell_type": "markdown",
   "metadata": {
    "slideshow": {
     "slide_type": "subslide"
    }
   },
   "source": [
    "### A concrete example\n",
    "Imagine we have two particles with particle 1 having coordinates $x_1 = 1$, $y_1 = 3$, and $z_1 = 2$, and particle 2 having coordinates $x_2 = -1$, $y_2 = 3$, $z_2 = -1$. That would give us an array like this:\n",
    "\\begin{equation}\n",
    "{\\bf r}^N=\n",
    "\\begin{bmatrix}\n",
    "1 & 3 & 2 \\\\\n",
    "-1 & 3 & -1 \\\\\n",
    "\\end{bmatrix}\n",
    "\\end{equation}"
   ]
  },
  {
   "cell_type": "markdown",
   "metadata": {
    "slideshow": {
     "slide_type": "subslide"
    }
   },
   "source": [
    "### In Python, we'd store that as a numpy array"
   ]
  },
  {
   "cell_type": "code",
   "execution_count": 1,
   "metadata": {
    "slideshow": {
     "slide_type": "fragment"
    }
   },
   "outputs": [
    {
     "name": "stdout",
     "output_type": "stream",
     "text": [
      "y coordinate of first particle is 3.00\n"
     ]
    }
   ],
   "source": [
    "import numpy as np\n",
    "r_N = np.array( [[1, 3, 2], [-1, 3, -1]], float)\n",
    "print('y coordinate of first particle is %.2f' % r_N[0,1])"
   ]
  },
  {
   "cell_type": "markdown",
   "metadata": {
    "slideshow": {
     "slide_type": "subslide"
    }
   },
   "source": [
    "We could compute the distance between particles as \n",
    "$d = \\sqrt{(x_1-x_2)^2 + (y_1-y_2)^2 + (z_1-z_2)^2}$\n",
    "\n",
    "You could code that up directly in Python, or you can use array operations:"
   ]
  },
  {
   "cell_type": "code",
   "execution_count": 4,
   "metadata": {
    "slideshow": {
     "slide_type": "fragment"
    }
   },
   "outputs": [
    {
     "name": "stdout",
     "output_type": "stream",
     "text": [
      "3.60555127546\n"
     ]
    }
   ],
   "source": [
    "d = np.sqrt( ((r_N[0,:]-r_N[1,:])**2).sum() )\n",
    "print(d)"
   ]
  },
  {
   "cell_type": "markdown",
   "metadata": {
    "slideshow": {
     "slide_type": "subslide"
    }
   },
   "source": [
    "### Let's let this sink in for a minute\n",
    "\n",
    "We're using the notation $\n",
    "{\\bf r}^N$ as shorthand to refer to the x, y, and z positions of all of the particles in a system. This is actually an array, or a matrix, of particle coordinates:\n",
    "\n",
    "\\begin{equation}\n",
    "{\\bf r}^N=\n",
    "\\begin{bmatrix}\n",
    "1 & 3 & 2 \\\\\n",
    "-1 & 3 & -1 \\\\\n",
    "\\end{bmatrix}\n",
    "\\end{equation}\n",
    "\n",
    "Each row of that matrix has the x, y, and z coordinates of an atom in the system. **We will use this concept heavily in the Energy Minimization assignment*."
   ]
  },
  {
   "cell_type": "markdown",
   "metadata": {
    "slideshow": {
     "slide_type": "slide"
    }
   },
   "source": [
    "## Forces are properties of energy landscapes, too\n",
    "\n",
    "The force is the slope (technically, gradient):\n",
    "\n",
    "$f_{x,i} = -\\frac{\\partial U({\\bf r^N})}{\\partial x_i}$, $f_{y,i} = -\\frac{\\partial U({\\bf r^N})}{\\partial y_i}$, $f_{z,i} = -\\frac{\\partial U({\\bf r^N})}{\\partial z_i}$\n",
    "\n",
    "As shorthand, this may be written ${\\bf f}^N = -\\frac{\\partial U({\\bf r^N})}{\\partial {\\bf r^N}}$ or ${\\bf f}^N = -\\nabla \\cdot U({\\bf r^N})$ where the result, ${\\bf f}^N$, is an Nx3 array (matrix, if you prefer)\n",
    "\n",
    "If energy function is pairwise additive, can evaluate via summing individual interactions -- force on atom k is \n",
    "\\begin{equation}\n",
    "{\\bf f}_k = \\sum_{j\\neq k} \\frac{ {\\bf r}_{kj}}{r_{kj}}  \\frac{\\partial}{\\partial r_{kj}} U(r_{kj})\n",
    "\\end{equation} where ${\\bf r_{kj}} = {\\bf r}_j - {\\bf r_k}$. Note not all force calculations are necessary: ${\\bf f}_{kj} = -{\\bf f}_{jk}$"
   ]
  },
  {
   "cell_type": "markdown",
   "metadata": {
    "slideshow": {
     "slide_type": "slide"
    }
   },
   "source": [
    "## The matrix of second derivatives is called the Hessian and distinguishes minima from saddle points\n",
    "\n",
    "\n",
    "\n",
    "\\begin{equation}\n",
    "{\\bf H}({\\bf r}^N)=\n",
    "\\begin{bmatrix}\n",
    "\\frac{d^2 U({\\bf r^N}) }{ d x_1^2} & \\frac{d^2 U({\\bf r^N}) }{ dx_1 d y_1} & ... & \\frac{d^2 U({\\bf r^N}) }{ dx_1 d z_1} \\\\\n",
    "\\frac{d^2 U({\\bf r^N}) }{ d y_1 d x_1} & \\frac{d^2 U({\\bf r^N}) }{ d y_1^2} & ... & \\frac{d^2 U({\\bf r^N}) }{ dy_1 d z_N}\\\\\n",
    "... & ... & ... & ... \\\\\n",
    "\\frac{d^2 U({\\bf r^N}) }{ d z_N d x_1} & \\frac{d^2 U({\\bf r^N}) }{ d z_N d y_1} & ... & \\frac{d^2 U({\\bf r^N}) }{ dz_N^2}\\\\\n",
    "\\end{bmatrix}\n",
    "\\end{equation}"
   ]
  },
  {
   "cell_type": "markdown",
   "metadata": {
    "collapsed": true,
    "slideshow": {
     "slide_type": "subslide"
    }
   },
   "source": [
    "## Types of stationary points can be distiguished from derivatives\n",
    "\n",
    "- Stationary points have zero force on each particle: $ \\nabla \\cdot U({\\bf r^N}) = {\\bf 0}$\n",
    "- These can be minima or maxima\n",
    "- Minima have negative curvature in all directions (restoring force is towards the minimum)\n"
   ]
  },
  {
   "cell_type": "markdown",
   "metadata": {
    "slideshow": {
     "slide_type": "slide"
    }
   },
   "source": [
    "## Energy landscapes have *lots* of minima\n",
    "\n",
    "For an Lennard-Jones 38 cluster:\n",
    "<div style=\"float: right\">\n",
    "    <img src=\"images/dgraph_lj38.png\" alt=\"disconnectivity\" style=\"width: 600px;\" align=\"right\"/>\n",
    "</div>\n",
    "\n",
    "See also Doye, Miller, and Wales, J. Chem. Phys. 111: 8417 (1999)\n",
    "\n",
    "- They have a disconnectivity graph shows minima for 13 LJ atoms\n",
    "- To move between two minima, have to go to point where lines from two minima reach same energy\n",
    "- 1467 distinct minima for 13 atoms!\n",
    "- This is a different system, more atoms, far more minima\n",
    "\n",
    "Note related [\"Python energy landscape explorer\" (PELE)](https://github.com/pele-python/pele)\n",
    "\n",
    "(Image source https://pele-python.github.io/pele/disconnectivity_graph.html, CC-BY license, by the Pele authors: https://github.com/pele-python/pele/graphs/contributors)"
   ]
  },
  {
   "cell_type": "markdown",
   "metadata": {
    "slideshow": {
     "slide_type": "skip"
    }
   },
   "source": [
    "Here's a bonus disconnectivity graph:"
   ]
  },
  {
   "cell_type": "markdown",
   "metadata": {
    "collapsed": true,
    "slideshow": {
     "slide_type": "skip"
    }
   },
   "source": [
    "\n",
    "\n",
    "<div style=\"float: right\">\n",
    "    <img src=\"images/Fedg.png\" alt=\"disconnectivity\" style=\"width: 600px;\" align=\"right\"/>\n",
    "</div>\n",
    "\n",
    "(Image source https://commons.wikimedia.org/wiki/File:Fedg.png#filelinks, by Snd0, CC-BY-SA 4.0)"
   ]
  },
  {
   "cell_type": "markdown",
   "metadata": {
    "slideshow": {
     "slide_type": "subslide"
    }
   },
   "source": [
    "## We care a lot about finding minima\n",
    "\n",
    "- As noted, gives a first guess about most stable states\n",
    "- Minima are stable structures, point of contact with experiment\n",
    "- Initial structures need to be relaxed so forces are not too large\n",
    "  - Remove strained bonds, atom overlaps\n",
    "- Minimization is really optimization:\n",
    "  - If you can find the minimum of $U$, you can find the minimum of $-U$\n",
    "  - Same techniques apply to other things, i.e. finding set of parameters that minimizes an error, etc."
   ]
  },
  {
   "cell_type": "markdown",
   "metadata": {
    "slideshow": {
     "slide_type": "subslide"
    }
   },
   "source": [
    "### Findining minima often becomes a numerical task, because analytical solutions become impractical very quickly\n",
    "\n",
    "Consider $U(x,y) = x^2 + (y-1)^2$ for a single particle in a two dimensional potential. Finding $\\nabla\\cdot U = 0$ yields:\n",
    "\n",
    "$2x = 0$ and $2(y-1)=0$ or $x=0$, $y=1$\n",
    "\n",
    "simple enough"
   ]
  },
  {
   "cell_type": "markdown",
   "metadata": {
    "slideshow": {
     "slide_type": "subslide"
    }
   },
   "source": [
    "But in general, N dimensions means N coupled, potentially nonlinear equations. Consider \n",
    "\\begin{equation}\n",
    "U = x^2 z^2 +x (y-1)^2 + xyz + 14y + z^3\n",
    "\\end{equation}\n",
    "Setting the derivatives to zero yields: \n",
    "\n",
    "$0 = 2xz^2 + (y-1)^2 +yz$\n",
    "\n",
    "$0 = 2x(y-1) + xz + 14$\n",
    "\n",
    "$0 = 2x^2z + xy + 3z^2$\n",
    "\n",
    "**Volunteers??** It can be solved, but not fun.\n",
    "\n",
    "**And this is just for a single particle in a 3D potential**, so we are typically forced to numerical minimizations, even when potential is analytic"
   ]
  },
  {
   "cell_type": "markdown",
   "metadata": {
    "slideshow": {
     "slide_type": "slide"
    }
   },
   "source": [
    "### Energy minimization is a sub-class of the more general problem of finding roots\n",
    "\n",
    "Common problem: For some $f(x)$, find values of $x$ for which $f(x)=0$\n",
    "\n",
    "Many equations can be re-cast this way. *i.e.*, if you need to solve $g(x) = 3$, define $f(x) = g(x)-3$ and find $x$ such that $f(x)=0$\n",
    "\n",
    "If $f(x)$ happens to be the force, this maps to energy minimization\n",
    "\n",
    "As a consequence: Algorithms used for energy minimization typically have broader application to finding roots"
   ]
  },
  {
   "cell_type": "markdown",
   "metadata": {
    "slideshow": {
     "slide_type": "slide"
    }
   },
   "source": [
    "### Let's check out a toy minimization problem to see how this would work\n",
    "Here we'll set up a simple function to represent an energy landscape in 1D, and play with energy minimizing on that landscape. "
   ]
  },
  {
   "cell_type": "code",
   "execution_count": 1,
   "metadata": {
    "slideshow": {
     "slide_type": "fragment"
    }
   },
   "outputs": [
    {
     "name": "stdout",
     "output_type": "stream",
     "text": [
      "Populating the interactive namespace from numpy and matplotlib\n"
     ]
    }
   ],
   "source": [
    "#Import pylab library we'll use\n",
    "import scipy.optimize\n",
    "#Get pylab ready for plotting in this notebook\n",
    "%pylab inline \n",
    "\n",
    "#Define a range of x values to look at in your plot \n",
    "xlower = -5 #Start search at xlower\n",
    "xupper = 5 #End search at xupper\n",
    "#Define a starting guess for the location of the minimum\n",
    "xstart = 0.01\n",
    "#Create an array of x values for our plot, starting with xlower \n",
    "#and running to xupper with step size 0.01\n",
    "xvals = np.arange( xlower, xupper, 0.01) "
   ]
  },
  {
   "cell_type": "code",
   "execution_count": 2,
   "metadata": {
    "slideshow": {
     "slide_type": "subslide"
    }
   },
   "outputs": [],
   "source": [
    "#Define and the function f we want to minimize\n",
    "def f(x):\n",
    "    return 10*np.cos(x)+x**2-3.\n",
    "#Store function values at those x values for our plot\n",
    "fvals = f(xvals)\n",
    "\n",
    "#Do our minimization (\"line search\" of sorts), store results to 'res'\n",
    "res = scipy.optimize.minimize(f, xstart) # Apply canned minimization algorithm from scipy"
   ]
  },
  {
   "cell_type": "code",
   "execution_count": 3,
   "metadata": {
    "slideshow": {
     "slide_type": "subslide"
    }
   },
   "outputs": [
    {
     "data": {
      "text/plain": [
       "Text(0, 0.5, 'f(x)')"
      ]
     },
     "execution_count": 3,
     "metadata": {},
     "output_type": "execute_result"
    },
    {
     "data": {
      "image/png": "[encoded data removed]",
      "text/plain": [
       "<Figure size 432x288 with 1 Axes>"
      ]
     },
     "metadata": {
      "needs_background": "light"
     },
     "output_type": "display_data"
    }
   ],
   "source": [
    "#Make a plot of our function over the specified range\n",
    "plot(xvals, fvals, 'k-') #Use a black line to show the function\n",
    "plot(res.x, f(res.x), 'bo') #Add the identified minimum to the plot as a blue circle\n",
    "plot(xstart, f(xstart), 'ro') #Add starting point as red circle\n",
    "\n",
    "#Add axis labels\n",
    "xlabel('x')\n",
    "ylabel('f(x)')"
   ]
  },
  {
   "cell_type": "markdown",
   "metadata": {
    "slideshow": {
     "slide_type": "subslide"
    }
   },
   "source": [
    "### Sandbox section\n",
    "\n",
    "Try adjusting the above to explore what happens if you alter the starting conditions or the energy landscape or both. You might try:\n",
    "- Change the starting point (`xstart`) so it is slightly to the left or slightly to the right\n",
    "- Change the starting point so it is far up the wall to the left or the right\n",
    "- Change the energy landscape to alter its shape, perhaps adding a term proportional to `+x`. Can you make it so one of the wells is a local minimum, perhaps by altering the coefficient of this term? \n",
    "- If you adjust the starting point further, can you make the blue ball get stuck in a local minimum? Can you make it so it still finds the global minimum? "
   ]
  },
  {
   "cell_type": "markdown",
   "metadata": {
    "slideshow": {
     "slide_type": "slide"
    }
   },
   "source": [
    "## Steepest descents is a simple minimization algorithm that always steps as far as possible along the direction of the force\n",
    "Take ${\\bf f}^N = -\\frac{\\partial U({\\bf r}^N)}{\\partial {\\bf r}^N}$, then:\n",
    "1. Move in direction of last force until the minimum *in that direction* is found\n",
    "2. Compute new ${\\bf f}_i^N $ for iteration $i$, perpendicular to previous force\n",
    "\n",
    "<div style=\"float: right\">\n",
    "    <img src=\"images/steepest_descent.svg\" alt=\"GitHub\" style=\"width: 300px;\" align=\"right\"/>\n",
    "</div>\n",
    "Repeat until minimum is found\n",
    "\n",
    "**Limitations**: \n",
    "\n",
    "Oscillates in narrow valleys; slow near minimum."
   ]
  },
  {
   "cell_type": "markdown",
   "metadata": {
    "slideshow": {
     "slide_type": "subslide"
    }
   },
   "source": [
    "### Reminder: Here we're using vector notation for forces and positions\n",
    "\n",
    "${\\bf f}^N$ is the force on all of the atoms, as an array, where each row of the array is the force vector on that atom.\n",
    "\n",
    "$U({\\bf r}^N)$ is the potential energy, as a function of the positions of all of the atoms.\n",
    "\n",
    "These use the same vector and array notation we introdued above for ${\\bf r}^N$."
   ]
  },
  {
   "cell_type": "markdown",
   "metadata": {
    "slideshow": {
     "slide_type": "subslide"
    }
   },
   "source": [
    "<div style=\"float: right\">\n",
    "    <img src=\"images/steepest_descent.svg\" alt=\"GitHub\" style=\"width: 700px;\" align=\"right\"/>\n",
    "</div>"
   ]
  },
  {
   "cell_type": "markdown",
   "metadata": {
    "slideshow": {
     "slide_type": "subslide"
    }
   },
   "source": [
    "### Steepest descents oscillates in narrow valleys and is slow near the minimum\n",
    "<div style=\"float: center\">\n",
    "    <img src=\"images/Banana-SteepDesc.gif\" style=\"width: 600px;\" align=\"center\"/>\n",
    "</div>\n",
    "\n",
    "(Illustration, P.A. Simonescu, [Wikipedia](https://en.wikipedia.org/wiki/Gradient_descent#/media/File:Banana-SteepDesc.gif), [CC-BY-SA](https://creativecommons.org/licenses/by-sa/3.0/))"
   ]
  },
  {
   "cell_type": "markdown",
   "metadata": {
    "slideshow": {
     "slide_type": "subslide"
    }
   },
   "source": [
    "### Another illustration further highlights this\n",
    "\n",
    "(In this case, steepest *ascents*, but it's just the negative...)\n",
    "<div style=\"float: left\">\n",
    "    <img src=\"images/gradient_ascent_contour.png\" style=\"width: 400px;\" align=\"left\"/>\n",
    "</div>\n",
    "<div style=\"float: right\">\n",
    "    <img src=\"images/gradient_ascent_surface.png\" style=\"width: 500px;\" align=\"right\"/>\n",
    "</div>\n"
   ]
  },
  {
   "cell_type": "markdown",
   "metadata": {
    "slideshow": {
     "slide_type": "skip"
    }
   },
   "source": [
    "(Images public domain: [source](https://upload.wikimedia.org/wikipedia/commons/d/db/Gradient_ascent_%28contour%29.png), [source](https://upload.wikimedia.org/wikipedia/commons/6/68/Gradient_ascent_%28surface%29.png))"
   ]
  },
  {
   "cell_type": "markdown",
   "metadata": {
    "slideshow": {
     "slide_type": "slide"
    }
   },
   "source": [
    "## A line search can make many minimization methods more efficient\n",
    "\n",
    "A line search is an efficient way to find a minimum along a particular direction\n",
    "- Line search: Bracket minimum\n",
    "  - Start with initial set of coordinates ${\\bf r}$ and search direction ${\\bf v}$ that is downhill\n",
    "  - Generate pairs of points a distance $d$ and $2d$ along the line (${\\bf r} + d{\\bf v}, {\\bf r}+2d{\\bf v}$)\n",
    "     1. If the energy at the further point is higher than the energy at the nearer point, stop\n",
    "     2. Otherwise, move the pair of points $d$ further along the line and go back to 1."
   ]
  },
  {
   "cell_type": "markdown",
   "metadata": {
    "slideshow": {
     "slide_type": "subslide"
    }
   },
   "source": [
    "### To finish a line search, identify the minimum precisely\n",
    "\n",
    "- Fit a quadratic to our 3 points (initial, and two bracket points)\n",
    "- Guess that minimum is at the zero of the quadratic, call this point 4.\n",
    "- Fit a new quadratic using points 2, 3, and 4, and move to the zero.\n",
    "- Repeat until the energy stops changing within a given tolerance"
   ]
  },
  {
   "cell_type": "markdown",
   "metadata": {
    "slideshow": {
     "slide_type": "slide"
    }
   },
   "source": [
    "## To do better than steepest descents, let's consider its pros and cons\n",
    "\n",
    "<div style=\"float: right\">\n",
    "    <img src=\"images/gradient_ascent_contour.png\" style=\"width: 550px;\" align=\"right\"/>\n",
    "</div>\n",
    "\n",
    "- Good to go in steepest direction initially \n",
    "- It’s a good idea to move downhill\n",
    "- It is initially very fast (see Leach Table 5.1)\n",
    "- But steepest descent overcorrects \n"
   ]
  },
  {
   "cell_type": "markdown",
   "metadata": {
    "slideshow": {
     "slide_type": "slide"
    }
   },
   "source": [
    "## SciPy does't implement steepest descents because of these issues\n",
    "SciPy has lots of functions and tools for [optimization](https://docs.scipy.org/doc/scipy/reference/optimize.html), but it doesn't even implement steepest descents because of poor reliability.\n",
    "However, the `Nelder-Mead` minimization method applies a downhill simplex method which also is less than ideal, so let's play around with that a bit. First, let's make a suitable landscape:"
   ]
  },
  {
   "cell_type": "code",
   "execution_count": 14,
   "metadata": {
    "collapsed": true,
    "slideshow": {
     "slide_type": "subslide"
    }
   },
   "outputs": [],
   "source": [
    "#Define and the function f we want to minimize\n",
    "def f(arr):\n",
    "    return 10*np.cos(arr[0])+arr[0]**2-3.+arr[1]**2\n",
    "\n",
    "#Define a range of x, y values to look at in your plot \n",
    "# NOTE IF YOU WANT TO ADJUST THESE YOU NEED TO RE-RUN ALL THREE CELLS (shift-enter)\n",
    "xlower, ylower = -5, -5 #Start search at xlower and yupper\n",
    "xupper, yupper = 5, 5 #End search at xupper and yupper\n",
    "#Define a starting guess for the location of the minimum\n",
    "xstart, ystart = -1.0, 1.0\n",
    "#Create an array of coordinates for our plot\n",
    "xvals = np.arange( xlower, xupper, 0.01) \n",
    "yvals = np.arange( ylower, yupper, 0.01)\n",
    "\n",
    "# Make a grid of x and y values\n",
    "xx, yy = np.meshgrid(xvals, yvals)"
   ]
  },
  {
   "cell_type": "code",
   "execution_count": 15,
   "metadata": {
    "slideshow": {
     "slide_type": "subslide"
    }
   },
   "outputs": [
    {
     "data": {
      "image/png": "[encoded data removed]",
      "text/plain": [
       "<matplotlib.figure.Figure at 0x117501b38>"
      ]
     },
     "metadata": {},
     "output_type": "display_data"
    }
   ],
   "source": [
    "#Store function values at those x and y values for our plot\n",
    "fvals = f(np.array([xx,yy]))\n",
    "\n",
    "colors = np.linspace(0,1,len(xx))\n",
    "#Create 9''x7'' figure\n",
    "plt.figure(figsize=(9, 7))\n",
    "#Plot the Energy Landscape with a colorbar to the side\n",
    "plt.contourf(xvals, yvals, fvals, 10)\n",
    "plt.colorbar()\n",
    "plt.show()"
   ]
  },
  {
   "cell_type": "code",
   "execution_count": 16,
   "metadata": {
    "slideshow": {
     "slide_type": "subslide"
    }
   },
   "outputs": [
    {
     "data": {
      "text/plain": [
       "[<matplotlib.lines.Line2D at 0x1186d1438>]"
      ]
     },
     "execution_count": 16,
     "metadata": {},
     "output_type": "execute_result"
    },
    {
     "data": {
      "image/png": "[encoded data removed]",
      "text/plain": [
       "<matplotlib.figure.Figure at 0x1119545f8>"
      ]
     },
     "metadata": {},
     "output_type": "display_data"
    }
   ],
   "source": [
    "res = scipy.optimize.minimize(f, np.array((xstart,ystart)), method='Nelder-Mead', options={'return_all':True})\n",
    "\n",
    "plt.figure(figsize=(9, 7))\n",
    "plt.contourf(xvals, yvals, fvals, 10)\n",
    "plt.colorbar()\n",
    "\n",
    "# Plot path of minimization\n",
    "xvals = [ entry[0] for entry in res.allvecs ]\n",
    "yvals = [ entry[1] for entry in res.allvecs ]\n",
    "\n",
    "colors = np.linspace(0,1,len(xvals))\n",
    "plt.scatter(xvals, yvals, c=colors, cmap='spring', s=5, marker = \"o\")\n",
    "plt.plot(xvals, yvals, 'm-')"
   ]
  },
  {
   "cell_type": "markdown",
   "metadata": {
    "slideshow": {
     "slide_type": "subslide"
    }
   },
   "source": [
    "## Conjugate gradient (CG) works like steepest descent but chooses a different direction\n",
    "\n",
    "- Start with an initial direction ${\\bf v}$ that is downhill, move in that direction until a minimum is reached.\n",
    "\n",
    "- Compute a new direction using ${\\bf v}_i = {\\bf f}^N_i + \\gamma_i {\\bf v}_{i-1}^N$ where $\\gamma_i = \\frac{({\\bf f}^N_i-{\\bf f}^N_{i-1}){\\bf f}^N_i}{{\\bf f}^N_{i-1} {\\bf f}^N_{i-1}}$; note $\\gamma_i$ is a scalar.\n",
    "\n",
    "Note that by ${\\bf f}^N {\\bf f}^N$ we mean vector multiplication, not a matrix multiplication; that is:\n",
    "\\begin{equation}\n",
    "{\\bf f}^N {\\bf f}^N = f^2_{x,1} + f^2_{y,1} + f^2_{z,1} + f^2_{x,2} + ... + f^2_{z, N}\n",
    "\\end{equation}\n",
    "\n",
    "(In Python, this can be coded by multiplying ${\\bf f}\\times {\\bf f}$, where ${\\bf f}$ are arrays, and taking the sum of the result; for normal matrix multiplication of arrays one would use a dot product)"
   ]
  },
  {
   "cell_type": "markdown",
   "metadata": {
    "slideshow": {
     "slide_type": "subslide"
    }
   },
   "source": [
    "$\\gamma_i$ is designed so that the new direction is *conjugate* to the old direction so that the new step does not undo any of the work done by the old step (causing oscillation)"
   ]
  },
  {
   "cell_type": "markdown",
   "metadata": {
    "slideshow": {
     "slide_type": "slide"
    }
   },
   "source": [
    "### Conjugate gradient (CG) is more efficient\n",
    "\n",
    "<div style=\"float: right\">\n",
    "    <img src=\"images/conjugate_gradient_illustration.svg\" style=\"width: 300px;\" align=\"right\"/>\n",
    "</div>\n",
    "- Green: Steepest descent (with optimal step size)\n",
    "- Red: Conjugate gradient\n",
    "\n",
    "Ideally takes at most $M$ steps, where $M$ is the number of degrees of freedom, often $3N$, though in practice even small precision errors make it take longer than this.\n",
    "\n",
    "\n",
    "(Image: [Wikipedia](https://en.wikipedia.org/wiki/Conjugate_gradient_method#/media/File:Conjugate_gradient_illustration.svg), public domain. Oleg Alexandrov.) "
   ]
  },
  {
   "cell_type": "markdown",
   "metadata": {
    "slideshow": {
     "slide_type": "subslide"
    }
   },
   "source": [
    "## Let's look at a CG example"
   ]
  },
  {
   "cell_type": "code",
   "execution_count": 4,
   "metadata": {
    "slideshow": {
     "slide_type": "fragment"
    }
   },
   "outputs": [],
   "source": [
    "#Define and the function f we want to minimize\n",
    "def f(arr):\n",
    "    return 10*np.cos(arr[0])+arr[0]**2-3.+arr[1]**2\n",
    "\n",
    "#Define a range of x, y values to look at in your plot \n",
    "# NOTE IF YOU WANT TO ADJUST THESE YOU NEED TO RE-RUN ALL THREE CELLS (shift-enter)\n",
    "xlower, ylower = -5, -5 #Start search at xlower and yupper\n",
    "xupper, yupper = 5, 5 #End search at xupper and yupper\n",
    "#Define a starting guess for the location of the minimum\n",
    "xstart, ystart = -1.0, 1.0\n",
    "#Create an array of coordinates for our plot\n",
    "xvals = np.arange( xlower, xupper, 0.01) \n",
    "yvals = np.arange( ylower, yupper, 0.01)\n",
    "\n",
    "# Make a grid of x and y values\n",
    "xx, yy = np.meshgrid(xvals, yvals)\n",
    "\n",
    "#Store function values at those x and y values for our plot\n",
    "fvals = f(np.array([xx,yy]))\n",
    "\n",
    "colors = np.linspace(0,1,len(xx))"
   ]
  },
  {
   "cell_type": "code",
   "execution_count": 5,
   "metadata": {
    "slideshow": {
     "slide_type": "subslide"
    }
   },
   "outputs": [],
   "source": [
    "res = scipy.optimize.minimize(f, np.array((xstart,ystart)), method='CG', options={'return_all':True})"
   ]
  },
  {
   "cell_type": "code",
   "execution_count": 6,
   "metadata": {
    "slideshow": {
     "slide_type": "subslide"
    }
   },
   "outputs": [
    {
     "data": {
      "text/plain": [
       "[<matplotlib.lines.Line2D at 0x11dbbe250>]"
      ]
     },
     "execution_count": 6,
     "metadata": {},
     "output_type": "execute_result"
    },
    {
     "data": {
      "image/png": "[encoded data removed]",
      "text/plain": [
       "<Figure size 648x504 with 2 Axes>"
      ]
     },
     "metadata": {
      "needs_background": "light"
     },
     "output_type": "display_data"
    }
   ],
   "source": [
    "plt.figure(figsize=(9, 7))\n",
    "plt.contourf(xvals, yvals, fvals, 10)\n",
    "plt.colorbar()\n",
    "\n",
    "# Plot path of minimization\n",
    "xvals = [ entry[0] for entry in res.allvecs ]\n",
    "yvals = [ entry[1] for entry in res.allvecs ]\n",
    "\n",
    "colors = np.linspace(0,1,len(xvals))\n",
    "plt.scatter(xvals, yvals, c=colors, cmap='spring', s=5, marker = \"o\")\n",
    "plt.plot(xvals, yvals, 'm-')"
   ]
  },
  {
   "cell_type": "markdown",
   "metadata": {
    "slideshow": {
     "slide_type": "slide"
    }
   },
   "source": [
    "## More advanced minimization methods can have considerable advantages\n",
    "\n",
    "- Newton-Raphson: Based on Taylor expansion of potential around zero\n",
    "  - reaches minimum in one step for quadratic potentials\n",
    "  - converges to minima and saddle points, so requires initial moves to reach minima\n",
    "  - slow because requires Hessian at every step\n",
    "- Quasi-Newton methods approximate the Hessian to go faster\n",
    "  - L-BFGS is a popular quasi-Newton method"
   ]
  },
  {
   "cell_type": "code",
   "execution_count": 7,
   "metadata": {
    "slideshow": {
     "slide_type": "subslide"
    }
   },
   "outputs": [],
   "source": [
    "#Define and the function f we want to minimize\n",
    "def f(arr):\n",
    "    return 10*np.cos(arr[0])+arr[0]**2-3.+arr[1]**2\n",
    "\n",
    "#Define a range of x, y values to look at in your plot \n",
    "xlower, ylower = -5, -5 #Start search at xlower and yupper\n",
    "xupper, yupper = 5, 5 #End search at xupper and yupper\n",
    "#Define a starting guess for the location of the minimum\n",
    "xstart, ystart = -0.1, 1.0\n",
    "#Create an array of coordinates for our plot\n",
    "xvals = np.arange( xlower, xupper, 0.01) \n",
    "yvals = np.arange( ylower, yupper, 0.01)\n",
    "\n",
    "xx, yy = np.meshgrid(xvals, yvals)\n",
    "\n",
    "#Store function values at those x and y values for our plot\n",
    "fvals = f(np.array([xx,yy]))"
   ]
  },
  {
   "cell_type": "code",
   "execution_count": 8,
   "metadata": {
    "slideshow": {
     "slide_type": "subslide"
    }
   },
   "outputs": [
    {
     "data": {
      "text/plain": [
       "[<matplotlib.lines.Line2D at 0x125f70710>]"
      ]
     },
     "execution_count": 8,
     "metadata": {},
     "output_type": "execute_result"
    },
    {
     "data": {
      "image/png": "[encoded data removed]",
      "text/plain": [
       "<Figure size 648x504 with 2 Axes>"
      ]
     },
     "metadata": {
      "needs_background": "light"
     },
     "output_type": "display_data"
    }
   ],
   "source": [
    "res = scipy.optimize.minimize(f, np.array((xstart,ystart)), method='BFGS', options={'return_all':True})\n",
    "\n",
    "plt.figure(figsize=(9, 7))\n",
    "plt.contourf(xvals, yvals, fvals, 10)\n",
    "plt.colorbar()\n",
    "\n",
    "xvals = [ entry[0] for entry in res.allvecs ]\n",
    "yvals = [ entry[1] for entry in res.allvecs ]\n",
    "\n",
    "colors = np.linspace(0,1,len(xvals))\n",
    "plt.scatter(xvals, yvals, c=colors, cmap='spring', s=5, marker = \"o\")\n",
    "plt.plot(xvals, yvals, 'm-')"
   ]
  },
  {
   "cell_type": "markdown",
   "metadata": {
    "slideshow": {
     "slide_type": "slide"
    }
   },
   "source": [
    "## Locating global minima is challenging and often involves combination of techniques\n",
    "\n",
    "- Need some way to cross barriers, in addition to minimization\n",
    "- Often combine techniques\n",
    "  - i.e. Molecular Dynamics or Monte Carlo + minimization\n",
    "- Normal mode analysis can be used to identify collective motions\n",
    "  - Once identified, system can be moved in those directions"
   ]
  },
  {
   "cell_type": "markdown",
   "metadata": {
    "slideshow": {
     "slide_type": "subslide"
    }
   },
   "source": [
    "### When the number of dimensions is small, global minima can be found by repeated trials\n",
    "\n",
    "One can simply do lots of minimizations from random starting points and find the global minimum sometimes, if there are not too many minima in total. See e.g. this [local and global minima](http://people.duke.edu/~ccc14/sta-663-2016/13_Optimization.html#Local-and-global-minima) discussion. \n",
    "\n",
    "As an exercise, you might try to find the global minimum of this function by picking random starting points and minimizing many times (for solutions, see that link):"
   ]
  },
  {
   "cell_type": "code",
   "execution_count": 9,
   "metadata": {
    "slideshow": {
     "slide_type": "subslide"
    }
   },
   "outputs": [
    {
     "data": {
      "image/png": "[encoded data removed]",
      "text/plain": [
       "<Figure size 432x288 with 1 Axes>"
      ]
     },
     "metadata": {
      "needs_background": "light"
     },
     "output_type": "display_data"
    }
   ],
   "source": [
    "def f(x, offset):\n",
    "    return -np.sinc(x-offset)\n",
    "x = np.linspace(-20, 20, 100)\n",
    "plt.plot(x, f(x, 5));"
   ]
  },
  {
   "cell_type": "code",
   "execution_count": null,
   "metadata": {},
   "outputs": [],
   "source": []
  }
 ],
 "metadata": {
  "celltoolbar": "Slideshow",
  "kernelspec": {
   "display_name": "Python (drugcomp)",
   "language": "python",
   "name": "drugcomp"
  },
  "language_info": {
   "codemirror_mode": {
    "name": "ipython",
    "version": 3
   },
   "file_extension": ".py",
   "mimetype": "text/x-python",
   "name": "python",
   "nbconvert_exporter": "python",
   "pygments_lexer": "ipython3",
   "version": "3.7.6"
  },
  "livereveal": {
   "height": 900,
   "start_slideshow_at": "selected",
   "width": 1440
  },
  "toc": {
   "nav_menu": {},
   "number_sections": true,
   "sideBar": true,
   "skip_h1_title": false,
   "toc_cell": false,
   "toc_position": {},
   "toc_section_display": "block",
   "toc_window_display": false
  }
 },
 "nbformat": 4,
 "nbformat_minor": 2
}
